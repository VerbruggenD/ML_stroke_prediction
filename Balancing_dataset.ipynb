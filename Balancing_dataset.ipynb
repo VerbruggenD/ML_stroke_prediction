{
 "cells": [
  {
   "cell_type": "markdown",
   "id": "b4da50cc",
   "metadata": {},
   "source": [
    "# ML stroke prediction - Logistic Regression\n",
    "dataset link: https://www.kaggle.com/datasets/fedesoriano/stroke-prediction-dataset?resource=download\n",
    "\n",
    "## Classification of stroke or no-stroke\n",
    "\n",
    "For the first implementation of Machine Learning on this dataset we are using Logistic Regression"
   ]
  },
  {
   "cell_type": "code",
   "execution_count": 1,
   "id": "f961d9e5",
   "metadata": {},
   "outputs": [],
   "source": [
    "# used for manipulating directory paths\n",
    "import os\n",
    "\n",
    "# Scientific and vector computation for python\n",
    "import numpy as np\n",
    "np.set_printoptions(suppress=True)\n",
    "\n",
    "import csv\n",
    "import sys\n",
    "\n",
    "# Plotting library\n",
    "from matplotlib import pyplot\n",
    "\n",
    "# Optimization module in scipy\n",
    "from scipy import optimize\n",
    "\n",
    "# will be used to load MATLAB mat datafile format\n",
    "from scipy.io import loadmat\n",
    "\n",
    "# we use pandas to import a comma-seperated values dataset\n",
    "import pandas as pd\n",
    "\n",
    "# tells matplotlib to embed plots within the notebook\n",
    "%matplotlib inline"
   ]
  },
  {
   "cell_type": "markdown",
   "id": "a2695bf3",
   "metadata": {},
   "source": [
    "### First importing the dataset and small conversions\n",
    "\n",
    "For the first implementation we're just using a limited set of features for the model."
   ]
  },
  {
   "cell_type": "code",
   "execution_count": 2,
   "id": "a7cd6fae",
   "metadata": {},
   "outputs": [
    {
     "name": "stdout",
     "output_type": "stream",
     "text": [
      "       age  hypertension  heart_disease  avg_glucose_level  stroke\n",
      "0     67.0             0              1             228.69       1\n",
      "1     61.0             0              0             202.21       1\n",
      "2     80.0             0              1             105.92       1\n",
      "3     49.0             0              0             171.23       1\n",
      "4     79.0             1              0             174.12       1\n",
      "...    ...           ...            ...                ...     ...\n",
      "5105  80.0             1              0              83.75       0\n",
      "5106  81.0             0              0             125.20       0\n",
      "5107  35.0             0              0              82.99       0\n",
      "5108  51.0             0              0             166.29       0\n",
      "5109  44.0             0              0              85.28       0\n",
      "\n",
      "[5110 rows x 5 columns]\n"
     ]
    }
   ],
   "source": [
    "#  training data stored in arrays X, y\n",
    "#df = pd.read_csv(os.path.join('data', 'healthcare-dataset-stroke-data.csv'))\n",
    "#X = pd.DataFrame(df, columns=['age', 'hypertension', 'heart_disease', 'avg_glucose_level']).to_numpy()\n",
    "#X = np.around(X, 5)\n",
    "#print(\"X: \")\n",
    "#print(X)\n",
    "\n",
    "#y = pd.DataFrame(df, columns=['stroke']).to_numpy()\n",
    "#y = np.around(y, 5)\n",
    "#y.reshape(5110)\n",
    "#print(\"y: \")\n",
    "#print(y)\n",
    " \n",
    "data = pd.read_csv(os.path.join('data', 'healthcare-dataset-stroke-data.csv'))\n",
    "\n",
    "data.head(10)\n",
    "\n",
    "data.drop(\"id\", axis = 1, inplace = True)\n",
    "data.drop(\"gender\", axis = 1, inplace = True)\n",
    "data.drop(\"ever_married\", axis = 1, inplace = True)\n",
    "data.drop(\"work_type\", axis = 1, inplace = True)\n",
    "data.drop(\"Residence_type\", axis = 1, inplace = True)\n",
    "data.drop(\"bmi\", axis = 1, inplace = True)\n",
    "data.drop(\"smoking_status\", axis = 1, inplace = True)\n",
    "\n",
    "print(data)"
   ]
  },
  {
   "cell_type": "markdown",
   "id": "42e0e72e",
   "metadata": {},
   "source": [
    "The sigmoid function copied from excersise 2. Could be copied later on to a 'library'."
   ]
  },
  {
   "cell_type": "code",
   "execution_count": 16,
   "id": "9f215fc6",
   "metadata": {},
   "outputs": [
    {
     "name": "stdout",
     "output_type": "stream",
     "text": [
      "[[ 59.     0.     0.   200.62   1.  ]\n",
      " [ 70.     1.     0.   242.52   1.  ]\n",
      " [ 69.     0.     0.    93.81   1.  ]\n",
      " [ 79.     0.     0.   114.77   1.  ]\n",
      " [  3.     0.     0.    95.12   0.  ]\n",
      " [ 58.     1.     0.    87.96   0.  ]\n",
      " [  8.     0.     0.   110.89   0.  ]\n",
      " [ 70.     0.     0.    69.04   0.  ]\n",
      " [ 14.     0.     0.   161.28   0.  ]\n",
      " [ 47.     0.     0.   210.95   0.  ]]\n",
      "199\n",
      "199\n"
     ]
    }
   ],
   "source": [
    "counter_stroke = 0\n",
    "counter_non_stroke = 0\n",
    "data_balanced = np.zeros((398,5))\n",
    "#print(data_balanced.shape)\n",
    "data_balanced[0:199] = data[0:199]\n",
    "data_balanced[199:398] = data[249:448]\n",
    "print(data_balanced[195:205])\n",
    "for i in range(398):\n",
    "    if data_balanced[i, 4] == 1:\n",
    "        counter_stroke += 1\n",
    "    else:\n",
    "        counter_non_stroke += 1\n",
    "        \n",
    "print(counter_stroke)\n",
    "print(counter_non_stroke)"
   ]
  },
  {
   "cell_type": "code",
   "execution_count": 17,
   "id": "233cdeca",
   "metadata": {},
   "outputs": [
    {
     "name": "stdout",
     "output_type": "stream",
     "text": [
      "Xshape: \n",
      "(5110, 4)\n",
      "Yshape: \n",
      "(5110,)\n",
      "X: \n",
      "[[ 67.     0.     1.   228.69]\n",
      " [ 61.     0.     0.   202.21]\n",
      " [ 80.     0.     1.   105.92]\n",
      " ...\n",
      " [ 35.     0.     0.    82.99]\n",
      " [ 51.     0.     0.   166.29]\n",
      " [ 44.     0.     0.    85.28]]\n",
      "y: \n",
      "[1 1 1 ... 0 0 0]\n"
     ]
    }
   ],
   "source": [
    "X = data.drop(['stroke'], axis=1).values\n",
    "y = data['stroke'].values\n",
    "\n",
    "print(\"Xshape: \")\n",
    "print(X.shape)\n",
    "print(\"Yshape: \")\n",
    "print(y.shape)\n",
    "\n",
    "print(\"X: \")\n",
    "print(X)\n",
    "\n",
    "print(\"y: \")\n",
    "print(y)"
   ]
  },
  {
   "cell_type": "code",
   "execution_count": null,
   "id": "b090a315",
   "metadata": {},
   "outputs": [],
   "source": []
  }
 ],
 "metadata": {
  "kernelspec": {
   "display_name": "Python 3 (ipykernel)",
   "language": "python",
   "name": "python3"
  },
  "language_info": {
   "codemirror_mode": {
    "name": "ipython",
    "version": 3
   },
   "file_extension": ".py",
   "mimetype": "text/x-python",
   "name": "python",
   "nbconvert_exporter": "python",
   "pygments_lexer": "ipython3",
   "version": "3.9.12"
  },
  "vscode": {
   "interpreter": {
    "hash": "397704579725e15f5c7cb49fe5f0341eb7531c82d19f2c29d197e8b64ab5776b"
   }
  }
 },
 "nbformat": 4,
 "nbformat_minor": 5
}
