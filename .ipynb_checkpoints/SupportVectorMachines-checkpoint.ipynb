{
 "cells": [
  {
   "cell_type": "code",
   "execution_count": 1,
   "id": "292fad0e",
   "metadata": {},
   "outputs": [],
   "source": [
    "# used for manipulating directory paths\n",
    "import os\n",
    "\n",
    "# Scientific and vector computation for python\n",
    "import numpy as np\n",
    "\n",
    "from sklearn.model_selection import train_test_split\n",
    "from sklearn.utils import resample\n",
    "\n",
    "# SKlearn for F1 score calculation\n",
    "from sklearn.metrics import f1_score\n",
    "\n",
    "# Plotting library\n",
    "from matplotlib import pyplot\n",
    "\n",
    "# Optimization module in scipy\n",
    "from scipy import optimize\n",
    "\n",
    "# we use pandas to import a comma-seperated values dataset\n",
    "import pandas as pd\n",
    "\n",
    "# will be used to load MATLAB mat datafile format\n",
    "from scipy.io import loadmat\n",
    "\n",
    "# library written for this exercise providing additional functions for assignment submission, and others\n",
    "import svm\n",
    "\n",
    "import logistic_regression as lr\n",
    "\n",
    "# tells matplotlib to embed plots within the notebook\n",
    "%matplotlib inline"
   ]
  },
  {
   "cell_type": "code",
   "execution_count": 2,
   "id": "9587ec08",
   "metadata": {},
   "outputs": [],
   "source": [
    "data = pd.read_csv(os.path.join('data', 'healthcare-dataset-stroke-data.csv'))\n",
    "\n",
    "data.head(10)\n",
    "\n",
    "data.drop(\"id\", axis = 1, inplace = True)\n",
    "data.drop(\"gender\", axis = 1, inplace = True)\n",
    "#data.drop(\"ever_married\", axis = 1, inplace = True)\n",
    "data.drop(\"work_type\", axis = 1, inplace = True)\n",
    "#data.drop(\"Residence_type\", axis = 1, inplace = True)\n",
    "data.drop(\"bmi\", axis = 1, inplace = True)\n",
    "#data.drop(\"smoking_status\", axis = 1, inplace = True)\n",
    "\n",
    "#indexAge = data[((data['age'] < 20) & (data['stroke'] == 1)) ].index  #find the indexes of outliers\n",
    "#data.drop(indexAge , inplace=True) # drop the outliers\n",
    "#indexGlucose = data[((data['avg_glucose_level'] > 220) & (data['stroke'] == 0)) ].index\n",
    "#data.drop(indexGlucose , inplace=True)"
   ]
  },
  {
   "cell_type": "code",
   "execution_count": null,
   "id": "548ef1e7",
   "metadata": {},
   "outputs": [],
   "source": [
    "data = data.dropna(axis = 0)"
   ]
  },
  {
   "cell_type": "markdown",
   "id": "26ee49b5",
   "metadata": {},
   "source": [
    "## Making dummy classes for the enumertor classes"
   ]
  },
  {
   "cell_type": "code",
   "execution_count": null,
   "id": "a3b3b24d",
   "metadata": {},
   "outputs": [],
   "source": [
    "num_cols = data.select_dtypes(include = [np.number]).columns.tolist()\n",
    "obj_cols = data.select_dtypes(exclude = [np.number]).columns.tolist()"
   ]
  },
  {
   "cell_type": "code",
   "execution_count": null,
   "id": "caaf716b",
   "metadata": {},
   "outputs": [],
   "source": [
    "# Numerical columns data\n",
    "data_new_num = data[num_cols]\n",
    "\n",
    "# Categorical columns data\n",
    "data_new_cat = data[obj_cols]\n",
    "\n",
    "# Creating dummies\n",
    "data_new_cat_dummies = pd.get_dummies(data_new_cat)\n",
    "print(data_new_cat_dummies.shape)\n",
    "data_new_cat_dummies.head()"
   ]
  },
  {
   "cell_type": "code",
   "execution_count": null,
   "id": "59c1496a",
   "metadata": {},
   "outputs": [],
   "source": [
    "data_new_final = pd.concat([data_new_num, data_new_cat_dummies], axis = 1)\n",
    "print(data_new_final.shape)\n",
    "data_new_final.head()"
   ]
  },
  {
   "cell_type": "code",
   "execution_count": null,
   "id": "92967f30",
   "metadata": {},
   "outputs": [],
   "source": []
  },
  {
   "cell_type": "code",
   "execution_count": 10,
   "id": "c8339c22",
   "metadata": {},
   "outputs": [
    {
     "data": {
      "text/plain": [
       "1    247\n",
       "0    247\n",
       "Name: stroke, dtype: int64"
      ]
     },
     "execution_count": 10,
     "metadata": {},
     "output_type": "execute_result"
    }
   ],
   "source": [
    "negative = data[data.stroke==0]\n",
    "positive = data[data.stroke==1]\n",
    "\n",
    "#print(data.stroke.value_counts())\n",
    "\n",
    "#print(negative.stroke.value_counts())\n",
    "#print(positive.stroke.value_counts())\n",
    "\n",
    "# downsample majority\n",
    "neg_downsampled = resample(negative,\n",
    " replace=True, # sample with replacement\n",
    " n_samples=len(positive), # match number in minority class\n",
    " random_state=27) # reproducible results\n",
    "# combine minority and downsampled majority\n",
    "downsampled = pd.concat([positive, neg_downsampled])\n",
    "# check new class counts\n",
    "downsampled.stroke.value_counts()"
   ]
  },
  {
   "cell_type": "code",
   "execution_count": 11,
   "id": "248e7225",
   "metadata": {},
   "outputs": [],
   "source": [
    "X = downsampled.drop(['stroke'], axis=1).values\n",
    "y = downsampled['stroke'].values"
   ]
  },
  {
   "cell_type": "code",
   "execution_count": 12,
   "id": "4102ac3f",
   "metadata": {},
   "outputs": [
    {
     "name": "stdout",
     "output_type": "stream",
     "text": [
      "(494, 4)\n"
     ]
    }
   ],
   "source": [
    "# Setup the data matrix appropriately, and add ones for the intercept term\n",
    "m, n = X.shape\n",
    "\n",
    "print(X.shape)\n",
    "\n",
    "# Add intercept term to X\n",
    "X = np.concatenate([np.ones((m, 1)), X], axis=1)\n",
    "\n",
    "X_train, X_test, y_train, y_test = train_test_split(X, y, test_size=0.20, random_state=0,shuffle=True, stratify=y)"
   ]
  },
  {
   "cell_type": "code",
   "execution_count": 13,
   "id": "67830876",
   "metadata": {},
   "outputs": [],
   "source": [
    "def gaussianKernel(x1, x2, sigma):\n",
    "    \"\"\"\n",
    "    Computes the radial basis function\n",
    "    Returns a radial basis function kernel between x1 and x2.\n",
    "    \n",
    "    Parameters\n",
    "    ----------\n",
    "    x1 :  numpy ndarray\n",
    "        A vector of size (n, ), representing the first datapoint.\n",
    "    \n",
    "    x2 : numpy ndarray\n",
    "        A vector of size (n, ), representing the second datapoint.\n",
    "    \n",
    "    sigma : float\n",
    "        The bandwidth parameter for the Gaussian kernel.\n",
    "\n",
    "    Returns\n",
    "    -------\n",
    "    sim : float\n",
    "        The computed RBF between the two provided data points.\n",
    "    \n",
    "    Instructions\n",
    "    ------------\n",
    "    Fill in this function to return the similarity between `x1` and `x2`\n",
    "    computed using a Gaussian kernel with bandwidth `sigma`.\n",
    "    \"\"\"\n",
    "    sim = 0\n",
    "    # ====================== YOUR CODE HERE ======================\n",
    "    sim = np.exp(-np.power(np.linalg.norm(x1 - x2),2)/(2 * np.power(sigma,2)))\n",
    "\n",
    "\n",
    "    # =============================================================\n",
    "    return sim"
   ]
  },
  {
   "cell_type": "code",
   "execution_count": 103,
   "id": "c2d795d1",
   "metadata": {},
   "outputs": [],
   "source": [
    "# SVM Parameters\n",
    "C = 0.8\n",
    "sigma = 2.4\n",
    "model = svm.svmTrain(X_train, y_train, C, gaussianKernel, args=(sigma,))\n",
    "#results = np.zeros(shape=(22, 22))\n",
    "#for x in range(21):\n",
    "#    results[0,x+1] = C\n",
    "#     C += 0.01\n",
    "# for x in range(21):\n",
    "#     results[x+1,0] = sigma\n",
    "#     sigma += 0.01\n",
    "# x = 1\n",
    "# y = 1\n",
    "# for C in np.arange(0.7,0.91,0.01):\n",
    "#     for sigma in np.arange(2.3,2.51,0.01):\n",
    "#         #print(f'for C: {C} and sigma: {sigma}')\n",
    "#         model = svm.svmTrain(X_train, y_train, C, gaussianKernel, args=(sigma,))\n",
    "#         p_test = svm.svmPredict(model, X_test)\n",
    "#         results[x,y] = f1_score(y_test,p_test,average='binary') * 100\n",
    "#         #print('Test Accuracy: {:.2f} %'.format(np.mean(p_test == y_test) * 100))\n",
    "#         #print('Test F1-score: {:.2f} %' .format(f1_score(y_test,p_test,average='binary') * 100))\n",
    "#         x += 1\n",
    "#     x = 1\n",
    "#     y += 1\n",
    "# print(results)"
   ]
  },
  {
   "cell_type": "code",
   "execution_count": 104,
   "id": "9b7a92fb",
   "metadata": {},
   "outputs": [
    {
     "name": "stdout",
     "output_type": "stream",
     "text": [
      "Train Accuracy: 93.42 %\n",
      "Train F1-score: 93.56 %\n"
     ]
    }
   ],
   "source": [
    "p_train = svm.svmPredict(model, X_train)\n",
    "print('Train Accuracy: {:.2f} %'.format(np.mean(p_train == y_train) * 100))\n",
    "print('Train F1-score: {:.2f} %' .format(f1_score(y_train,p_train,average='binary') * 100))"
   ]
  },
  {
   "cell_type": "code",
   "execution_count": 105,
   "id": "7a9d74b4",
   "metadata": {},
   "outputs": [
    {
     "name": "stdout",
     "output_type": "stream",
     "text": [
      "Test Accuracy: 81.82 %\n",
      "Test F1-score: 80.85 %\n"
     ]
    }
   ],
   "source": [
    "p_test = svm.svmPredict(model, X_test)\n",
    "print('Test Accuracy: {:.2f} %'.format(np.mean(p_test == y_test) * 100))\n",
    "print('Test F1-score: {:.2f} %' .format(f1_score(y_test,p_test,average='binary') * 100))"
   ]
  },
  {
   "cell_type": "code",
   "execution_count": null,
   "id": "0ea867f2",
   "metadata": {},
   "outputs": [],
   "source": []
  }
 ],
 "metadata": {
  "kernelspec": {
   "display_name": "Python 3 (ipykernel)",
   "language": "python",
   "name": "python3"
  },
  "language_info": {
   "codemirror_mode": {
    "name": "ipython",
    "version": 3
   },
   "file_extension": ".py",
   "mimetype": "text/x-python",
   "name": "python",
   "nbconvert_exporter": "python",
   "pygments_lexer": "ipython3",
   "version": "3.9.12"
  }
 },
 "nbformat": 4,
 "nbformat_minor": 5
}
