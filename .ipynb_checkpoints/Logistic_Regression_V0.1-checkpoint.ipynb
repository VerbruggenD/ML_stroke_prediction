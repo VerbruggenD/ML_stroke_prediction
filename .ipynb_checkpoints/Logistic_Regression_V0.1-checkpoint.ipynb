{
 "cells": [
  {
   "cell_type": "markdown",
   "id": "b4da50cc",
   "metadata": {},
   "source": [
    "# ML stroke prediction - Logistic Regression\n",
    "dataset link: https://www.kaggle.com/datasets/fedesoriano/stroke-prediction-dataset?resource=download\n",
    "\n",
    "## Classification of stroke or no-stroke\n",
    "\n",
    "For the first implementation of Machine Learning on this dataset we are using Logistic Regression"
   ]
  },
  {
   "cell_type": "code",
   "execution_count": 1,
   "id": "f961d9e5",
   "metadata": {},
   "outputs": [],
   "source": [
    "# used for manipulating directory paths\n",
    "import os\n",
    "\n",
    "# Scientific and vector computation for python\n",
    "import numpy as np\n",
    "np.set_printoptions(suppress=True)\n",
    "\n",
    "import csv\n",
    "import sys\n",
    "\n",
    "# Plotting library\n",
    "from matplotlib import pyplot\n",
    "\n",
    "# Optimization module in scipy\n",
    "from scipy import optimize\n",
    "\n",
    "# will be used to load MATLAB mat datafile format\n",
    "from scipy.io import loadmat\n",
    "\n",
    "# we use pandas to import a comma-seperated values dataset\n",
    "import pandas as pd\n",
    "\n",
    "# tells matplotlib to embed plots within the notebook\n",
    "%matplotlib inline"
   ]
  },
  {
   "cell_type": "markdown",
   "id": "a2695bf3",
   "metadata": {},
   "source": [
    "### First importing the dataset and small conversions\n",
    "\n",
    "For the first implementation we're just using a limited set of features for the model."
   ]
  },
  {
   "cell_type": "code",
   "execution_count": 2,
   "id": "a7cd6fae",
   "metadata": {},
   "outputs": [
    {
     "name": "stdout",
     "output_type": "stream",
     "text": [
      "       age  hypertension  heart_disease  avg_glucose_level  stroke\n",
      "0     67.0             0              1             228.69       1\n",
      "1     61.0             0              0             202.21       1\n",
      "2     80.0             0              1             105.92       1\n",
      "3     49.0             0              0             171.23       1\n",
      "4     79.0             1              0             174.12       1\n",
      "...    ...           ...            ...                ...     ...\n",
      "5105  80.0             1              0              83.75       0\n",
      "5106  81.0             0              0             125.20       0\n",
      "5107  35.0             0              0              82.99       0\n",
      "5108  51.0             0              0             166.29       0\n",
      "5109  44.0             0              0              85.28       0\n",
      "\n",
      "[5110 rows x 5 columns]\n",
      "Xshape: \n",
      "(5110, 4)\n",
      "Yshape: \n",
      "(5110,)\n",
      "X: \n",
      "[[ 67.     0.     1.   228.69]\n",
      " [ 61.     0.     0.   202.21]\n",
      " [ 80.     0.     1.   105.92]\n",
      " ...\n",
      " [ 35.     0.     0.    82.99]\n",
      " [ 51.     0.     0.   166.29]\n",
      " [ 44.     0.     0.    85.28]]\n",
      "y: \n",
      "[1 1 1 ... 0 0 0]\n"
     ]
    }
   ],
   "source": [
    "#  training data stored in arrays X, y\n",
    "#df = pd.read_csv(os.path.join('data', 'healthcare-dataset-stroke-data.csv'))\n",
    "#X = pd.DataFrame(df, columns=['age', 'hypertension', 'heart_disease', 'avg_glucose_level']).to_numpy()\n",
    "#X = np.around(X, 5)\n",
    "#print(\"X: \")\n",
    "#print(X)\n",
    "\n",
    "#y = pd.DataFrame(df, columns=['stroke']).to_numpy()\n",
    "#y = np.around(y, 5)\n",
    "#y.reshape(5110)\n",
    "#print(\"y: \")\n",
    "#print(y)\n",
    " \n",
    "data = pd.read_csv(os.path.join('data', 'healthcare-dataset-stroke-data.csv'))\n",
    "\n",
    "data.head(10)\n",
    "\n",
    "data.drop(\"id\", axis = 1, inplace = True)\n",
    "data.drop(\"gender\", axis = 1, inplace = True)\n",
    "data.drop(\"ever_married\", axis = 1, inplace = True)\n",
    "data.drop(\"work_type\", axis = 1, inplace = True)\n",
    "data.drop(\"Residence_type\", axis = 1, inplace = True)\n",
    "data.drop(\"bmi\", axis = 1, inplace = True)\n",
    "data.drop(\"smoking_status\", axis = 1, inplace = True)\n",
    "\n",
    "print(data)\n",
    "\n",
    "X = data.drop(['stroke'], axis=1).values\n",
    "y = data['stroke'].values\n",
    "\n",
    "print(\"Xshape: \")\n",
    "print(X.shape)\n",
    "print(\"Yshape: \")\n",
    "print(y.shape)\n",
    "\n",
    "print(\"X: \")\n",
    "print(X)\n",
    "\n",
    "print(\"y: \")\n",
    "print(y)"
   ]
  },
  {
   "cell_type": "markdown",
   "id": "42e0e72e",
   "metadata": {},
   "source": [
    "The sigmoid function copied from excersise 2. Could be copied later on to a 'library'."
   ]
  },
  {
   "cell_type": "code",
   "execution_count": 3,
   "id": "f2bd62ef",
   "metadata": {},
   "outputs": [],
   "source": [
    "def sigmoid(z):\n",
    "    \n",
    "    # convert input to a numpy array\n",
    "    z = np.array(z)\n",
    "    \n",
    "    # You need to return the following variables correctly \n",
    "    g = np.zeros(z.shape)\n",
    "\n",
    "    # ====================== YOUR CODE HERE ======================\n",
    "\n",
    "    g = 1/(1 + np.exp(-z))\n",
    "\n",
    "    # =============================================================\n",
    "    return g"
   ]
  },
  {
   "cell_type": "markdown",
   "id": "83c2a569",
   "metadata": {},
   "source": [
    "### Preparing parameters\n",
    "For the cost function we need the following parameters:\n",
    "- Theta\n",
    "- X\n",
    "- y\n",
    "\n",
    "Also we need to ad a X0 (offset) row in the feature matrix."
   ]
  },
  {
   "cell_type": "code",
   "execution_count": 4,
   "id": "90f50221",
   "metadata": {},
   "outputs": [
    {
     "name": "stdout",
     "output_type": "stream",
     "text": [
      "(5110, 4)\n",
      "(5110, 5)\n"
     ]
    }
   ],
   "source": [
    "# Setup the data matrix appropriately, and add ones for the intercept term\n",
    "m, n = X.shape\n",
    "\n",
    "print(X.shape)\n",
    "\n",
    "# Add intercept term to X\n",
    "X = np.concatenate([np.ones((m, 1)), X], axis=1)\n",
    "\n",
    "print(X.shape)\n",
    "#print(X)"
   ]
  },
  {
   "cell_type": "code",
   "execution_count": 19,
   "id": "2f8b40fa",
   "metadata": {},
   "outputs": [],
   "source": [
    "_lambda = 0.2"
   ]
  },
  {
   "cell_type": "code",
   "execution_count": 20,
   "id": "849f28fa",
   "metadata": {},
   "outputs": [],
   "source": [
    "def lrCostFunction(theta, X, y, lambda_):\n",
    "    #Initialize some useful values\n",
    "    m = y.size\n",
    "    \n",
    "    # convert labels to ints if their type is bool\n",
    "    if y.dtype == bool:\n",
    "        y = y.astype(int)\n",
    "    \n",
    "    # You need to return the following variables correctly\n",
    "    J = 0\n",
    "    grad = np.zeros(theta.shape)\n",
    "    \n",
    "    # ====================== YOUR CODE HERE ======================\n",
    "\n",
    "    H = sigmoid(np.matmul(X, theta))\n",
    "    J = (sum(-y*np.log(H)-(1-y)*np.log(1-H)))/(m)+((lambda_/(2*m))*sum(theta[1:]**2))\n",
    "    \n",
    "    diff = np.subtract(H, y)\n",
    "    \n",
    "    grad = ((np.matmul(np.transpose(X), diff))/m) + ((lambda_ * theta)/m)\n",
    "    grad[0]= ((np.matmul(np.transpose(X), diff))/m)[0]\n",
    "        \n",
    "    # =============================================================\n",
    "    return J, grad"
   ]
  },
  {
   "cell_type": "code",
   "execution_count": 21,
   "id": "0fa79cb5",
   "metadata": {},
   "outputs": [
    {
     "name": "stdout",
     "output_type": "stream",
     "text": [
      "Cost at test theta: 0.693\n",
      "Gradient at test theta:\n",
      "\t[0.451, 18.313, 0.036, 0.018, 46.615]\n"
     ]
    }
   ],
   "source": [
    "# Initialize fitting parameters\n",
    "initial_theta = np.zeros(n+1)\n",
    "cost, grad = lrCostFunction(initial_theta, X, y, _lambda)\n",
    "#print(cost)\n",
    "#print(grad)\n",
    "\n",
    "#print(cost.shape)\n",
    "#print(grad.shape)\n",
    "\n",
    "print('Cost at test theta: {:.3f}'.format(cost))\n",
    "\n",
    "print('Gradient at test theta:')\n",
    "print('\\t[{:.3f}, {:.3f}, {:.3f}, {:.3f}, {:.3f}]'.format(*grad))"
   ]
  },
  {
   "cell_type": "code",
   "execution_count": 22,
   "id": "d15be2b7",
   "metadata": {},
   "outputs": [
    {
     "name": "stdout",
     "output_type": "stream",
     "text": [
      "Cost at theta found by optimize.minimize: 0.156\n",
      "theta:\n",
      "\t[-7.489, 0.069, 0.380, 0.328, 0.004]\n"
     ]
    },
    {
     "name": "stderr",
     "output_type": "stream",
     "text": [
      "  NIT   NF   F                       GTG\n",
      "    0    1  6.931471805599945E-01   2.50854993E+03\n",
      "tnc: fscale = 0.0199659\n",
      "    1    4  3.156102561879863E-01   1.41493118E+02\n",
      "    2   10  2.609471425662118E-01   4.90095204E+00\n",
      "tnc: fscale = 0.45171\n",
      "    3   15  2.560685432065083E-01   6.27941879E-02\n",
      "    4   22  1.965634512424738E-01   1.74142312E+01\n",
      "    5   25  1.791275712487663E-01   4.76217452E+00\n",
      "    6   31  1.684385584031206E-01   2.70520763E+00\n",
      "    7   36  1.587493386790628E-01   3.89553917E-01\n",
      "    8   39  1.584389632701826E-01   6.11917026E-03\n",
      "tnc: fscale = 12.7836\n",
      "    9   42  1.583843379162101E-01   5.76890662E-05\n",
      "   10   45  1.568410456318869E-01   9.65281878E-03\n",
      "   11   48  1.565690042369572E-01   1.10199683E-02\n",
      "   12   51  1.563236359415270E-01   3.36811889E-02\n",
      "   13   54  1.558934751935155E-01   3.37759871E-02\n",
      "   14   57  1.558279210516414E-01   9.86210397E-03\n",
      "   15   60  1.557290772196971E-01   4.28188659E-05\n",
      "   16   63  1.557253682359613E-01   2.08994373E-04\n",
      "   17   66  1.557250657962340E-01   2.70858866E-06\n",
      "tnc: fscale = 607.615\n",
      "   18   69  1.557250422077704E-01   2.78807650E-11\n",
      "tnc: fscale = 189386\n",
      "tnc: |fn-fn-1] = 5.95269e-10 -> convergence\n",
      "   19   72  1.557250416125013E-01   2.64081500E-08\n",
      "tnc: Converged (|f_n-f_(n-1)| ~= 0)\n"
     ]
    }
   ],
   "source": [
    "# set options for optimize.minimize\n",
    "options= {'maxiter': 500}\n",
    "\n",
    "# see documention for scipy's optimize.minimize  for description about\n",
    "# the different parameters\n",
    "# The function returns an object `OptimizeResult`\n",
    "# We use truncated Newton algorithm for optimization which is \n",
    "# equivalent to MATLAB's fminunc\n",
    "# See https://stackoverflow.com/questions/18801002/fminunc-alternate-in-numpy\n",
    "\n",
    "#res = optimize.minimize(lrCostFunction,\n",
    "#                        initial_theta,\n",
    "#                        (X, y, _lambda),\n",
    "#                        jac=True,\n",
    "#                        method='TNC',\n",
    "#                        options=options)\n",
    "\n",
    "result = optimize.fmin_tnc(func=lrCostFunction, x0=initial_theta, args=(X, y, _lambda))\n",
    "\n",
    "# the fun property of `OptimizeResult` object returns\n",
    "# the value of costFunction at optimized theta\n",
    "#cost = res.fun\n",
    "\n",
    "# the optimized theta is in the x property\n",
    "#theta = res.x\n",
    "\n",
    "theta = result[0]\n",
    "(cost, grad) = lrCostFunction(theta, X, y, _lambda)\n",
    "\n",
    "# Print theta to screen\n",
    "print('Cost at theta found by optimize.minimize: {:.3f}'.format(cost))\n",
    "\n",
    "print('theta:')\n",
    "print('\\t[{:.3f}, {:.3f}, {:.3f}, {:.3f}, {:.3f}]'.format(*theta))"
   ]
  },
  {
   "cell_type": "code",
   "execution_count": 26,
   "id": "7ccbe173",
   "metadata": {},
   "outputs": [],
   "source": [
    "def predict(theta, X):\n",
    "    m = X.shape[0] # Number of training examples\n",
    "\n",
    "    # You need to return the following variables correctly\n",
    "    p = np.zeros(m)\n",
    "\n",
    "    # ====================== YOUR CODE HERE ======================\n",
    "\n",
    "    p = sigmoid(np.matmul(X, theta))\n",
    "    \n",
    "    #np.set_printoptions(threshold=sys.maxsize)\n",
    "    #print(p)\n",
    "    \n",
    "    p [p >= 0.5] = 1\n",
    "    p [p < 0.5]  = 0\n",
    "    \n",
    "    \n",
    "    # ============================================================\n",
    "    return p"
   ]
  },
  {
   "cell_type": "code",
   "execution_count": 27,
   "id": "bf1fe873",
   "metadata": {},
   "outputs": [
    {
     "name": "stdout",
     "output_type": "stream",
     "text": [
      "For this person,we predict a stroke probability of 0.419\n",
      "Train Accuracy: 92.49 %\n"
     ]
    }
   ],
   "source": [
    "#  Predict probability for a person with age 80, hypertension, heart disease, and avg glucose of 228  \n",
    "prob = sigmoid(np.dot([1, 80, 1, 1, 228], theta))\n",
    "print('For this person,'\n",
    "      'we predict a stroke probability of {:.3f}'.format(prob))\n",
    "\n",
    "# Compute accuracy on our training set\n",
    "p = predict(theta, X)\n",
    "print('Train Accuracy: {:.2f} %'.format(np.mean(p == y) * 100))"
   ]
  },
  {
   "cell_type": "code",
   "execution_count": 29,
   "id": "046691de",
   "metadata": {},
   "outputs": [
    {
     "name": "stdout",
     "output_type": "stream",
     "text": [
      "63\n",
      "324\n"
     ]
    }
   ],
   "source": [
    "counter_tp = 0\n",
    "counter_p =0\n",
    "for i in range(0, y.size -1):\n",
    "    if p[i] ==1:\n",
    "        counter_p +=1\n",
    "        if y[i]==1:\n",
    "            counter_p += 1\n",
    "            counter_tp += 1\n",
    "        \n",
    "print(counter_tp)\n",
    "print(counter_p)"
   ]
  },
  {
   "cell_type": "code",
   "execution_count": null,
   "id": "c0b9e171",
   "metadata": {},
   "outputs": [],
   "source": []
  }
 ],
 "metadata": {
  "kernelspec": {
   "display_name": "Python 3 (ipykernel)",
   "language": "python",
   "name": "python3"
  },
  "language_info": {
   "codemirror_mode": {
    "name": "ipython",
    "version": 3
   },
   "file_extension": ".py",
   "mimetype": "text/x-python",
   "name": "python",
   "nbconvert_exporter": "python",
   "pygments_lexer": "ipython3",
   "version": "3.9.12"
  },
  "vscode": {
   "interpreter": {
    "hash": "397704579725e15f5c7cb49fe5f0341eb7531c82d19f2c29d197e8b64ab5776b"
   }
  }
 },
 "nbformat": 4,
 "nbformat_minor": 5
}
