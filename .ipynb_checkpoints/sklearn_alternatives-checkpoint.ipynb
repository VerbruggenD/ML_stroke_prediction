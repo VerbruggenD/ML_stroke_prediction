{
 "cells": [
  {
   "cell_type": "markdown",
   "id": "391c8e2b",
   "metadata": {},
   "source": [
    "# SKLearn implementations of logistic regression and SVM\n",
    "## This is done to compare the implementation of our models to the standard libraries\n",
    "We fully expect that these results will be better than our results, especially for SVM. Our SVM implementation uses a simplified version of the learning algorithm.\n",
    "The SKlearn package also does some intelligent processing and setting optimalisation underneath."
   ]
  },
  {
   "cell_type": "markdown",
   "id": "d24c1409",
   "metadata": {},
   "source": [
    "## Module imports"
   ]
  },
  {
   "cell_type": "code",
   "execution_count": 17,
   "id": "45330779",
   "metadata": {},
   "outputs": [],
   "source": [
    "# used for manipulating directory paths\n",
    "import os\n",
    "\n",
    "# Scientific and vector computation for python\n",
    "import numpy as np\n",
    "\n",
    "from sklearn.model_selection import train_test_split\n",
    "from sklearn.utils import resample\n",
    "from sklearn.svm import SVC\n",
    "from sklearn.pipeline import make_pipeline\n",
    "from sklearn.preprocessing import StandardScaler\n",
    "from sklearn.linear_model import LogisticRegression\n",
    "\n",
    "# SKlearn for F1 score calculation\n",
    "from sklearn.metrics import f1_score\n",
    "from sklearn.metrics import precision_score, recall_score, accuracy_score\n",
    "\n",
    "# Plotting library\n",
    "from matplotlib import pyplot\n",
    "\n",
    "# Optimization module in scipy\n",
    "from scipy import optimize\n",
    "\n",
    "# we use pandas to import a comma-seperated values dataset\n",
    "import pandas as pd\n",
    "\n",
    "# will be used to load MATLAB mat datafile format\n",
    "from scipy.io import loadmat\n",
    "\n",
    "# library written for this exercise providing additional functions for assignment submission, and others\n",
    "import svm\n",
    "\n",
    "import logistic_regression as lr\n",
    "\n",
    "# tells matplotlib to embed plots within the notebook\n",
    "%matplotlib inline"
   ]
  },
  {
   "cell_type": "markdown",
   "id": "c1c31ce3",
   "metadata": {},
   "source": [
    "## Reading the dataset and selecting features"
   ]
  },
  {
   "cell_type": "code",
   "execution_count": 18,
   "id": "9dd86a58",
   "metadata": {},
   "outputs": [],
   "source": [
    "data = pd.read_csv(os.path.join('data', 'healthcare-dataset-stroke-data.csv'))\n",
    "\n",
    "data.head(10)\n",
    "\n",
    "data.drop(\"id\", axis = 1, inplace = True)\n",
    "data.drop(\"gender\", axis = 1, inplace = True)\n",
    "#data.drop(\"ever_married\", axis = 1, inplace = True)\n",
    "data.drop(\"work_type\", axis = 1, inplace = True)\n",
    "#data.drop(\"Residence_type\", axis = 1, inplace = True)\n",
    "data.drop(\"bmi\", axis = 1, inplace = True)\n",
    "#data.drop(\"smoking_status\", axis = 1, inplace = True)\n",
    "\n",
    "#indexAge = data[((data['age'] < 20) & (data['stroke'] == 1)) ].index  #find the indexes of outliers\n",
    "#data.drop(indexAge , inplace=True) # drop the outliers\n",
    "#indexGlucose = data[((data['avg_glucose_level'] > 220) & (data['stroke'] == 0)) ].index\n",
    "#data.drop(indexGlucose , inplace=True)"
   ]
  },
  {
   "cell_type": "markdown",
   "id": "74923a48",
   "metadata": {},
   "source": [
    "Removing all the empty datarows, only necessary when using the BMI feature."
   ]
  },
  {
   "cell_type": "code",
   "execution_count": 19,
   "id": "08de8104",
   "metadata": {},
   "outputs": [],
   "source": [
    "data = data.dropna(axis = 0)"
   ]
  },
  {
   "cell_type": "markdown",
   "id": "6a75f563",
   "metadata": {},
   "source": [
    "## Making dummy classes for the enumertor classes"
   ]
  },
  {
   "cell_type": "code",
   "execution_count": 20,
   "id": "4c4d0a25",
   "metadata": {},
   "outputs": [],
   "source": [
    "num_cols = data.select_dtypes(include = [np.number]).columns.tolist()\n",
    "obj_cols = data.select_dtypes(exclude = [np.number]).columns.tolist()"
   ]
  },
  {
   "cell_type": "code",
   "execution_count": 21,
   "id": "a6b8619a",
   "metadata": {},
   "outputs": [
    {
     "name": "stdout",
     "output_type": "stream",
     "text": [
      "(5110, 8)\n"
     ]
    },
    {
     "data": {
      "text/html": [
       "<div>\n",
       "<style scoped>\n",
       "    .dataframe tbody tr th:only-of-type {\n",
       "        vertical-align: middle;\n",
       "    }\n",
       "\n",
       "    .dataframe tbody tr th {\n",
       "        vertical-align: top;\n",
       "    }\n",
       "\n",
       "    .dataframe thead th {\n",
       "        text-align: right;\n",
       "    }\n",
       "</style>\n",
       "<table border=\"1\" class=\"dataframe\">\n",
       "  <thead>\n",
       "    <tr style=\"text-align: right;\">\n",
       "      <th></th>\n",
       "      <th>ever_married_No</th>\n",
       "      <th>ever_married_Yes</th>\n",
       "      <th>Residence_type_Rural</th>\n",
       "      <th>Residence_type_Urban</th>\n",
       "      <th>smoking_status_Unknown</th>\n",
       "      <th>smoking_status_formerly smoked</th>\n",
       "      <th>smoking_status_never smoked</th>\n",
       "      <th>smoking_status_smokes</th>\n",
       "    </tr>\n",
       "  </thead>\n",
       "  <tbody>\n",
       "    <tr>\n",
       "      <th>0</th>\n",
       "      <td>0</td>\n",
       "      <td>1</td>\n",
       "      <td>0</td>\n",
       "      <td>1</td>\n",
       "      <td>0</td>\n",
       "      <td>1</td>\n",
       "      <td>0</td>\n",
       "      <td>0</td>\n",
       "    </tr>\n",
       "    <tr>\n",
       "      <th>1</th>\n",
       "      <td>0</td>\n",
       "      <td>1</td>\n",
       "      <td>1</td>\n",
       "      <td>0</td>\n",
       "      <td>0</td>\n",
       "      <td>0</td>\n",
       "      <td>1</td>\n",
       "      <td>0</td>\n",
       "    </tr>\n",
       "    <tr>\n",
       "      <th>2</th>\n",
       "      <td>0</td>\n",
       "      <td>1</td>\n",
       "      <td>1</td>\n",
       "      <td>0</td>\n",
       "      <td>0</td>\n",
       "      <td>0</td>\n",
       "      <td>1</td>\n",
       "      <td>0</td>\n",
       "    </tr>\n",
       "    <tr>\n",
       "      <th>3</th>\n",
       "      <td>0</td>\n",
       "      <td>1</td>\n",
       "      <td>0</td>\n",
       "      <td>1</td>\n",
       "      <td>0</td>\n",
       "      <td>0</td>\n",
       "      <td>0</td>\n",
       "      <td>1</td>\n",
       "    </tr>\n",
       "    <tr>\n",
       "      <th>4</th>\n",
       "      <td>0</td>\n",
       "      <td>1</td>\n",
       "      <td>1</td>\n",
       "      <td>0</td>\n",
       "      <td>0</td>\n",
       "      <td>0</td>\n",
       "      <td>1</td>\n",
       "      <td>0</td>\n",
       "    </tr>\n",
       "  </tbody>\n",
       "</table>\n",
       "</div>"
      ],
      "text/plain": [
       "   ever_married_No  ever_married_Yes  Residence_type_Rural  \\\n",
       "0                0                 1                     0   \n",
       "1                0                 1                     1   \n",
       "2                0                 1                     1   \n",
       "3                0                 1                     0   \n",
       "4                0                 1                     1   \n",
       "\n",
       "   Residence_type_Urban  smoking_status_Unknown  \\\n",
       "0                     1                       0   \n",
       "1                     0                       0   \n",
       "2                     0                       0   \n",
       "3                     1                       0   \n",
       "4                     0                       0   \n",
       "\n",
       "   smoking_status_formerly smoked  smoking_status_never smoked  \\\n",
       "0                               1                            0   \n",
       "1                               0                            1   \n",
       "2                               0                            1   \n",
       "3                               0                            0   \n",
       "4                               0                            1   \n",
       "\n",
       "   smoking_status_smokes  \n",
       "0                      0  \n",
       "1                      0  \n",
       "2                      0  \n",
       "3                      1  \n",
       "4                      0  "
      ]
     },
     "execution_count": 21,
     "metadata": {},
     "output_type": "execute_result"
    }
   ],
   "source": [
    "# Numerical columns data\n",
    "data_new_num = data[num_cols]\n",
    "\n",
    "# Categorical columns data\n",
    "data_new_cat = data[obj_cols]\n",
    "\n",
    "# Creating dummies\n",
    "data_new_cat_dummies = pd.get_dummies(data_new_cat)\n",
    "print(data_new_cat_dummies.shape)\n",
    "data_new_cat_dummies.head()"
   ]
  },
  {
   "cell_type": "code",
   "execution_count": 22,
   "id": "93ff6659",
   "metadata": {},
   "outputs": [
    {
     "name": "stdout",
     "output_type": "stream",
     "text": [
      "(5110, 13)\n"
     ]
    },
    {
     "data": {
      "text/html": [
       "<div>\n",
       "<style scoped>\n",
       "    .dataframe tbody tr th:only-of-type {\n",
       "        vertical-align: middle;\n",
       "    }\n",
       "\n",
       "    .dataframe tbody tr th {\n",
       "        vertical-align: top;\n",
       "    }\n",
       "\n",
       "    .dataframe thead th {\n",
       "        text-align: right;\n",
       "    }\n",
       "</style>\n",
       "<table border=\"1\" class=\"dataframe\">\n",
       "  <thead>\n",
       "    <tr style=\"text-align: right;\">\n",
       "      <th></th>\n",
       "      <th>age</th>\n",
       "      <th>hypertension</th>\n",
       "      <th>heart_disease</th>\n",
       "      <th>avg_glucose_level</th>\n",
       "      <th>stroke</th>\n",
       "      <th>ever_married_No</th>\n",
       "      <th>ever_married_Yes</th>\n",
       "      <th>Residence_type_Rural</th>\n",
       "      <th>Residence_type_Urban</th>\n",
       "      <th>smoking_status_Unknown</th>\n",
       "      <th>smoking_status_formerly smoked</th>\n",
       "      <th>smoking_status_never smoked</th>\n",
       "      <th>smoking_status_smokes</th>\n",
       "    </tr>\n",
       "  </thead>\n",
       "  <tbody>\n",
       "    <tr>\n",
       "      <th>0</th>\n",
       "      <td>67.0</td>\n",
       "      <td>0</td>\n",
       "      <td>1</td>\n",
       "      <td>228.69</td>\n",
       "      <td>1</td>\n",
       "      <td>0</td>\n",
       "      <td>1</td>\n",
       "      <td>0</td>\n",
       "      <td>1</td>\n",
       "      <td>0</td>\n",
       "      <td>1</td>\n",
       "      <td>0</td>\n",
       "      <td>0</td>\n",
       "    </tr>\n",
       "    <tr>\n",
       "      <th>1</th>\n",
       "      <td>61.0</td>\n",
       "      <td>0</td>\n",
       "      <td>0</td>\n",
       "      <td>202.21</td>\n",
       "      <td>1</td>\n",
       "      <td>0</td>\n",
       "      <td>1</td>\n",
       "      <td>1</td>\n",
       "      <td>0</td>\n",
       "      <td>0</td>\n",
       "      <td>0</td>\n",
       "      <td>1</td>\n",
       "      <td>0</td>\n",
       "    </tr>\n",
       "    <tr>\n",
       "      <th>2</th>\n",
       "      <td>80.0</td>\n",
       "      <td>0</td>\n",
       "      <td>1</td>\n",
       "      <td>105.92</td>\n",
       "      <td>1</td>\n",
       "      <td>0</td>\n",
       "      <td>1</td>\n",
       "      <td>1</td>\n",
       "      <td>0</td>\n",
       "      <td>0</td>\n",
       "      <td>0</td>\n",
       "      <td>1</td>\n",
       "      <td>0</td>\n",
       "    </tr>\n",
       "    <tr>\n",
       "      <th>3</th>\n",
       "      <td>49.0</td>\n",
       "      <td>0</td>\n",
       "      <td>0</td>\n",
       "      <td>171.23</td>\n",
       "      <td>1</td>\n",
       "      <td>0</td>\n",
       "      <td>1</td>\n",
       "      <td>0</td>\n",
       "      <td>1</td>\n",
       "      <td>0</td>\n",
       "      <td>0</td>\n",
       "      <td>0</td>\n",
       "      <td>1</td>\n",
       "    </tr>\n",
       "    <tr>\n",
       "      <th>4</th>\n",
       "      <td>79.0</td>\n",
       "      <td>1</td>\n",
       "      <td>0</td>\n",
       "      <td>174.12</td>\n",
       "      <td>1</td>\n",
       "      <td>0</td>\n",
       "      <td>1</td>\n",
       "      <td>1</td>\n",
       "      <td>0</td>\n",
       "      <td>0</td>\n",
       "      <td>0</td>\n",
       "      <td>1</td>\n",
       "      <td>0</td>\n",
       "    </tr>\n",
       "  </tbody>\n",
       "</table>\n",
       "</div>"
      ],
      "text/plain": [
       "    age  hypertension  heart_disease  avg_glucose_level  stroke  \\\n",
       "0  67.0             0              1             228.69       1   \n",
       "1  61.0             0              0             202.21       1   \n",
       "2  80.0             0              1             105.92       1   \n",
       "3  49.0             0              0             171.23       1   \n",
       "4  79.0             1              0             174.12       1   \n",
       "\n",
       "   ever_married_No  ever_married_Yes  Residence_type_Rural  \\\n",
       "0                0                 1                     0   \n",
       "1                0                 1                     1   \n",
       "2                0                 1                     1   \n",
       "3                0                 1                     0   \n",
       "4                0                 1                     1   \n",
       "\n",
       "   Residence_type_Urban  smoking_status_Unknown  \\\n",
       "0                     1                       0   \n",
       "1                     0                       0   \n",
       "2                     0                       0   \n",
       "3                     1                       0   \n",
       "4                     0                       0   \n",
       "\n",
       "   smoking_status_formerly smoked  smoking_status_never smoked  \\\n",
       "0                               1                            0   \n",
       "1                               0                            1   \n",
       "2                               0                            1   \n",
       "3                               0                            0   \n",
       "4                               0                            1   \n",
       "\n",
       "   smoking_status_smokes  \n",
       "0                      0  \n",
       "1                      0  \n",
       "2                      0  \n",
       "3                      1  \n",
       "4                      0  "
      ]
     },
     "execution_count": 22,
     "metadata": {},
     "output_type": "execute_result"
    }
   ],
   "source": [
    "data_new_final = pd.concat([data_new_num, data_new_cat_dummies], axis = 1)\n",
    "print(data_new_final.shape)\n",
    "data_new_final.head()"
   ]
  },
  {
   "cell_type": "markdown",
   "id": "852d8b9b",
   "metadata": {},
   "source": [
    "## Downsample and train test split"
   ]
  },
  {
   "cell_type": "code",
   "execution_count": 23,
   "id": "13e2d204",
   "metadata": {},
   "outputs": [
    {
     "data": {
      "text/plain": [
       "1    249\n",
       "0    249\n",
       "Name: stroke, dtype: int64"
      ]
     },
     "execution_count": 23,
     "metadata": {},
     "output_type": "execute_result"
    }
   ],
   "source": [
    "negative = data_new_final[data_new_final.stroke==0]\n",
    "positive = data_new_final[data_new_final.stroke==1]\n",
    "\n",
    "#print(data.stroke.value_counts())\n",
    "\n",
    "#print(negative.stroke.value_counts())\n",
    "#print(positive.stroke.value_counts())\n",
    "\n",
    "# downsample majority\n",
    "neg_downsampled = resample(negative,\n",
    " replace=True, # sample with replacement\n",
    " n_samples=len(positive), # match number in minority class\n",
    " random_state=27) # reproducible results\n",
    "# combine minority and downsampled majority\n",
    "downsampled = pd.concat([positive, neg_downsampled])\n",
    "# check new class counts\n",
    "downsampled.stroke.value_counts()"
   ]
  },
  {
   "cell_type": "code",
   "execution_count": 24,
   "id": "f31a9350",
   "metadata": {},
   "outputs": [],
   "source": [
    "X = downsampled.drop(['stroke'], axis=1).values\n",
    "y = downsampled['stroke'].values"
   ]
  },
  {
   "cell_type": "code",
   "execution_count": 25,
   "id": "37a63c0a",
   "metadata": {},
   "outputs": [
    {
     "name": "stdout",
     "output_type": "stream",
     "text": [
      "(498, 12)\n"
     ]
    }
   ],
   "source": [
    "# Setup the data matrix appropriately, and add ones for the intercept term\n",
    "m, n = X.shape\n",
    "\n",
    "print(X.shape)\n",
    "\n",
    "# Add intercept term to X\n",
    "X = np.concatenate([np.ones((m, 1)), X], axis=1)\n",
    "\n",
    "X_train, X_test, y_train, y_test = train_test_split(X, y, test_size=0.20, random_state=0,shuffle=True, stratify=y)"
   ]
  },
  {
   "cell_type": "markdown",
   "id": "8ef2a89f",
   "metadata": {},
   "source": [
    "## Implementation of the logistic regression"
   ]
  },
  {
   "cell_type": "code",
   "execution_count": 26,
   "id": "087fe34e",
   "metadata": {},
   "outputs": [],
   "source": [
    "LRclassifier = LogisticRegression(max_iter=1000, random_state=1, solver='liblinear', penalty='l1')\n",
    "LRclassifier.fit(X_train, y_train)\n",
    "\n",
    "y_pred_LR = LRclassifier.predict(X_test)\n",
    "p = LRclassifier.predict_proba(X_test)\n",
    "\n",
    "m,n = p.shape\n",
    "\n",
    "p_stroke = np.zeros(m)\n",
    "\n",
    "p_stroke[:] = [i[1] for i in p]\n",
    "\n",
    "#print(p_stroke)\n",
    "#print(p)"
   ]
  },
  {
   "cell_type": "code",
   "execution_count": 27,
   "id": "8b58d587",
   "metadata": {},
   "outputs": [],
   "source": [
    "def prediction_to_classifier(pred, percentile):\n",
    "    pred [pred >= percentile] = 1\n",
    "    pred [pred < percentile]  = 0\n",
    "    return pred"
   ]
  },
  {
   "cell_type": "code",
   "execution_count": 28,
   "id": "eb1bb4b5",
   "metadata": {},
   "outputs": [
    {
     "name": "stdout",
     "output_type": "stream",
     "text": [
      "0.8288288288288288\n"
     ]
    }
   ],
   "source": [
    "p_test_data = []\n",
    "\n",
    "for i in range(30, 50):\n",
    "    #print(\"decision: \", i/100)\n",
    "    x = prediction_to_classifier(p_stroke, i/100)\n",
    "    f1 = f1_score(y_test,x,average='binary')\n",
    "    p_test_data.append(f1)\n",
    "    #print(f1)\n",
    "    \n",
    "#print(p_test_data)\n",
    "index = np.argmax(p_test_data)\n",
    "print(p_test_data[index])"
   ]
  },
  {
   "cell_type": "code",
   "execution_count": 29,
   "id": "9b1dbcc9",
   "metadata": {},
   "outputs": [
    {
     "name": "stdout",
     "output_type": "stream",
     "text": [
      "[1. 0. 0. 0. 0. 1. 0. 0. 1. 1. 1. 0. 0. 0. 0. 1. 1. 1. 1. 1. 1. 0. 1. 0.\n",
      " 1. 1. 1. 1. 1. 1. 0. 1. 1. 1. 1. 1. 1. 1. 1. 1. 0. 1. 1. 0. 1. 1. 0. 1.\n",
      " 1. 0. 0. 0. 0. 1. 0. 1. 1. 1. 1. 1. 0. 1. 1. 1. 0. 0. 0. 0. 1. 1. 0. 1.\n",
      " 0. 0. 1. 1. 0. 0. 1. 1. 1. 1. 1. 0. 0. 1. 0. 1. 0. 1. 0. 1. 1. 1. 0. 1.\n",
      " 0. 1. 0. 1.]\n"
     ]
    },
    {
     "data": {
      "text/plain": [
       "0.8288288288288288"
      ]
     },
     "execution_count": 29,
     "metadata": {},
     "output_type": "execute_result"
    }
   ],
   "source": [
    "p_stroke = prediction_to_classifier(p_stroke, 0.35)\n",
    "print(p_stroke)\n",
    "f1_score(y_test,p_stroke,average='binary')"
   ]
  },
  {
   "cell_type": "code",
   "execution_count": 30,
   "id": "2bdfd5f7",
   "metadata": {},
   "outputs": [],
   "source": [
    "#LRAcc = accuracy_score(y_pred_LR, y_test)\n",
    "#print('.:. Logistic Regression Accuracy:'+'\\033[1m {:.2f}%'.format(LRAcc*100)+' .:.')"
   ]
  },
  {
   "cell_type": "markdown",
   "id": "d2e37c1c",
   "metadata": {},
   "source": [
    "## Implementation of the SVM"
   ]
  },
  {
   "cell_type": "code",
   "execution_count": 32,
   "id": "4a24e5fd",
   "metadata": {},
   "outputs": [
    {
     "name": "stdout",
     "output_type": "stream",
     "text": [
      "Test F1-score: 82.69 %\n"
     ]
    }
   ],
   "source": [
    "model = make_pipeline(StandardScaler(), SVC(gamma='auto')).fit(X_train, y_train)\n",
    "p_test = model.predict(X_test)\n",
    "print('Test F1-score: {:.2f} %' .format(f1_score(y_test,p_test,average='binary') * 100))"
   ]
  },
  {
   "cell_type": "code",
   "execution_count": 16,
   "id": "13b6f9b1",
   "metadata": {},
   "outputs": [
    {
     "name": "stdout",
     "output_type": "stream",
     "text": [
      ".:. Support Vector Machine Accuracy:\u001b[1m 62.31% .:.\n"
     ]
    }
   ],
   "source": []
  },
  {
   "cell_type": "code",
   "execution_count": 17,
   "id": "d37ade9f",
   "metadata": {},
   "outputs": [
    {
     "name": "stdout",
     "output_type": "stream",
     "text": [
      ".:. Support Vector Machine Accuracy:\u001b[1m 59.00% .:.\n"
     ]
    }
   ],
   "source": []
  },
  {
   "cell_type": "code",
   "execution_count": null,
   "id": "a44ae749",
   "metadata": {},
   "outputs": [],
   "source": []
  }
 ],
 "metadata": {
  "kernelspec": {
   "display_name": "Python 3 (ipykernel)",
   "language": "python",
   "name": "python3"
  },
  "language_info": {
   "codemirror_mode": {
    "name": "ipython",
    "version": 3
   },
   "file_extension": ".py",
   "mimetype": "text/x-python",
   "name": "python",
   "nbconvert_exporter": "python",
   "pygments_lexer": "ipython3",
   "version": "3.9.12"
  }
 },
 "nbformat": 4,
 "nbformat_minor": 5
}
