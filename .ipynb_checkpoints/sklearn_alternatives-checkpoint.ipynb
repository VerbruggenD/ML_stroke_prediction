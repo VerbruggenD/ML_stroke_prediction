{
 "cells": [
  {
   "cell_type": "markdown",
   "id": "391c8e2b",
   "metadata": {},
   "source": [
    "# SKLearn implementations of logistic regression and SVM\n",
    "## This is done to compare the implementation of our models to the standard libraries\n",
    "We fully expect that these results will be better than our results, especially for SVM. Our SVM implementation uses a simplified version of the learning algorithm.\n",
    "The SKlearn package also does some intelligent processing and setting optimalisation underneath."
   ]
  },
  {
   "cell_type": "markdown",
   "id": "d24c1409",
   "metadata": {},
   "source": [
    "## Module imports"
   ]
  },
  {
   "cell_type": "code",
   "execution_count": 1,
   "id": "45330779",
   "metadata": {},
   "outputs": [],
   "source": [
    "# used for manipulating directory paths\n",
    "import os\n",
    "\n",
    "# Scientific and vector computation for python\n",
    "import numpy as np\n",
    "\n",
    "from sklearn.model_selection import train_test_split\n",
    "from sklearn.utils import resample\n",
    "\n",
    "# SKlearn for F1 score calculation\n",
    "from sklearn.metrics import f1_score\n",
    "\n",
    "# Plotting library\n",
    "from matplotlib import pyplot\n",
    "\n",
    "# Optimization module in scipy\n",
    "from scipy import optimize\n",
    "\n",
    "# we use pandas to import a comma-seperated values dataset\n",
    "import pandas as pd\n",
    "\n",
    "# will be used to load MATLAB mat datafile format\n",
    "from scipy.io import loadmat\n",
    "\n",
    "# library written for this exercise providing additional functions for assignment submission, and others\n",
    "import svm\n",
    "\n",
    "import logistic_regression as lr\n",
    "\n",
    "# tells matplotlib to embed plots within the notebook\n",
    "%matplotlib inline"
   ]
  },
  {
   "cell_type": "markdown",
   "id": "c1c31ce3",
   "metadata": {},
   "source": [
    "## Reading the dataset and selecting features"
   ]
  },
  {
   "cell_type": "code",
   "execution_count": 2,
   "id": "9dd86a58",
   "metadata": {},
   "outputs": [],
   "source": [
    "data = pd.read_csv(os.path.join('data', 'healthcare-dataset-stroke-data.csv'))\n",
    "\n",
    "data.head(10)\n",
    "\n",
    "data.drop(\"id\", axis = 1, inplace = True)\n",
    "data.drop(\"gender\", axis = 1, inplace = True)\n",
    "#data.drop(\"ever_married\", axis = 1, inplace = True)\n",
    "data.drop(\"work_type\", axis = 1, inplace = True)\n",
    "#data.drop(\"Residence_type\", axis = 1, inplace = True)\n",
    "data.drop(\"bmi\", axis = 1, inplace = True)\n",
    "#data.drop(\"smoking_status\", axis = 1, inplace = True)\n",
    "\n",
    "#indexAge = data[((data['age'] < 20) & (data['stroke'] == 1)) ].index  #find the indexes of outliers\n",
    "#data.drop(indexAge , inplace=True) # drop the outliers\n",
    "#indexGlucose = data[((data['avg_glucose_level'] > 220) & (data['stroke'] == 0)) ].index\n",
    "#data.drop(indexGlucose , inplace=True)"
   ]
  },
  {
   "cell_type": "markdown",
   "id": "74923a48",
   "metadata": {},
   "source": [
    "Removing all the empty datarows, only necessary when using the BMI feature."
   ]
  },
  {
   "cell_type": "code",
   "execution_count": 3,
   "id": "08de8104",
   "metadata": {},
   "outputs": [],
   "source": [
    "data = data.dropna(axis = 0)"
   ]
  },
  {
   "cell_type": "markdown",
   "id": "6a75f563",
   "metadata": {},
   "source": [
    "## Making dummy classes for the enumertor classes"
   ]
  },
  {
   "cell_type": "code",
   "execution_count": 6,
   "id": "4c4d0a25",
   "metadata": {},
   "outputs": [],
   "source": [
    "num_cols = data.select_dtypes(include = [np.number]).columns.tolist()\n",
    "obj_cols = data.select_dtypes(exclude = [np.number]).columns.tolist()"
   ]
  },
  {
   "cell_type": "code",
   "execution_count": 7,
   "id": "a6b8619a",
   "metadata": {},
   "outputs": [
    {
     "name": "stdout",
     "output_type": "stream",
     "text": [
      "(5110, 8)\n"
     ]
    },
    {
     "data": {
      "text/html": [
       "<div>\n",
       "<style scoped>\n",
       "    .dataframe tbody tr th:only-of-type {\n",
       "        vertical-align: middle;\n",
       "    }\n",
       "\n",
       "    .dataframe tbody tr th {\n",
       "        vertical-align: top;\n",
       "    }\n",
       "\n",
       "    .dataframe thead th {\n",
       "        text-align: right;\n",
       "    }\n",
       "</style>\n",
       "<table border=\"1\" class=\"dataframe\">\n",
       "  <thead>\n",
       "    <tr style=\"text-align: right;\">\n",
       "      <th></th>\n",
       "      <th>ever_married_No</th>\n",
       "      <th>ever_married_Yes</th>\n",
       "      <th>Residence_type_Rural</th>\n",
       "      <th>Residence_type_Urban</th>\n",
       "      <th>smoking_status_Unknown</th>\n",
       "      <th>smoking_status_formerly smoked</th>\n",
       "      <th>smoking_status_never smoked</th>\n",
       "      <th>smoking_status_smokes</th>\n",
       "    </tr>\n",
       "  </thead>\n",
       "  <tbody>\n",
       "    <tr>\n",
       "      <th>0</th>\n",
       "      <td>0</td>\n",
       "      <td>1</td>\n",
       "      <td>0</td>\n",
       "      <td>1</td>\n",
       "      <td>0</td>\n",
       "      <td>1</td>\n",
       "      <td>0</td>\n",
       "      <td>0</td>\n",
       "    </tr>\n",
       "    <tr>\n",
       "      <th>1</th>\n",
       "      <td>0</td>\n",
       "      <td>1</td>\n",
       "      <td>1</td>\n",
       "      <td>0</td>\n",
       "      <td>0</td>\n",
       "      <td>0</td>\n",
       "      <td>1</td>\n",
       "      <td>0</td>\n",
       "    </tr>\n",
       "    <tr>\n",
       "      <th>2</th>\n",
       "      <td>0</td>\n",
       "      <td>1</td>\n",
       "      <td>1</td>\n",
       "      <td>0</td>\n",
       "      <td>0</td>\n",
       "      <td>0</td>\n",
       "      <td>1</td>\n",
       "      <td>0</td>\n",
       "    </tr>\n",
       "    <tr>\n",
       "      <th>3</th>\n",
       "      <td>0</td>\n",
       "      <td>1</td>\n",
       "      <td>0</td>\n",
       "      <td>1</td>\n",
       "      <td>0</td>\n",
       "      <td>0</td>\n",
       "      <td>0</td>\n",
       "      <td>1</td>\n",
       "    </tr>\n",
       "    <tr>\n",
       "      <th>4</th>\n",
       "      <td>0</td>\n",
       "      <td>1</td>\n",
       "      <td>1</td>\n",
       "      <td>0</td>\n",
       "      <td>0</td>\n",
       "      <td>0</td>\n",
       "      <td>1</td>\n",
       "      <td>0</td>\n",
       "    </tr>\n",
       "  </tbody>\n",
       "</table>\n",
       "</div>"
      ],
      "text/plain": [
       "   ever_married_No  ever_married_Yes  Residence_type_Rural  \\\n",
       "0                0                 1                     0   \n",
       "1                0                 1                     1   \n",
       "2                0                 1                     1   \n",
       "3                0                 1                     0   \n",
       "4                0                 1                     1   \n",
       "\n",
       "   Residence_type_Urban  smoking_status_Unknown  \\\n",
       "0                     1                       0   \n",
       "1                     0                       0   \n",
       "2                     0                       0   \n",
       "3                     1                       0   \n",
       "4                     0                       0   \n",
       "\n",
       "   smoking_status_formerly smoked  smoking_status_never smoked  \\\n",
       "0                               1                            0   \n",
       "1                               0                            1   \n",
       "2                               0                            1   \n",
       "3                               0                            0   \n",
       "4                               0                            1   \n",
       "\n",
       "   smoking_status_smokes  \n",
       "0                      0  \n",
       "1                      0  \n",
       "2                      0  \n",
       "3                      1  \n",
       "4                      0  "
      ]
     },
     "execution_count": 7,
     "metadata": {},
     "output_type": "execute_result"
    }
   ],
   "source": [
    "# Numerical columns data\n",
    "data_new_num = data[num_cols]\n",
    "\n",
    "# Categorical columns data\n",
    "data_new_cat = data[obj_cols]\n",
    "\n",
    "# Creating dummies\n",
    "data_new_cat_dummies = pd.get_dummies(data_new_cat)\n",
    "print(data_new_cat_dummies.shape)\n",
    "data_new_cat_dummies.head()"
   ]
  },
  {
   "cell_type": "code",
   "execution_count": 8,
   "id": "93ff6659",
   "metadata": {},
   "outputs": [
    {
     "name": "stdout",
     "output_type": "stream",
     "text": [
      "(5110, 13)\n"
     ]
    },
    {
     "data": {
      "text/html": [
       "<div>\n",
       "<style scoped>\n",
       "    .dataframe tbody tr th:only-of-type {\n",
       "        vertical-align: middle;\n",
       "    }\n",
       "\n",
       "    .dataframe tbody tr th {\n",
       "        vertical-align: top;\n",
       "    }\n",
       "\n",
       "    .dataframe thead th {\n",
       "        text-align: right;\n",
       "    }\n",
       "</style>\n",
       "<table border=\"1\" class=\"dataframe\">\n",
       "  <thead>\n",
       "    <tr style=\"text-align: right;\">\n",
       "      <th></th>\n",
       "      <th>age</th>\n",
       "      <th>hypertension</th>\n",
       "      <th>heart_disease</th>\n",
       "      <th>avg_glucose_level</th>\n",
       "      <th>stroke</th>\n",
       "      <th>ever_married_No</th>\n",
       "      <th>ever_married_Yes</th>\n",
       "      <th>Residence_type_Rural</th>\n",
       "      <th>Residence_type_Urban</th>\n",
       "      <th>smoking_status_Unknown</th>\n",
       "      <th>smoking_status_formerly smoked</th>\n",
       "      <th>smoking_status_never smoked</th>\n",
       "      <th>smoking_status_smokes</th>\n",
       "    </tr>\n",
       "  </thead>\n",
       "  <tbody>\n",
       "    <tr>\n",
       "      <th>0</th>\n",
       "      <td>67.0</td>\n",
       "      <td>0</td>\n",
       "      <td>1</td>\n",
       "      <td>228.69</td>\n",
       "      <td>1</td>\n",
       "      <td>0</td>\n",
       "      <td>1</td>\n",
       "      <td>0</td>\n",
       "      <td>1</td>\n",
       "      <td>0</td>\n",
       "      <td>1</td>\n",
       "      <td>0</td>\n",
       "      <td>0</td>\n",
       "    </tr>\n",
       "    <tr>\n",
       "      <th>1</th>\n",
       "      <td>61.0</td>\n",
       "      <td>0</td>\n",
       "      <td>0</td>\n",
       "      <td>202.21</td>\n",
       "      <td>1</td>\n",
       "      <td>0</td>\n",
       "      <td>1</td>\n",
       "      <td>1</td>\n",
       "      <td>0</td>\n",
       "      <td>0</td>\n",
       "      <td>0</td>\n",
       "      <td>1</td>\n",
       "      <td>0</td>\n",
       "    </tr>\n",
       "    <tr>\n",
       "      <th>2</th>\n",
       "      <td>80.0</td>\n",
       "      <td>0</td>\n",
       "      <td>1</td>\n",
       "      <td>105.92</td>\n",
       "      <td>1</td>\n",
       "      <td>0</td>\n",
       "      <td>1</td>\n",
       "      <td>1</td>\n",
       "      <td>0</td>\n",
       "      <td>0</td>\n",
       "      <td>0</td>\n",
       "      <td>1</td>\n",
       "      <td>0</td>\n",
       "    </tr>\n",
       "    <tr>\n",
       "      <th>3</th>\n",
       "      <td>49.0</td>\n",
       "      <td>0</td>\n",
       "      <td>0</td>\n",
       "      <td>171.23</td>\n",
       "      <td>1</td>\n",
       "      <td>0</td>\n",
       "      <td>1</td>\n",
       "      <td>0</td>\n",
       "      <td>1</td>\n",
       "      <td>0</td>\n",
       "      <td>0</td>\n",
       "      <td>0</td>\n",
       "      <td>1</td>\n",
       "    </tr>\n",
       "    <tr>\n",
       "      <th>4</th>\n",
       "      <td>79.0</td>\n",
       "      <td>1</td>\n",
       "      <td>0</td>\n",
       "      <td>174.12</td>\n",
       "      <td>1</td>\n",
       "      <td>0</td>\n",
       "      <td>1</td>\n",
       "      <td>1</td>\n",
       "      <td>0</td>\n",
       "      <td>0</td>\n",
       "      <td>0</td>\n",
       "      <td>1</td>\n",
       "      <td>0</td>\n",
       "    </tr>\n",
       "  </tbody>\n",
       "</table>\n",
       "</div>"
      ],
      "text/plain": [
       "    age  hypertension  heart_disease  avg_glucose_level  stroke  \\\n",
       "0  67.0             0              1             228.69       1   \n",
       "1  61.0             0              0             202.21       1   \n",
       "2  80.0             0              1             105.92       1   \n",
       "3  49.0             0              0             171.23       1   \n",
       "4  79.0             1              0             174.12       1   \n",
       "\n",
       "   ever_married_No  ever_married_Yes  Residence_type_Rural  \\\n",
       "0                0                 1                     0   \n",
       "1                0                 1                     1   \n",
       "2                0                 1                     1   \n",
       "3                0                 1                     0   \n",
       "4                0                 1                     1   \n",
       "\n",
       "   Residence_type_Urban  smoking_status_Unknown  \\\n",
       "0                     1                       0   \n",
       "1                     0                       0   \n",
       "2                     0                       0   \n",
       "3                     1                       0   \n",
       "4                     0                       0   \n",
       "\n",
       "   smoking_status_formerly smoked  smoking_status_never smoked  \\\n",
       "0                               1                            0   \n",
       "1                               0                            1   \n",
       "2                               0                            1   \n",
       "3                               0                            0   \n",
       "4                               0                            1   \n",
       "\n",
       "   smoking_status_smokes  \n",
       "0                      0  \n",
       "1                      0  \n",
       "2                      0  \n",
       "3                      1  \n",
       "4                      0  "
      ]
     },
     "execution_count": 8,
     "metadata": {},
     "output_type": "execute_result"
    }
   ],
   "source": [
    "data_new_final = pd.concat([data_new_num, data_new_cat_dummies], axis = 1)\n",
    "print(data_new_final.shape)\n",
    "data_new_final.head()"
   ]
  },
  {
   "cell_type": "markdown",
   "id": "852d8b9b",
   "metadata": {},
   "source": [
    "## Downsample and train test split"
   ]
  },
  {
   "cell_type": "code",
   "execution_count": 9,
   "id": "13e2d204",
   "metadata": {},
   "outputs": [
    {
     "data": {
      "text/plain": [
       "1    249\n",
       "0    249\n",
       "Name: stroke, dtype: int64"
      ]
     },
     "execution_count": 9,
     "metadata": {},
     "output_type": "execute_result"
    }
   ],
   "source": [
    "negative = data_new_final[data_new_final.stroke==0]\n",
    "positive = data_new_final[data_new_final.stroke==1]\n",
    "\n",
    "#print(data.stroke.value_counts())\n",
    "\n",
    "#print(negative.stroke.value_counts())\n",
    "#print(positive.stroke.value_counts())\n",
    "\n",
    "# downsample majority\n",
    "neg_downsampled = resample(negative,\n",
    " replace=True, # sample with replacement\n",
    " n_samples=len(positive), # match number in minority class\n",
    " random_state=27) # reproducible results\n",
    "# combine minority and downsampled majority\n",
    "downsampled = pd.concat([positive, neg_downsampled])\n",
    "# check new class counts\n",
    "downsampled.stroke.value_counts()"
   ]
  },
  {
   "cell_type": "code",
   "execution_count": 10,
   "id": "f31a9350",
   "metadata": {},
   "outputs": [],
   "source": [
    "X = downsampled.drop(['stroke'], axis=1).values\n",
    "y = downsampled['stroke'].values"
   ]
  },
  {
   "cell_type": "code",
   "execution_count": 11,
   "id": "37a63c0a",
   "metadata": {},
   "outputs": [
    {
     "name": "stdout",
     "output_type": "stream",
     "text": [
      "(498, 12)\n"
     ]
    }
   ],
   "source": [
    "# Setup the data matrix appropriately, and add ones for the intercept term\n",
    "m, n = X.shape\n",
    "\n",
    "print(X.shape)\n",
    "\n",
    "# Add intercept term to X\n",
    "X = np.concatenate([np.ones((m, 1)), X], axis=1)\n",
    "\n",
    "X_train, X_test, y_train, y_test = train_test_split(X, y, test_size=0.20, random_state=0,shuffle=True, stratify=y)"
   ]
  },
  {
   "cell_type": "markdown",
   "id": "8ef2a89f",
   "metadata": {},
   "source": [
    "## Implementation of the logistic regression"
   ]
  },
  {
   "cell_type": "code",
   "execution_count": null,
   "id": "087fe34e",
   "metadata": {},
   "outputs": [],
   "source": []
  },
  {
   "cell_type": "markdown",
   "id": "d2e37c1c",
   "metadata": {},
   "source": [
    "## Implenmentation of the SVM"
   ]
  },
  {
   "cell_type": "code",
   "execution_count": null,
   "id": "4a24e5fd",
   "metadata": {},
   "outputs": [],
   "source": []
  }
 ],
 "metadata": {
  "kernelspec": {
   "display_name": "Python 3 (ipykernel)",
   "language": "python",
   "name": "python3"
  },
  "language_info": {
   "codemirror_mode": {
    "name": "ipython",
    "version": 3
   },
   "file_extension": ".py",
   "mimetype": "text/x-python",
   "name": "python",
   "nbconvert_exporter": "python",
   "pygments_lexer": "ipython3",
   "version": "3.9.12"
  }
 },
 "nbformat": 4,
 "nbformat_minor": 5
}
