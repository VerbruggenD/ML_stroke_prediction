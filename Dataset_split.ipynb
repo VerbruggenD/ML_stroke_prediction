{
 "cells": [
  {
   "cell_type": "markdown",
   "id": "b4da50cc",
   "metadata": {},
   "source": [
    "# ML stroke prediction - Logistic Regression\n",
    "dataset link: https://www.kaggle.com/datasets/fedesoriano/stroke-prediction-dataset?resource=download\n",
    "\n",
    "## Classification of stroke or no-stroke\n",
    "\n",
    "For the first implementation of Machine Learning on this dataset we are using Logistic Regression"
   ]
  },
  {
   "cell_type": "code",
   "execution_count": 2,
   "id": "f961d9e5",
   "metadata": {},
   "outputs": [],
   "source": [
    "# used for manipulating directory paths\n",
    "import os\n",
    "\n",
    "# Scientific and vector computation for python\n",
    "import numpy as np\n",
    "np.set_printoptions(suppress=True)\n",
    "\n",
    "import csv\n",
    "\n",
    "# Plotting library\n",
    "from matplotlib import pyplot\n",
    "\n",
    "# Optimization module in scipy\n",
    "from scipy import optimize\n",
    "\n",
    "# will be used to load MATLAB mat datafile format\n",
    "from scipy.io import loadmat\n",
    "\n",
    "# we use pandas to import a comma-seperated values dataset\n",
    "import pandas as pd\n",
    "\n",
    "# tells matplotlib to embed plots within the notebook\n",
    "%matplotlib inline"
   ]
  },
  {
   "cell_type": "markdown",
   "id": "a2695bf3",
   "metadata": {},
   "source": [
    "### First importing the dataset and small conversions\n",
    "\n",
    "For the first implementation we're just using a limited set of features for the model."
   ]
  },
  {
   "cell_type": "code",
   "execution_count": 3,
   "id": "a7cd6fae",
   "metadata": {},
   "outputs": [
    {
     "name": "stdout",
     "output_type": "stream",
     "text": [
      "       age  hypertension  heart_disease  avg_glucose_level  stroke\n",
      "0     67.0             0              1             228.69       1\n",
      "1     61.0             0              0             202.21       1\n",
      "2     80.0             0              1             105.92       1\n",
      "3     49.0             0              0             171.23       1\n",
      "4     79.0             1              0             174.12       1\n",
      "...    ...           ...            ...                ...     ...\n",
      "5105  80.0             1              0              83.75       0\n",
      "5106  81.0             0              0             125.20       0\n",
      "5107  35.0             0              0              82.99       0\n",
      "5108  51.0             0              0             166.29       0\n",
      "5109  44.0             0              0              85.28       0\n",
      "\n",
      "[5110 rows x 5 columns]\n",
      "Xshape: \n",
      "(5110, 4)\n",
      "Yshape: \n",
      "(5110,)\n",
      "X: \n",
      "[[ 67.     0.     1.   228.69]\n",
      " [ 61.     0.     0.   202.21]\n",
      " [ 80.     0.     1.   105.92]\n",
      " ...\n",
      " [ 35.     0.     0.    82.99]\n",
      " [ 51.     0.     0.   166.29]\n",
      " [ 44.     0.     0.    85.28]]\n",
      "y: \n",
      "[1 1 1 ... 0 0 0]\n"
     ]
    }
   ],
   "source": [
    "#  training data stored in arrays X, y\n",
    "#df = pd.read_csv(os.path.join('data', 'healthcare-dataset-stroke-data.csv'))\n",
    "#X = pd.DataFrame(df, columns=['age', 'hypertension', 'heart_disease', 'avg_glucose_level']).to_numpy()\n",
    "#X = np.around(X, 5)\n",
    "#print(\"X: \")\n",
    "#print(X)\n",
    "\n",
    "#y = pd.DataFrame(df, columns=['stroke']).to_numpy()\n",
    "#y = np.around(y, 5)\n",
    "#y.reshape(5110)\n",
    "#print(\"y: \")\n",
    "#print(y)\n",
    " \n",
    "data = pd.read_csv(os.path.join('data', 'healthcare-dataset-stroke-data.csv'))\n",
    "\n",
    "data.head(10)\n",
    "\n",
    "data.drop(\"id\", axis = 1, inplace = True)\n",
    "data.drop(\"gender\", axis = 1, inplace = True)\n",
    "data.drop(\"ever_married\", axis = 1, inplace = True)\n",
    "data.drop(\"work_type\", axis = 1, inplace = True)\n",
    "data.drop(\"Residence_type\", axis = 1, inplace = True)\n",
    "data.drop(\"bmi\", axis = 1, inplace = True)\n",
    "data.drop(\"smoking_status\", axis = 1, inplace = True)\n",
    "\n",
    "print(data)\n",
    "\n",
    "X = data.drop(['stroke'], axis=1).values\n",
    "y = data['stroke'].values\n",
    "\n",
    "print(\"Xshape: \")\n",
    "print(X.shape)\n",
    "print(\"Yshape: \")\n",
    "print(y.shape)\n",
    "\n",
    "print(\"X: \")\n",
    "print(X)\n",
    "\n",
    "print(\"y: \")\n",
    "print(y)"
   ]
  },
  {
   "cell_type": "code",
   "execution_count": 24,
   "id": "025c35e7",
   "metadata": {},
   "outputs": [],
   "source": [
    "from sklearn.model_selection import train_test_split #Split the matrixes into train and test subsets.\n",
    "\n",
    "X_train, X_test, y_train, y_test = train_test_split(X, y, test_size=0.20, random_state=0,shuffle=True, stratify=y)\n"
   ]
  },
  {
   "cell_type": "markdown",
   "id": "40721ec0",
   "metadata": {},
   "source": [
    "### check percentage of strokes in set"
   ]
  },
  {
   "cell_type": "code",
   "execution_count": 26,
   "id": "3277264a",
   "metadata": {},
   "outputs": [
    {
     "name": "stdout",
     "output_type": "stream",
     "text": [
      "4.867906066536203\n",
      "4.892367906066536\n",
      "(4088,)\n",
      "(1022,)\n"
     ]
    }
   ],
   "source": [
    "y_count = 0\n",
    "for i in y_train:\n",
    "    if i == 1:\n",
    "        y_count += 1\n",
    "        \n",
    "print(((y_count)/(y_train.size))*100)\n",
    "\n",
    "y_count = 0\n",
    "for i in y_test:\n",
    "    if i == 1:\n",
    "        y_count += 1\n",
    "        \n",
    "print(((y_count)/(y_test.size))*100)\n",
    "\n",
    "print(y_train.shape)\n",
    "print(y_test.shape)"
   ]
  },
  {
   "cell_type": "markdown",
   "id": "74ab172a",
   "metadata": {},
   "source": [
    "# Dit werkt!!!!"
   ]
  }
 ],
 "metadata": {
  "kernelspec": {
   "display_name": "Python 3 (ipykernel)",
   "language": "python",
   "name": "python3"
  },
  "language_info": {
   "codemirror_mode": {
    "name": "ipython",
    "version": 3
   },
   "file_extension": ".py",
   "mimetype": "text/x-python",
   "name": "python",
   "nbconvert_exporter": "python",
   "pygments_lexer": "ipython3",
   "version": "3.9.12"
  }
 },
 "nbformat": 4,
 "nbformat_minor": 5
}
