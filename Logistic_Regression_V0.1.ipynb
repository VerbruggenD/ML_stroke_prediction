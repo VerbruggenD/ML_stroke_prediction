{
 "cells": [
  {
   "cell_type": "markdown",
   "id": "b4da50cc",
   "metadata": {},
   "source": [
    "# ML stroke prediction - Logistic Regression\n",
    "dataset link: https://www.kaggle.com/datasets/fedesoriano/stroke-prediction-dataset?resource=download\n",
    "\n",
    "## Classification of stroke or no-stroke\n",
    "\n",
    "For the first implementation of Machine Learning on this dataset we are using Logistic Regression"
   ]
  },
  {
   "cell_type": "code",
   "execution_count": 3,
   "id": "f961d9e5",
   "metadata": {},
   "outputs": [],
   "source": [
    "# used for manipulating directory paths\n",
    "import os\n",
    "\n",
    "# Scientific and vector computation for python\n",
    "import numpy as np\n",
    "\n",
    "# Plotting library\n",
    "from matplotlib import pyplot\n",
    "\n",
    "# Optimization module in scipy\n",
    "from scipy import optimize\n",
    "\n",
    "# will be used to load MATLAB mat datafile format\n",
    "from scipy.io import loadmat\n",
    "\n",
    "# tells matplotlib to embed plots within the notebook\n",
    "%matplotlib inline"
   ]
  },
  {
   "cell_type": "markdown",
   "id": "a2695bf3",
   "metadata": {},
   "source": [
    "### First importing the dataset and small conversions\n",
    "\n",
    "For the first implementation we're just using a limited set of features for the model."
   ]
  },
  {
   "cell_type": "code",
   "execution_count": null,
   "id": "a7cd6fae",
   "metadata": {},
   "outputs": [],
   "source": []
  }
 ],
 "metadata": {
  "kernelspec": {
   "display_name": "Python 3 (ipykernel)",
   "language": "python",
   "name": "python3"
  },
  "language_info": {
   "codemirror_mode": {
    "name": "ipython",
    "version": 3
   },
   "file_extension": ".py",
   "mimetype": "text/x-python",
   "name": "python",
   "nbconvert_exporter": "python",
   "pygments_lexer": "ipython3",
   "version": "3.9.12"
  }
 },
 "nbformat": 4,
 "nbformat_minor": 5
}
