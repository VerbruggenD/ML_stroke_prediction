{
 "cells": [
  {
   "cell_type": "markdown",
   "id": "b4da50cc",
   "metadata": {},
   "source": [
    "# ML stroke prediction - Logistic Regression\n",
    "dataset link: https://www.kaggle.com/datasets/fedesoriano/stroke-prediction-dataset?resource=download\n",
    "\n",
    "## Classification of stroke or no-stroke\n",
    "\n",
    "For the first implementation of Machine Learning on this dataset we are using Logistic Regression"
   ]
  },
  {
   "cell_type": "code",
   "execution_count": 1,
   "id": "f961d9e5",
   "metadata": {},
   "outputs": [],
   "source": [
    "# used for manipulating directory paths\n",
    "import os\n",
    "\n",
    "# Scientific and vector computation for python\n",
    "import numpy as np\n",
    "np.set_printoptions(suppress=True)\n",
    "\n",
    "import logistic_regression as lr\n",
    "\n",
    "import csv\n",
    "import sys\n",
    "from sklearn.model_selection import train_test_split\n",
    "from sklearn.utils import resample\n",
    "# SKlearn for F1 score calculation\n",
    "from sklearn.metrics import f1_score\n",
    "\n",
    "# Plotting library\n",
    "from matplotlib import pyplot\n",
    "\n",
    "# Optimization module in scipy\n",
    "from scipy import optimize\n",
    "\n",
    "# will be used to load MATLAB mat datafile format\n",
    "from scipy.io import loadmat\n",
    "\n",
    "# we use pandas to import a comma-seperated values dataset\n",
    "import pandas as pd\n",
    "\n",
    "# tells matplotlib to embed plots within the notebook\n",
    "%matplotlib inline"
   ]
  },
  {
   "cell_type": "code",
   "execution_count": 2,
   "id": "0df07675",
   "metadata": {},
   "outputs": [],
   "source": [
    "f1_scores_train_types = []\n",
    "f1_scores_train_data = np.zeros(7)\n",
    "f1_scores_test_types = []\n",
    "f1_scores_test_data = np.zeros(7)"
   ]
  },
  {
   "cell_type": "markdown",
   "id": "a2695bf3",
   "metadata": {},
   "source": [
    "# Baseline features"
   ]
  },
  {
   "cell_type": "code",
   "execution_count": 3,
   "id": "a7cd6fae",
   "metadata": {},
   "outputs": [],
   "source": [
    "#  training data stored in arrays X, y\n",
    "#df = pd.read_csv(os.path.join('data', 'healthcare-dataset-stroke-data.csv'))\n",
    "#X = pd.DataFrame(df, columns=['age', 'hypertension', 'heart_disease', 'avg_glucose_level']).to_numpy()\n",
    "#X = np.around(X, 5)\n",
    "#print(\"X: \")\n",
    "#print(X)\n",
    "\n",
    "#y = pd.DataFrame(df, columns=['stroke']).to_numpy()\n",
    "#y = np.around(y, 5)\n",
    "#y.reshape(5110)\n",
    "#print(\"y: \")\n",
    "#print(y)\n",
    " \n",
    "data = pd.read_csv(os.path.join('data', 'healthcare-dataset-stroke-data.csv'))\n",
    "\n",
    "data.head(10)\n",
    "\n",
    "data.drop(\"id\", axis = 1, inplace = True)\n",
    "data.drop(\"gender\", axis = 1, inplace = True)\n",
    "data.drop(\"ever_married\", axis = 1, inplace = True)\n",
    "data.drop(\"work_type\", axis = 1, inplace = True)\n",
    "data.drop(\"Residence_type\", axis = 1, inplace = True)\n",
    "data.drop(\"bmi\", axis = 1, inplace = True)\n",
    "data.drop(\"smoking_status\", axis = 1, inplace = True)\n",
    "\n",
    "#print(data)"
   ]
  },
  {
   "cell_type": "code",
   "execution_count": 4,
   "id": "7a785b22",
   "metadata": {},
   "outputs": [
    {
     "data": {
      "text/plain": [
       "1    249\n",
       "0    249\n",
       "Name: stroke, dtype: int64"
      ]
     },
     "execution_count": 4,
     "metadata": {},
     "output_type": "execute_result"
    }
   ],
   "source": [
    "negative = data[data.stroke==0]\n",
    "positive = data[data.stroke==1]\n",
    "\n",
    "#print(data.stroke.value_counts())\n",
    "\n",
    "#print(negative.stroke.value_counts())\n",
    "#print(positive.stroke.value_counts())\n",
    "\n",
    "# downsample majority\n",
    "neg_downsampled = resample(negative,\n",
    " replace=True, # sample with replacement\n",
    " n_samples=len(positive), # match number in minority class\n",
    " random_state=27) # reproducible results\n",
    "# combine minority and downsampled majority\n",
    "downsampled = pd.concat([positive, neg_downsampled])\n",
    "# check new class counts\n",
    "downsampled.stroke.value_counts()"
   ]
  },
  {
   "cell_type": "code",
   "execution_count": 5,
   "id": "4ea0626b",
   "metadata": {},
   "outputs": [],
   "source": [
    "X = downsampled.drop(['stroke'], axis=1).values\n",
    "y = downsampled['stroke'].values"
   ]
  },
  {
   "cell_type": "code",
   "execution_count": 6,
   "id": "66e06abc",
   "metadata": {},
   "outputs": [],
   "source": [
    "# Setup the data matrix appropriately, and add ones for the intercept term\n",
    "m, n = X.shape\n",
    "\n",
    "#print(X.shape)\n",
    "\n",
    "# Add intercept term to X\n",
    "X = np.concatenate([np.ones((m, 1)), X], axis=1)\n",
    "\n",
    "#print(X.shape)\n",
    "#print(X)"
   ]
  },
  {
   "cell_type": "code",
   "execution_count": 7,
   "id": "c5a549ef",
   "metadata": {},
   "outputs": [
    {
     "name": "stdout",
     "output_type": "stream",
     "text": [
      "(398, 5)\n"
     ]
    }
   ],
   "source": [
    "X_train, X_test, y_train, y_test = train_test_split(X, y, test_size=0.20, random_state=0,shuffle=True, stratify=y)\n",
    "print(X_train.shape)"
   ]
  },
  {
   "cell_type": "code",
   "execution_count": 8,
   "id": "ee8491dd",
   "metadata": {},
   "outputs": [],
   "source": [
    "_lambda = 1"
   ]
  },
  {
   "cell_type": "code",
   "execution_count": 9,
   "id": "1b50e394",
   "metadata": {},
   "outputs": [],
   "source": [
    "# Initialize fitting parameters\n",
    "initial_theta = np.zeros(n+1)\n",
    "cost, grad = lr.lrCostFunction(initial_theta, X_train, y_train, _lambda)\n",
    "#print(cost)\n",
    "#print(grad)\n",
    "\n",
    "#print(cost.shape)\n",
    "#print(grad.shape)"
   ]
  },
  {
   "cell_type": "code",
   "execution_count": 10,
   "id": "a68968cd",
   "metadata": {
    "scrolled": true
   },
   "outputs": [
    {
     "name": "stdout",
     "output_type": "stream",
     "text": [
      "Cost at theta found by optimize.minimize: 0.464\n",
      "theta:\n",
      "\t[-4.920, 0.072, 0.973, 0.116, 0.006]\n"
     ]
    }
   ],
   "source": [
    "theta, cost, grad = lr.lrOptimization(lr.lrCostFunction, initial_theta, X_train, y_train, _lambda)"
   ]
  },
  {
   "cell_type": "code",
   "execution_count": 11,
   "id": "40adb801",
   "metadata": {},
   "outputs": [],
   "source": [
    "#print(\"op de training set\")\n",
    "#print(f1_score(y_train,p_train,average='binary'))"
   ]
  },
  {
   "cell_type": "code",
   "execution_count": 12,
   "id": "a2d0fe3b",
   "metadata": {},
   "outputs": [
    {
     "name": "stdout",
     "output_type": "stream",
     "text": [
      "max f1 score:  0.8116591928251121\n",
      "for decision boundary:  0.36\n"
     ]
    }
   ],
   "source": [
    "j = 0\n",
    "f1_scores = np.zeros(20)\n",
    "decision_boundary = np.zeros(20)\n",
    "for i in range(30, 50):\n",
    "    p_train = lr.predict(theta, X_train, (i/100))\n",
    "    f1_scores[j] = f1_score(y_train,p_train,average='binary')\n",
    "    decision_boundary[j] = (i/100)\n",
    "    j += 1\n",
    "    #print(\"zeker: \", i/100)\n",
    "    #print(f1_score(y,p,average='binary'))\n",
    "    \n",
    "index = np.argmax(f1_scores)\n",
    "#print(f1_scores)\n",
    "print(\"max f1 score: \", f1_scores[index])\n",
    "print(\"for decision boundary: \", decision_boundary[index])\n",
    "#print(f1_scores([np.argmax(f1_scores)]))\n",
    "\n",
    "f1_scores_train_types.append('baseline')\n",
    "f1_scores_train_data[0] = f1_scores[index]"
   ]
  },
  {
   "cell_type": "code",
   "execution_count": 13,
   "id": "0eeca8ba",
   "metadata": {},
   "outputs": [
    {
     "name": "stdout",
     "output_type": "stream",
     "text": [
      "Train Accuracy: 78.89 %\n"
     ]
    }
   ],
   "source": [
    "p_train = lr.predict(theta, X_train, decision_boundary[index])\n",
    "print('Train Accuracy: {:.2f} %'.format(np.mean(p_train == y_train) * 100))"
   ]
  },
  {
   "cell_type": "code",
   "execution_count": 14,
   "id": "51234691",
   "metadata": {},
   "outputs": [
    {
     "name": "stdout",
     "output_type": "stream",
     "text": [
      "max f1 score:  0.8158844765342961\n",
      "for decision boundary:  0.36\n"
     ]
    }
   ],
   "source": [
    "j = 0\n",
    "f1_scores = np.zeros(20)\n",
    "decision_boundary = np.zeros(20)\n",
    "for i in range(30, 50):\n",
    "    p = lr.predict(theta, X, (i/100))\n",
    "    f1_scores[j] = f1_score(y,p,average='binary')\n",
    "    decision_boundary[j] = (i/100)\n",
    "    j += 1\n",
    "    #print(\"zeker: \", i/100)\n",
    "    #print(f1_score(y,p,average='binary'))\n",
    "    \n",
    "index = np.argmax(f1_scores)\n",
    "#print(f1_scores)\n",
    "print(\"max f1 score: \", f1_scores[index])\n",
    "print(\"for decision boundary: \", decision_boundary[index])\n",
    "#print(f1_scores([np.argmax(f1_scores)]))\n",
    "\n",
    "f1_scores_test_types.append('baseline')\n",
    "f1_scores_test_data[0] = f1_scores[index]"
   ]
  },
  {
   "cell_type": "markdown",
   "id": "d8c23fd9",
   "metadata": {},
   "source": [
    "# Feature: gender"
   ]
  },
  {
   "cell_type": "code",
   "execution_count": 15,
   "id": "f8af4c54",
   "metadata": {},
   "outputs": [],
   "source": [
    "#  training data stored in arrays X, y\n",
    "#df = pd.read_csv(os.path.join('data', 'healthcare-dataset-stroke-data.csv'))\n",
    "#X = pd.DataFrame(df, columns=['age', 'hypertension', 'heart_disease', 'avg_glucose_level']).to_numpy()\n",
    "#X = np.around(X, 5)\n",
    "#print(\"X: \")\n",
    "#print(X)\n",
    "\n",
    "#y = pd.DataFrame(df, columns=['stroke']).to_numpy()\n",
    "#y = np.around(y, 5)\n",
    "#y.reshape(5110)\n",
    "#print(\"y: \")\n",
    "#print(y)\n",
    " \n",
    "data = pd.read_csv(os.path.join('data', 'healthcare-dataset-stroke-data.csv'))\n",
    "\n",
    "data.head(10)\n",
    "\n",
    "data.drop(\"id\", axis = 1, inplace = True)\n",
    "#data.drop(\"gender\", axis = 1, inplace = True)\n",
    "data.drop(\"ever_married\", axis = 1, inplace = True)\n",
    "data.drop(\"work_type\", axis = 1, inplace = True)\n",
    "data.drop(\"Residence_type\", axis = 1, inplace = True)\n",
    "data.drop(\"bmi\", axis = 1, inplace = True)\n",
    "data.drop(\"smoking_status\", axis = 1, inplace = True)\n",
    "\n",
    "#print(data)"
   ]
  },
  {
   "cell_type": "code",
   "execution_count": 16,
   "id": "d04c4002",
   "metadata": {},
   "outputs": [],
   "source": [
    "num_cols = data.select_dtypes(include = [np.number]).columns.tolist()\n",
    "obj_cols = data.select_dtypes(exclude = [np.number]).columns.tolist()"
   ]
  },
  {
   "cell_type": "code",
   "execution_count": 17,
   "id": "312548c0",
   "metadata": {},
   "outputs": [
    {
     "name": "stdout",
     "output_type": "stream",
     "text": [
      "(5110, 3)\n"
     ]
    },
    {
     "data": {
      "text/html": [
       "<div>\n",
       "<style scoped>\n",
       "    .dataframe tbody tr th:only-of-type {\n",
       "        vertical-align: middle;\n",
       "    }\n",
       "\n",
       "    .dataframe tbody tr th {\n",
       "        vertical-align: top;\n",
       "    }\n",
       "\n",
       "    .dataframe thead th {\n",
       "        text-align: right;\n",
       "    }\n",
       "</style>\n",
       "<table border=\"1\" class=\"dataframe\">\n",
       "  <thead>\n",
       "    <tr style=\"text-align: right;\">\n",
       "      <th></th>\n",
       "      <th>gender_Female</th>\n",
       "      <th>gender_Male</th>\n",
       "      <th>gender_Other</th>\n",
       "    </tr>\n",
       "  </thead>\n",
       "  <tbody>\n",
       "    <tr>\n",
       "      <th>0</th>\n",
       "      <td>0</td>\n",
       "      <td>1</td>\n",
       "      <td>0</td>\n",
       "    </tr>\n",
       "    <tr>\n",
       "      <th>1</th>\n",
       "      <td>1</td>\n",
       "      <td>0</td>\n",
       "      <td>0</td>\n",
       "    </tr>\n",
       "    <tr>\n",
       "      <th>2</th>\n",
       "      <td>0</td>\n",
       "      <td>1</td>\n",
       "      <td>0</td>\n",
       "    </tr>\n",
       "    <tr>\n",
       "      <th>3</th>\n",
       "      <td>1</td>\n",
       "      <td>0</td>\n",
       "      <td>0</td>\n",
       "    </tr>\n",
       "    <tr>\n",
       "      <th>4</th>\n",
       "      <td>1</td>\n",
       "      <td>0</td>\n",
       "      <td>0</td>\n",
       "    </tr>\n",
       "  </tbody>\n",
       "</table>\n",
       "</div>"
      ],
      "text/plain": [
       "   gender_Female  gender_Male  gender_Other\n",
       "0              0            1             0\n",
       "1              1            0             0\n",
       "2              0            1             0\n",
       "3              1            0             0\n",
       "4              1            0             0"
      ]
     },
     "execution_count": 17,
     "metadata": {},
     "output_type": "execute_result"
    }
   ],
   "source": [
    "# Numerical columns data\n",
    "data_new_num = data[num_cols]\n",
    "\n",
    "# Categorical columns data\n",
    "data_new_cat = data[obj_cols]\n",
    "\n",
    "# Creating dummies\n",
    "data_new_cat_dummies = pd.get_dummies(data_new_cat)\n",
    "print(data_new_cat_dummies.shape)\n",
    "data_new_cat_dummies.head()"
   ]
  },
  {
   "cell_type": "code",
   "execution_count": 18,
   "id": "80da53a9",
   "metadata": {},
   "outputs": [
    {
     "name": "stdout",
     "output_type": "stream",
     "text": [
      "(5110, 8)\n"
     ]
    },
    {
     "data": {
      "text/html": [
       "<div>\n",
       "<style scoped>\n",
       "    .dataframe tbody tr th:only-of-type {\n",
       "        vertical-align: middle;\n",
       "    }\n",
       "\n",
       "    .dataframe tbody tr th {\n",
       "        vertical-align: top;\n",
       "    }\n",
       "\n",
       "    .dataframe thead th {\n",
       "        text-align: right;\n",
       "    }\n",
       "</style>\n",
       "<table border=\"1\" class=\"dataframe\">\n",
       "  <thead>\n",
       "    <tr style=\"text-align: right;\">\n",
       "      <th></th>\n",
       "      <th>age</th>\n",
       "      <th>hypertension</th>\n",
       "      <th>heart_disease</th>\n",
       "      <th>avg_glucose_level</th>\n",
       "      <th>stroke</th>\n",
       "      <th>gender_Female</th>\n",
       "      <th>gender_Male</th>\n",
       "      <th>gender_Other</th>\n",
       "    </tr>\n",
       "  </thead>\n",
       "  <tbody>\n",
       "    <tr>\n",
       "      <th>0</th>\n",
       "      <td>67.0</td>\n",
       "      <td>0</td>\n",
       "      <td>1</td>\n",
       "      <td>228.69</td>\n",
       "      <td>1</td>\n",
       "      <td>0</td>\n",
       "      <td>1</td>\n",
       "      <td>0</td>\n",
       "    </tr>\n",
       "    <tr>\n",
       "      <th>1</th>\n",
       "      <td>61.0</td>\n",
       "      <td>0</td>\n",
       "      <td>0</td>\n",
       "      <td>202.21</td>\n",
       "      <td>1</td>\n",
       "      <td>1</td>\n",
       "      <td>0</td>\n",
       "      <td>0</td>\n",
       "    </tr>\n",
       "    <tr>\n",
       "      <th>2</th>\n",
       "      <td>80.0</td>\n",
       "      <td>0</td>\n",
       "      <td>1</td>\n",
       "      <td>105.92</td>\n",
       "      <td>1</td>\n",
       "      <td>0</td>\n",
       "      <td>1</td>\n",
       "      <td>0</td>\n",
       "    </tr>\n",
       "    <tr>\n",
       "      <th>3</th>\n",
       "      <td>49.0</td>\n",
       "      <td>0</td>\n",
       "      <td>0</td>\n",
       "      <td>171.23</td>\n",
       "      <td>1</td>\n",
       "      <td>1</td>\n",
       "      <td>0</td>\n",
       "      <td>0</td>\n",
       "    </tr>\n",
       "    <tr>\n",
       "      <th>4</th>\n",
       "      <td>79.0</td>\n",
       "      <td>1</td>\n",
       "      <td>0</td>\n",
       "      <td>174.12</td>\n",
       "      <td>1</td>\n",
       "      <td>1</td>\n",
       "      <td>0</td>\n",
       "      <td>0</td>\n",
       "    </tr>\n",
       "  </tbody>\n",
       "</table>\n",
       "</div>"
      ],
      "text/plain": [
       "    age  hypertension  heart_disease  avg_glucose_level  stroke  \\\n",
       "0  67.0             0              1             228.69       1   \n",
       "1  61.0             0              0             202.21       1   \n",
       "2  80.0             0              1             105.92       1   \n",
       "3  49.0             0              0             171.23       1   \n",
       "4  79.0             1              0             174.12       1   \n",
       "\n",
       "   gender_Female  gender_Male  gender_Other  \n",
       "0              0            1             0  \n",
       "1              1            0             0  \n",
       "2              0            1             0  \n",
       "3              1            0             0  \n",
       "4              1            0             0  "
      ]
     },
     "execution_count": 18,
     "metadata": {},
     "output_type": "execute_result"
    }
   ],
   "source": [
    "data_new_final = pd.concat([data_new_num, data_new_cat_dummies], axis = 1)\n",
    "print(data_new_final.shape)\n",
    "data_new_final.head()"
   ]
  },
  {
   "cell_type": "code",
   "execution_count": 19,
   "id": "cec59019",
   "metadata": {},
   "outputs": [
    {
     "name": "stdout",
     "output_type": "stream",
     "text": [
      "<class 'pandas.core.frame.DataFrame'>\n",
      "RangeIndex: 5110 entries, 0 to 5109\n",
      "Data columns (total 8 columns):\n",
      " #   Column             Non-Null Count  Dtype  \n",
      "---  ------             --------------  -----  \n",
      " 0   age                5110 non-null   float64\n",
      " 1   hypertension       5110 non-null   int64  \n",
      " 2   heart_disease      5110 non-null   int64  \n",
      " 3   avg_glucose_level  5110 non-null   float64\n",
      " 4   stroke             5110 non-null   int64  \n",
      " 5   gender_Female      5110 non-null   uint8  \n",
      " 6   gender_Male        5110 non-null   uint8  \n",
      " 7   gender_Other       5110 non-null   uint8  \n",
      "dtypes: float64(2), int64(3), uint8(3)\n",
      "memory usage: 214.7 KB\n"
     ]
    }
   ],
   "source": [
    "data_new_final.info()"
   ]
  },
  {
   "cell_type": "code",
   "execution_count": 20,
   "id": "ed4dd9bf",
   "metadata": {},
   "outputs": [
    {
     "data": {
      "text/plain": [
       "1    249\n",
       "0    249\n",
       "Name: stroke, dtype: int64"
      ]
     },
     "execution_count": 20,
     "metadata": {},
     "output_type": "execute_result"
    }
   ],
   "source": [
    "negative = data_new_final[data_new_final.stroke==0]\n",
    "positive = data_new_final[data_new_final.stroke==1]\n",
    "\n",
    "#print(data.stroke.value_counts())\n",
    "\n",
    "#print(negative.stroke.value_counts())\n",
    "#print(positive.stroke.value_counts())\n",
    "\n",
    "# downsample majority\n",
    "neg_downsampled = resample(negative,\n",
    " replace=True, # sample with replacement\n",
    " n_samples=len(positive), # match number in minority class\n",
    " random_state=27) # reproducible results\n",
    "# combine minority and downsampled majority\n",
    "downsampled = pd.concat([positive, neg_downsampled])\n",
    "# check new class counts\n",
    "downsampled.stroke.value_counts()"
   ]
  },
  {
   "cell_type": "code",
   "execution_count": 21,
   "id": "545579d6",
   "metadata": {},
   "outputs": [],
   "source": [
    "X = downsampled.drop(['stroke'], axis=1).values\n",
    "y = downsampled['stroke'].values"
   ]
  },
  {
   "cell_type": "code",
   "execution_count": 22,
   "id": "05b3a96e",
   "metadata": {},
   "outputs": [],
   "source": [
    "# Setup the data matrix appropriately, and add ones for the intercept term\n",
    "m, n = X.shape\n",
    "\n",
    "#print(X.shape)\n",
    "\n",
    "# Add intercept term to X\n",
    "X = np.concatenate([np.ones((m, 1)), X], axis=1)\n",
    "\n",
    "#print(X.shape)\n",
    "#print(X)"
   ]
  },
  {
   "cell_type": "code",
   "execution_count": 23,
   "id": "e35c8b2d",
   "metadata": {},
   "outputs": [
    {
     "name": "stdout",
     "output_type": "stream",
     "text": [
      "(398, 8)\n"
     ]
    }
   ],
   "source": [
    "X_train, X_test, y_train, y_test = train_test_split(X, y, test_size=0.20, random_state=0,shuffle=True, stratify=y)\n",
    "print(X_train.shape)"
   ]
  },
  {
   "cell_type": "code",
   "execution_count": 24,
   "id": "abf843a2",
   "metadata": {},
   "outputs": [],
   "source": [
    "_lambda = 1"
   ]
  },
  {
   "cell_type": "code",
   "execution_count": 25,
   "id": "e8fc13f8",
   "metadata": {},
   "outputs": [],
   "source": [
    "# Initialize fitting parameters\n",
    "initial_theta = np.zeros(n+1)\n",
    "cost, grad = lr.lrCostFunction(initial_theta, X_train, y_train, _lambda)\n",
    "#print(cost)\n",
    "#print(grad)\n",
    "\n",
    "#print(cost.shape)\n",
    "#print(grad.shape)"
   ]
  },
  {
   "cell_type": "code",
   "execution_count": 26,
   "id": "874c1258",
   "metadata": {
    "scrolled": true
   },
   "outputs": [
    {
     "name": "stdout",
     "output_type": "stream",
     "text": [
      "Cost at theta found by optimize.minimize: 0.460\n",
      "theta:\n",
      "\t[-5.099, 0.073, 0.940, 0.233, 0.006]\n"
     ]
    }
   ],
   "source": [
    "theta, cost, grad = lr.lrOptimization(lr.lrCostFunction, initial_theta, X_train, y_train, _lambda)"
   ]
  },
  {
   "cell_type": "code",
   "execution_count": 27,
   "id": "d42a4d6a",
   "metadata": {},
   "outputs": [],
   "source": [
    "#print(\"op de training set\")\n",
    "#print(f1_score(y_train,p_train,average='binary'))"
   ]
  },
  {
   "cell_type": "code",
   "execution_count": 28,
   "id": "2eaec11c",
   "metadata": {},
   "outputs": [
    {
     "name": "stdout",
     "output_type": "stream",
     "text": [
      "max f1 score:  0.8096280087527352\n",
      "for decision boundary:  0.33\n"
     ]
    }
   ],
   "source": [
    "j = 0\n",
    "f1_scores = np.zeros(20)\n",
    "decision_boundary = np.zeros(20)\n",
    "for i in range(30, 50):\n",
    "    p_train = lr.predict(theta, X_train, (i/100))\n",
    "    f1_scores[j] = f1_score(y_train,p_train,average='binary')\n",
    "    decision_boundary[j] = (i/100)\n",
    "    j += 1\n",
    "    #print(\"zeker: \", i/100)\n",
    "    #print(f1_score(y,p,average='binary'))\n",
    "    \n",
    "index = np.argmax(f1_scores)\n",
    "#print(f1_scores)\n",
    "print(\"max f1 score: \", f1_scores[index])\n",
    "print(\"for decision boundary: \", decision_boundary[index])\n",
    "#print(f1_scores([np.argmax(f1_scores)]))\n",
    "\n",
    "f1_scores_train_types.append('gender')\n",
    "f1_scores_train_data[1] = f1_scores[index]"
   ]
  },
  {
   "cell_type": "code",
   "execution_count": 29,
   "id": "03851be8",
   "metadata": {},
   "outputs": [
    {
     "name": "stdout",
     "output_type": "stream",
     "text": [
      "Train Accuracy: 78.14 %\n"
     ]
    }
   ],
   "source": [
    "p_train = lr.predict(theta, X_train, decision_boundary[index])\n",
    "print('Train Accuracy: {:.2f} %'.format(np.mean(p_train == y_train) * 100))"
   ]
  },
  {
   "cell_type": "code",
   "execution_count": 30,
   "id": "6ca2426b",
   "metadata": {},
   "outputs": [
    {
     "name": "stdout",
     "output_type": "stream",
     "text": [
      "max f1 score:  0.8106194690265487\n",
      "for decision boundary:  0.33\n"
     ]
    }
   ],
   "source": [
    "j = 0\n",
    "f1_scores = np.zeros(20)\n",
    "decision_boundary = np.zeros(20)\n",
    "for i in range(30, 50):\n",
    "    p = lr.predict(theta, X, (i/100))\n",
    "    f1_scores[j] = f1_score(y,p,average='binary')\n",
    "    decision_boundary[j] = (i/100)\n",
    "    j += 1\n",
    "    #print(\"zeker: \", i/100)\n",
    "    #print(f1_score(y,p,average='binary'))\n",
    "    \n",
    "index = np.argmax(f1_scores)\n",
    "#print(f1_scores)\n",
    "print(\"max f1 score: \", f1_scores[index])\n",
    "print(\"for decision boundary: \", decision_boundary[index])\n",
    "#print(f1_scores([np.argmax(f1_scores)]))\n",
    "\n",
    "f1_scores_test_types.append('gender')\n",
    "f1_scores_test_data[1] = f1_scores[index]"
   ]
  },
  {
   "cell_type": "markdown",
   "id": "cbe653dd",
   "metadata": {},
   "source": [
    "# Feature: ever married"
   ]
  },
  {
   "cell_type": "code",
   "execution_count": 31,
   "id": "0a0992b3",
   "metadata": {},
   "outputs": [],
   "source": [
    "#  training data stored in arrays X, y\n",
    "#df = pd.read_csv(os.path.join('data', 'healthcare-dataset-stroke-data.csv'))\n",
    "#X = pd.DataFrame(df, columns=['age', 'hypertension', 'heart_disease', 'avg_glucose_level']).to_numpy()\n",
    "#X = np.around(X, 5)\n",
    "#print(\"X: \")\n",
    "#print(X)\n",
    "\n",
    "#y = pd.DataFrame(df, columns=['stroke']).to_numpy()\n",
    "#y = np.around(y, 5)\n",
    "#y.reshape(5110)\n",
    "#print(\"y: \")\n",
    "#print(y)\n",
    " \n",
    "data = pd.read_csv(os.path.join('data', 'healthcare-dataset-stroke-data.csv'))\n",
    "\n",
    "data.head(10)\n",
    "\n",
    "data.drop(\"id\", axis = 1, inplace = True)\n",
    "data.drop(\"gender\", axis = 1, inplace = True)\n",
    "#data.drop(\"ever_married\", axis = 1, inplace = True)\n",
    "data.drop(\"work_type\", axis = 1, inplace = True)\n",
    "data.drop(\"Residence_type\", axis = 1, inplace = True)\n",
    "data.drop(\"bmi\", axis = 1, inplace = True)\n",
    "data.drop(\"smoking_status\", axis = 1, inplace = True)\n",
    "\n",
    "#print(data)"
   ]
  },
  {
   "cell_type": "code",
   "execution_count": 32,
   "id": "721ca825",
   "metadata": {},
   "outputs": [],
   "source": [
    "num_cols = data.select_dtypes(include = [np.number]).columns.tolist()\n",
    "obj_cols = data.select_dtypes(exclude = [np.number]).columns.tolist()"
   ]
  },
  {
   "cell_type": "code",
   "execution_count": 33,
   "id": "c391e122",
   "metadata": {},
   "outputs": [
    {
     "name": "stdout",
     "output_type": "stream",
     "text": [
      "(5110, 2)\n"
     ]
    },
    {
     "data": {
      "text/html": [
       "<div>\n",
       "<style scoped>\n",
       "    .dataframe tbody tr th:only-of-type {\n",
       "        vertical-align: middle;\n",
       "    }\n",
       "\n",
       "    .dataframe tbody tr th {\n",
       "        vertical-align: top;\n",
       "    }\n",
       "\n",
       "    .dataframe thead th {\n",
       "        text-align: right;\n",
       "    }\n",
       "</style>\n",
       "<table border=\"1\" class=\"dataframe\">\n",
       "  <thead>\n",
       "    <tr style=\"text-align: right;\">\n",
       "      <th></th>\n",
       "      <th>ever_married_No</th>\n",
       "      <th>ever_married_Yes</th>\n",
       "    </tr>\n",
       "  </thead>\n",
       "  <tbody>\n",
       "    <tr>\n",
       "      <th>0</th>\n",
       "      <td>0</td>\n",
       "      <td>1</td>\n",
       "    </tr>\n",
       "    <tr>\n",
       "      <th>1</th>\n",
       "      <td>0</td>\n",
       "      <td>1</td>\n",
       "    </tr>\n",
       "    <tr>\n",
       "      <th>2</th>\n",
       "      <td>0</td>\n",
       "      <td>1</td>\n",
       "    </tr>\n",
       "    <tr>\n",
       "      <th>3</th>\n",
       "      <td>0</td>\n",
       "      <td>1</td>\n",
       "    </tr>\n",
       "    <tr>\n",
       "      <th>4</th>\n",
       "      <td>0</td>\n",
       "      <td>1</td>\n",
       "    </tr>\n",
       "  </tbody>\n",
       "</table>\n",
       "</div>"
      ],
      "text/plain": [
       "   ever_married_No  ever_married_Yes\n",
       "0                0                 1\n",
       "1                0                 1\n",
       "2                0                 1\n",
       "3                0                 1\n",
       "4                0                 1"
      ]
     },
     "execution_count": 33,
     "metadata": {},
     "output_type": "execute_result"
    }
   ],
   "source": [
    "# Numerical columns data\n",
    "data_new_num = data[num_cols]\n",
    "\n",
    "# Categorical columns data\n",
    "data_new_cat = data[obj_cols]\n",
    "\n",
    "# Creating dummies\n",
    "data_new_cat_dummies = pd.get_dummies(data_new_cat)\n",
    "print(data_new_cat_dummies.shape)\n",
    "data_new_cat_dummies.head()"
   ]
  },
  {
   "cell_type": "code",
   "execution_count": 34,
   "id": "9b6953a5",
   "metadata": {},
   "outputs": [
    {
     "name": "stdout",
     "output_type": "stream",
     "text": [
      "(5110, 7)\n"
     ]
    },
    {
     "data": {
      "text/html": [
       "<div>\n",
       "<style scoped>\n",
       "    .dataframe tbody tr th:only-of-type {\n",
       "        vertical-align: middle;\n",
       "    }\n",
       "\n",
       "    .dataframe tbody tr th {\n",
       "        vertical-align: top;\n",
       "    }\n",
       "\n",
       "    .dataframe thead th {\n",
       "        text-align: right;\n",
       "    }\n",
       "</style>\n",
       "<table border=\"1\" class=\"dataframe\">\n",
       "  <thead>\n",
       "    <tr style=\"text-align: right;\">\n",
       "      <th></th>\n",
       "      <th>age</th>\n",
       "      <th>hypertension</th>\n",
       "      <th>heart_disease</th>\n",
       "      <th>avg_glucose_level</th>\n",
       "      <th>stroke</th>\n",
       "      <th>ever_married_No</th>\n",
       "      <th>ever_married_Yes</th>\n",
       "    </tr>\n",
       "  </thead>\n",
       "  <tbody>\n",
       "    <tr>\n",
       "      <th>0</th>\n",
       "      <td>67.0</td>\n",
       "      <td>0</td>\n",
       "      <td>1</td>\n",
       "      <td>228.69</td>\n",
       "      <td>1</td>\n",
       "      <td>0</td>\n",
       "      <td>1</td>\n",
       "    </tr>\n",
       "    <tr>\n",
       "      <th>1</th>\n",
       "      <td>61.0</td>\n",
       "      <td>0</td>\n",
       "      <td>0</td>\n",
       "      <td>202.21</td>\n",
       "      <td>1</td>\n",
       "      <td>0</td>\n",
       "      <td>1</td>\n",
       "    </tr>\n",
       "    <tr>\n",
       "      <th>2</th>\n",
       "      <td>80.0</td>\n",
       "      <td>0</td>\n",
       "      <td>1</td>\n",
       "      <td>105.92</td>\n",
       "      <td>1</td>\n",
       "      <td>0</td>\n",
       "      <td>1</td>\n",
       "    </tr>\n",
       "    <tr>\n",
       "      <th>3</th>\n",
       "      <td>49.0</td>\n",
       "      <td>0</td>\n",
       "      <td>0</td>\n",
       "      <td>171.23</td>\n",
       "      <td>1</td>\n",
       "      <td>0</td>\n",
       "      <td>1</td>\n",
       "    </tr>\n",
       "    <tr>\n",
       "      <th>4</th>\n",
       "      <td>79.0</td>\n",
       "      <td>1</td>\n",
       "      <td>0</td>\n",
       "      <td>174.12</td>\n",
       "      <td>1</td>\n",
       "      <td>0</td>\n",
       "      <td>1</td>\n",
       "    </tr>\n",
       "  </tbody>\n",
       "</table>\n",
       "</div>"
      ],
      "text/plain": [
       "    age  hypertension  heart_disease  avg_glucose_level  stroke  \\\n",
       "0  67.0             0              1             228.69       1   \n",
       "1  61.0             0              0             202.21       1   \n",
       "2  80.0             0              1             105.92       1   \n",
       "3  49.0             0              0             171.23       1   \n",
       "4  79.0             1              0             174.12       1   \n",
       "\n",
       "   ever_married_No  ever_married_Yes  \n",
       "0                0                 1  \n",
       "1                0                 1  \n",
       "2                0                 1  \n",
       "3                0                 1  \n",
       "4                0                 1  "
      ]
     },
     "execution_count": 34,
     "metadata": {},
     "output_type": "execute_result"
    }
   ],
   "source": [
    "data_new_final = pd.concat([data_new_num, data_new_cat_dummies], axis = 1)\n",
    "print(data_new_final.shape)\n",
    "data_new_final.head()"
   ]
  },
  {
   "cell_type": "code",
   "execution_count": 35,
   "id": "c0ea210d",
   "metadata": {},
   "outputs": [
    {
     "name": "stdout",
     "output_type": "stream",
     "text": [
      "<class 'pandas.core.frame.DataFrame'>\n",
      "RangeIndex: 5110 entries, 0 to 5109\n",
      "Data columns (total 7 columns):\n",
      " #   Column             Non-Null Count  Dtype  \n",
      "---  ------             --------------  -----  \n",
      " 0   age                5110 non-null   float64\n",
      " 1   hypertension       5110 non-null   int64  \n",
      " 2   heart_disease      5110 non-null   int64  \n",
      " 3   avg_glucose_level  5110 non-null   float64\n",
      " 4   stroke             5110 non-null   int64  \n",
      " 5   ever_married_No    5110 non-null   uint8  \n",
      " 6   ever_married_Yes   5110 non-null   uint8  \n",
      "dtypes: float64(2), int64(3), uint8(2)\n",
      "memory usage: 209.7 KB\n"
     ]
    }
   ],
   "source": [
    "data_new_final.info()"
   ]
  },
  {
   "cell_type": "code",
   "execution_count": 36,
   "id": "fc6e8db6",
   "metadata": {},
   "outputs": [
    {
     "data": {
      "text/plain": [
       "1    249\n",
       "0    249\n",
       "Name: stroke, dtype: int64"
      ]
     },
     "execution_count": 36,
     "metadata": {},
     "output_type": "execute_result"
    }
   ],
   "source": [
    "negative = data_new_final[data_new_final.stroke==0]\n",
    "positive = data_new_final[data_new_final.stroke==1]\n",
    "\n",
    "#print(data.stroke.value_counts())\n",
    "\n",
    "#print(negative.stroke.value_counts())\n",
    "#print(positive.stroke.value_counts())\n",
    "\n",
    "# downsample majority\n",
    "neg_downsampled = resample(negative,\n",
    " replace=True, # sample with replacement\n",
    " n_samples=len(positive), # match number in minority class\n",
    " random_state=27) # reproducible results\n",
    "# combine minority and downsampled majority\n",
    "downsampled = pd.concat([positive, neg_downsampled])\n",
    "# check new class counts\n",
    "downsampled.stroke.value_counts()"
   ]
  },
  {
   "cell_type": "code",
   "execution_count": 37,
   "id": "02fa9694",
   "metadata": {},
   "outputs": [],
   "source": [
    "X = downsampled.drop(['stroke'], axis=1).values\n",
    "y = downsampled['stroke'].values"
   ]
  },
  {
   "cell_type": "code",
   "execution_count": 38,
   "id": "798c8867",
   "metadata": {},
   "outputs": [],
   "source": [
    "# Setup the data matrix appropriately, and add ones for the intercept term\n",
    "m, n = X.shape\n",
    "\n",
    "#print(X.shape)\n",
    "\n",
    "# Add intercept term to X\n",
    "X = np.concatenate([np.ones((m, 1)), X], axis=1)\n",
    "\n",
    "#print(X.shape)\n",
    "#print(X)"
   ]
  },
  {
   "cell_type": "code",
   "execution_count": 39,
   "id": "4452f9cf",
   "metadata": {},
   "outputs": [
    {
     "name": "stdout",
     "output_type": "stream",
     "text": [
      "(398, 7)\n"
     ]
    }
   ],
   "source": [
    "X_train, X_test, y_train, y_test = train_test_split(X, y, test_size=0.20, random_state=0,shuffle=True, stratify=y)\n",
    "print(X_train.shape)"
   ]
  },
  {
   "cell_type": "code",
   "execution_count": 40,
   "id": "4da685e9",
   "metadata": {},
   "outputs": [],
   "source": [
    "_lambda = 1"
   ]
  },
  {
   "cell_type": "code",
   "execution_count": 41,
   "id": "64177212",
   "metadata": {},
   "outputs": [],
   "source": [
    "# Initialize fitting parameters\n",
    "initial_theta = np.zeros(n+1)\n",
    "cost, grad = lr.lrCostFunction(initial_theta, X_train, y_train, _lambda)\n",
    "#print(cost)\n",
    "#print(grad)\n",
    "\n",
    "#print(cost.shape)\n",
    "#print(grad.shape)"
   ]
  },
  {
   "cell_type": "code",
   "execution_count": 42,
   "id": "02c5b57f",
   "metadata": {
    "scrolled": true
   },
   "outputs": [
    {
     "name": "stdout",
     "output_type": "stream",
     "text": [
      "Cost at theta found by optimize.minimize: 0.464\n",
      "theta:\n",
      "\t[-4.928, 0.072, 0.974, 0.114, 0.006]\n"
     ]
    }
   ],
   "source": [
    "theta, cost, grad = lr.lrOptimization(lr.lrCostFunction, initial_theta, X_train, y_train, _lambda)"
   ]
  },
  {
   "cell_type": "code",
   "execution_count": 43,
   "id": "7b68ff31",
   "metadata": {},
   "outputs": [],
   "source": [
    "#print(\"op de training set\")\n",
    "#print(f1_score(y_train,p_train,average='binary'))"
   ]
  },
  {
   "cell_type": "code",
   "execution_count": 44,
   "id": "6f56da1f",
   "metadata": {},
   "outputs": [
    {
     "name": "stdout",
     "output_type": "stream",
     "text": [
      "max f1 score:  0.8116591928251121\n",
      "for decision boundary:  0.36\n"
     ]
    }
   ],
   "source": [
    "j = 0\n",
    "f1_scores = np.zeros(20)\n",
    "decision_boundary = np.zeros(20)\n",
    "for i in range(30, 50):\n",
    "    p_train = lr.predict(theta, X_train, (i/100))\n",
    "    f1_scores[j] = f1_score(y_train,p_train,average='binary')\n",
    "    decision_boundary[j] = (i/100)\n",
    "    j += 1\n",
    "    #print(\"zeker: \", i/100)\n",
    "    #print(f1_score(y,p,average='binary'))\n",
    "    \n",
    "index = np.argmax(f1_scores)\n",
    "#print(f1_scores)\n",
    "print(\"max f1 score: \", f1_scores[index])\n",
    "print(\"for decision boundary: \", decision_boundary[index])\n",
    "#print(f1_scores([np.argmax(f1_scores)]))\n",
    "\n",
    "f1_scores_train_types.append('married')\n",
    "f1_scores_train_data[2] = f1_scores[index]"
   ]
  },
  {
   "cell_type": "code",
   "execution_count": 45,
   "id": "b04f227c",
   "metadata": {},
   "outputs": [
    {
     "name": "stdout",
     "output_type": "stream",
     "text": [
      "Train Accuracy: 78.89 %\n"
     ]
    }
   ],
   "source": [
    "p_train = lr.predict(theta, X_train, decision_boundary[index])\n",
    "print('Train Accuracy: {:.2f} %'.format(np.mean(p_train == y_train) * 100))"
   ]
  },
  {
   "cell_type": "code",
   "execution_count": 46,
   "id": "2772c631",
   "metadata": {},
   "outputs": [
    {
     "name": "stdout",
     "output_type": "stream",
     "text": [
      "max f1 score:  0.8158844765342961\n",
      "for decision boundary:  0.36\n"
     ]
    }
   ],
   "source": [
    "j = 0\n",
    "f1_scores = np.zeros(20)\n",
    "decision_boundary = np.zeros(20)\n",
    "for i in range(30, 50):\n",
    "    p = lr.predict(theta, X, (i/100))\n",
    "    f1_scores[j] = f1_score(y,p,average='binary')\n",
    "    decision_boundary[j] = (i/100)\n",
    "    j += 1\n",
    "    #print(\"zeker: \", i/100)\n",
    "    #print(f1_score(y,p,average='binary'))\n",
    "    \n",
    "index = np.argmax(f1_scores)\n",
    "#print(f1_scores)\n",
    "print(\"max f1 score: \", f1_scores[index])\n",
    "print(\"for decision boundary: \", decision_boundary[index])\n",
    "#print(f1_scores([np.argmax(f1_scores)]))\n",
    "\n",
    "f1_scores_test_types.append('married')\n",
    "f1_scores_test_data[2] = f1_scores[index]"
   ]
  },
  {
   "cell_type": "markdown",
   "id": "6ffb25c7",
   "metadata": {},
   "source": [
    "# Feature: work type"
   ]
  },
  {
   "cell_type": "code",
   "execution_count": 47,
   "id": "682b036f",
   "metadata": {},
   "outputs": [],
   "source": [
    "#  training data stored in arrays X, y\n",
    "#df = pd.read_csv(os.path.join('data', 'healthcare-dataset-stroke-data.csv'))\n",
    "#X = pd.DataFrame(df, columns=['age', 'hypertension', 'heart_disease', 'avg_glucose_level']).to_numpy()\n",
    "#X = np.around(X, 5)\n",
    "#print(\"X: \")\n",
    "#print(X)\n",
    "\n",
    "#y = pd.DataFrame(df, columns=['stroke']).to_numpy()\n",
    "#y = np.around(y, 5)\n",
    "#y.reshape(5110)\n",
    "#print(\"y: \")\n",
    "#print(y)\n",
    " \n",
    "data = pd.read_csv(os.path.join('data', 'healthcare-dataset-stroke-data.csv'))\n",
    "\n",
    "data.head(10)\n",
    "\n",
    "data.drop(\"id\", axis = 1, inplace = True)\n",
    "data.drop(\"gender\", axis = 1, inplace = True)\n",
    "data.drop(\"ever_married\", axis = 1, inplace = True)\n",
    "#data.drop(\"work_type\", axis = 1, inplace = True)\n",
    "data.drop(\"Residence_type\", axis = 1, inplace = True)\n",
    "data.drop(\"bmi\", axis = 1, inplace = True)\n",
    "data.drop(\"smoking_status\", axis = 1, inplace = True)\n",
    "\n",
    "#print(data)"
   ]
  },
  {
   "cell_type": "code",
   "execution_count": 48,
   "id": "6e802407",
   "metadata": {},
   "outputs": [],
   "source": [
    "num_cols = data.select_dtypes(include = [np.number]).columns.tolist()\n",
    "obj_cols = data.select_dtypes(exclude = [np.number]).columns.tolist()"
   ]
  },
  {
   "cell_type": "code",
   "execution_count": 49,
   "id": "9f585bec",
   "metadata": {},
   "outputs": [
    {
     "name": "stdout",
     "output_type": "stream",
     "text": [
      "(5110, 5)\n"
     ]
    },
    {
     "data": {
      "text/html": [
       "<div>\n",
       "<style scoped>\n",
       "    .dataframe tbody tr th:only-of-type {\n",
       "        vertical-align: middle;\n",
       "    }\n",
       "\n",
       "    .dataframe tbody tr th {\n",
       "        vertical-align: top;\n",
       "    }\n",
       "\n",
       "    .dataframe thead th {\n",
       "        text-align: right;\n",
       "    }\n",
       "</style>\n",
       "<table border=\"1\" class=\"dataframe\">\n",
       "  <thead>\n",
       "    <tr style=\"text-align: right;\">\n",
       "      <th></th>\n",
       "      <th>work_type_Govt_job</th>\n",
       "      <th>work_type_Never_worked</th>\n",
       "      <th>work_type_Private</th>\n",
       "      <th>work_type_Self-employed</th>\n",
       "      <th>work_type_children</th>\n",
       "    </tr>\n",
       "  </thead>\n",
       "  <tbody>\n",
       "    <tr>\n",
       "      <th>0</th>\n",
       "      <td>0</td>\n",
       "      <td>0</td>\n",
       "      <td>1</td>\n",
       "      <td>0</td>\n",
       "      <td>0</td>\n",
       "    </tr>\n",
       "    <tr>\n",
       "      <th>1</th>\n",
       "      <td>0</td>\n",
       "      <td>0</td>\n",
       "      <td>0</td>\n",
       "      <td>1</td>\n",
       "      <td>0</td>\n",
       "    </tr>\n",
       "    <tr>\n",
       "      <th>2</th>\n",
       "      <td>0</td>\n",
       "      <td>0</td>\n",
       "      <td>1</td>\n",
       "      <td>0</td>\n",
       "      <td>0</td>\n",
       "    </tr>\n",
       "    <tr>\n",
       "      <th>3</th>\n",
       "      <td>0</td>\n",
       "      <td>0</td>\n",
       "      <td>1</td>\n",
       "      <td>0</td>\n",
       "      <td>0</td>\n",
       "    </tr>\n",
       "    <tr>\n",
       "      <th>4</th>\n",
       "      <td>0</td>\n",
       "      <td>0</td>\n",
       "      <td>0</td>\n",
       "      <td>1</td>\n",
       "      <td>0</td>\n",
       "    </tr>\n",
       "  </tbody>\n",
       "</table>\n",
       "</div>"
      ],
      "text/plain": [
       "   work_type_Govt_job  work_type_Never_worked  work_type_Private  \\\n",
       "0                   0                       0                  1   \n",
       "1                   0                       0                  0   \n",
       "2                   0                       0                  1   \n",
       "3                   0                       0                  1   \n",
       "4                   0                       0                  0   \n",
       "\n",
       "   work_type_Self-employed  work_type_children  \n",
       "0                        0                   0  \n",
       "1                        1                   0  \n",
       "2                        0                   0  \n",
       "3                        0                   0  \n",
       "4                        1                   0  "
      ]
     },
     "execution_count": 49,
     "metadata": {},
     "output_type": "execute_result"
    }
   ],
   "source": [
    "# Numerical columns data\n",
    "data_new_num = data[num_cols]\n",
    "\n",
    "# Categorical columns data\n",
    "data_new_cat = data[obj_cols]\n",
    "\n",
    "# Creating dummies\n",
    "data_new_cat_dummies = pd.get_dummies(data_new_cat)\n",
    "print(data_new_cat_dummies.shape)\n",
    "data_new_cat_dummies.head()"
   ]
  },
  {
   "cell_type": "code",
   "execution_count": 50,
   "id": "2b9c62f4",
   "metadata": {},
   "outputs": [
    {
     "name": "stdout",
     "output_type": "stream",
     "text": [
      "(5110, 10)\n"
     ]
    },
    {
     "data": {
      "text/html": [
       "<div>\n",
       "<style scoped>\n",
       "    .dataframe tbody tr th:only-of-type {\n",
       "        vertical-align: middle;\n",
       "    }\n",
       "\n",
       "    .dataframe tbody tr th {\n",
       "        vertical-align: top;\n",
       "    }\n",
       "\n",
       "    .dataframe thead th {\n",
       "        text-align: right;\n",
       "    }\n",
       "</style>\n",
       "<table border=\"1\" class=\"dataframe\">\n",
       "  <thead>\n",
       "    <tr style=\"text-align: right;\">\n",
       "      <th></th>\n",
       "      <th>age</th>\n",
       "      <th>hypertension</th>\n",
       "      <th>heart_disease</th>\n",
       "      <th>avg_glucose_level</th>\n",
       "      <th>stroke</th>\n",
       "      <th>work_type_Govt_job</th>\n",
       "      <th>work_type_Never_worked</th>\n",
       "      <th>work_type_Private</th>\n",
       "      <th>work_type_Self-employed</th>\n",
       "      <th>work_type_children</th>\n",
       "    </tr>\n",
       "  </thead>\n",
       "  <tbody>\n",
       "    <tr>\n",
       "      <th>0</th>\n",
       "      <td>67.0</td>\n",
       "      <td>0</td>\n",
       "      <td>1</td>\n",
       "      <td>228.69</td>\n",
       "      <td>1</td>\n",
       "      <td>0</td>\n",
       "      <td>0</td>\n",
       "      <td>1</td>\n",
       "      <td>0</td>\n",
       "      <td>0</td>\n",
       "    </tr>\n",
       "    <tr>\n",
       "      <th>1</th>\n",
       "      <td>61.0</td>\n",
       "      <td>0</td>\n",
       "      <td>0</td>\n",
       "      <td>202.21</td>\n",
       "      <td>1</td>\n",
       "      <td>0</td>\n",
       "      <td>0</td>\n",
       "      <td>0</td>\n",
       "      <td>1</td>\n",
       "      <td>0</td>\n",
       "    </tr>\n",
       "    <tr>\n",
       "      <th>2</th>\n",
       "      <td>80.0</td>\n",
       "      <td>0</td>\n",
       "      <td>1</td>\n",
       "      <td>105.92</td>\n",
       "      <td>1</td>\n",
       "      <td>0</td>\n",
       "      <td>0</td>\n",
       "      <td>1</td>\n",
       "      <td>0</td>\n",
       "      <td>0</td>\n",
       "    </tr>\n",
       "    <tr>\n",
       "      <th>3</th>\n",
       "      <td>49.0</td>\n",
       "      <td>0</td>\n",
       "      <td>0</td>\n",
       "      <td>171.23</td>\n",
       "      <td>1</td>\n",
       "      <td>0</td>\n",
       "      <td>0</td>\n",
       "      <td>1</td>\n",
       "      <td>0</td>\n",
       "      <td>0</td>\n",
       "    </tr>\n",
       "    <tr>\n",
       "      <th>4</th>\n",
       "      <td>79.0</td>\n",
       "      <td>1</td>\n",
       "      <td>0</td>\n",
       "      <td>174.12</td>\n",
       "      <td>1</td>\n",
       "      <td>0</td>\n",
       "      <td>0</td>\n",
       "      <td>0</td>\n",
       "      <td>1</td>\n",
       "      <td>0</td>\n",
       "    </tr>\n",
       "  </tbody>\n",
       "</table>\n",
       "</div>"
      ],
      "text/plain": [
       "    age  hypertension  heart_disease  avg_glucose_level  stroke  \\\n",
       "0  67.0             0              1             228.69       1   \n",
       "1  61.0             0              0             202.21       1   \n",
       "2  80.0             0              1             105.92       1   \n",
       "3  49.0             0              0             171.23       1   \n",
       "4  79.0             1              0             174.12       1   \n",
       "\n",
       "   work_type_Govt_job  work_type_Never_worked  work_type_Private  \\\n",
       "0                   0                       0                  1   \n",
       "1                   0                       0                  0   \n",
       "2                   0                       0                  1   \n",
       "3                   0                       0                  1   \n",
       "4                   0                       0                  0   \n",
       "\n",
       "   work_type_Self-employed  work_type_children  \n",
       "0                        0                   0  \n",
       "1                        1                   0  \n",
       "2                        0                   0  \n",
       "3                        0                   0  \n",
       "4                        1                   0  "
      ]
     },
     "execution_count": 50,
     "metadata": {},
     "output_type": "execute_result"
    }
   ],
   "source": [
    "data_new_final = pd.concat([data_new_num, data_new_cat_dummies], axis = 1)\n",
    "print(data_new_final.shape)\n",
    "data_new_final.head()"
   ]
  },
  {
   "cell_type": "code",
   "execution_count": 51,
   "id": "74722155",
   "metadata": {},
   "outputs": [
    {
     "name": "stdout",
     "output_type": "stream",
     "text": [
      "<class 'pandas.core.frame.DataFrame'>\n",
      "RangeIndex: 5110 entries, 0 to 5109\n",
      "Data columns (total 10 columns):\n",
      " #   Column                   Non-Null Count  Dtype  \n",
      "---  ------                   --------------  -----  \n",
      " 0   age                      5110 non-null   float64\n",
      " 1   hypertension             5110 non-null   int64  \n",
      " 2   heart_disease            5110 non-null   int64  \n",
      " 3   avg_glucose_level        5110 non-null   float64\n",
      " 4   stroke                   5110 non-null   int64  \n",
      " 5   work_type_Govt_job       5110 non-null   uint8  \n",
      " 6   work_type_Never_worked   5110 non-null   uint8  \n",
      " 7   work_type_Private        5110 non-null   uint8  \n",
      " 8   work_type_Self-employed  5110 non-null   uint8  \n",
      " 9   work_type_children       5110 non-null   uint8  \n",
      "dtypes: float64(2), int64(3), uint8(5)\n",
      "memory usage: 224.7 KB\n"
     ]
    }
   ],
   "source": [
    "data_new_final.info()"
   ]
  },
  {
   "cell_type": "code",
   "execution_count": 52,
   "id": "dd0cc64a",
   "metadata": {},
   "outputs": [
    {
     "data": {
      "text/plain": [
       "1    249\n",
       "0    249\n",
       "Name: stroke, dtype: int64"
      ]
     },
     "execution_count": 52,
     "metadata": {},
     "output_type": "execute_result"
    }
   ],
   "source": [
    "negative = data_new_final[data_new_final.stroke==0]\n",
    "positive = data_new_final[data_new_final.stroke==1]\n",
    "\n",
    "#print(data.stroke.value_counts())\n",
    "\n",
    "#print(negative.stroke.value_counts())\n",
    "#print(positive.stroke.value_counts())\n",
    "\n",
    "# downsample majority\n",
    "neg_downsampled = resample(negative,\n",
    " replace=True, # sample with replacement\n",
    " n_samples=len(positive), # match number in minority class\n",
    " random_state=27) # reproducible results\n",
    "# combine minority and downsampled majority\n",
    "downsampled = pd.concat([positive, neg_downsampled])\n",
    "# check new class counts\n",
    "downsampled.stroke.value_counts()"
   ]
  },
  {
   "cell_type": "code",
   "execution_count": 53,
   "id": "c3cc9f0e",
   "metadata": {},
   "outputs": [],
   "source": [
    "X = downsampled.drop(['stroke'], axis=1).values\n",
    "y = downsampled['stroke'].values"
   ]
  },
  {
   "cell_type": "code",
   "execution_count": 54,
   "id": "074ed1c1",
   "metadata": {},
   "outputs": [],
   "source": [
    "# Setup the data matrix appropriately, and add ones for the intercept term\n",
    "m, n = X.shape\n",
    "\n",
    "#print(X.shape)\n",
    "\n",
    "# Add intercept term to X\n",
    "X = np.concatenate([np.ones((m, 1)), X], axis=1)\n",
    "\n",
    "#print(X.shape)\n",
    "#print(X)"
   ]
  },
  {
   "cell_type": "code",
   "execution_count": 55,
   "id": "7afaa995",
   "metadata": {},
   "outputs": [
    {
     "name": "stdout",
     "output_type": "stream",
     "text": [
      "(398, 10)\n"
     ]
    }
   ],
   "source": [
    "X_train, X_test, y_train, y_test = train_test_split(X, y, test_size=0.20, random_state=0,shuffle=True, stratify=y)\n",
    "print(X_train.shape)"
   ]
  },
  {
   "cell_type": "code",
   "execution_count": 56,
   "id": "395df59a",
   "metadata": {},
   "outputs": [],
   "source": [
    "_lambda = 1"
   ]
  },
  {
   "cell_type": "code",
   "execution_count": 57,
   "id": "6f3699cd",
   "metadata": {},
   "outputs": [],
   "source": [
    "# Initialize fitting parameters\n",
    "initial_theta = np.zeros(n+1)\n",
    "cost, grad = lr.lrCostFunction(initial_theta, X_train, y_train, _lambda)\n",
    "#print(cost)\n",
    "#print(grad)\n",
    "\n",
    "#print(cost.shape)\n",
    "#print(grad.shape)"
   ]
  },
  {
   "cell_type": "code",
   "execution_count": 58,
   "id": "96ae8b72",
   "metadata": {
    "scrolled": true
   },
   "outputs": [
    {
     "name": "stdout",
     "output_type": "stream",
     "text": [
      "Cost at theta found by optimize.minimize: 0.463\n",
      "theta:\n",
      "\t[-4.919, 0.074, 0.990, 0.104, 0.006]\n"
     ]
    }
   ],
   "source": [
    "theta, cost, grad = lr.lrOptimization(lr.lrCostFunction, initial_theta, X_train, y_train, _lambda)"
   ]
  },
  {
   "cell_type": "code",
   "execution_count": 59,
   "id": "bf038c66",
   "metadata": {},
   "outputs": [],
   "source": [
    "#print(\"op de training set\")\n",
    "#print(f1_score(y_train,p_train,average='binary'))"
   ]
  },
  {
   "cell_type": "code",
   "execution_count": 60,
   "id": "d3710a1c",
   "metadata": {},
   "outputs": [
    {
     "name": "stdout",
     "output_type": "stream",
     "text": [
      "max f1 score:  0.811529933481153\n",
      "for decision boundary:  0.36\n"
     ]
    }
   ],
   "source": [
    "j = 0\n",
    "f1_scores = np.zeros(20)\n",
    "decision_boundary = np.zeros(20)\n",
    "for i in range(30, 50):\n",
    "    p_train = lr.predict(theta, X_train, (i/100))\n",
    "    f1_scores[j] = f1_score(y_train,p_train,average='binary')\n",
    "    decision_boundary[j] = (i/100)\n",
    "    j += 1\n",
    "    #print(\"zeker: \", i/100)\n",
    "    #print(f1_score(y,p,average='binary'))\n",
    "    \n",
    "index = np.argmax(f1_scores)\n",
    "#print(f1_scores)\n",
    "print(\"max f1 score: \", f1_scores[index])\n",
    "print(\"for decision boundary: \", decision_boundary[index])\n",
    "#print(f1_scores([np.argmax(f1_scores)]))\n",
    "\n",
    "f1_scores_train_types.append('work')\n",
    "f1_scores_train_data[3] = f1_scores[index]"
   ]
  },
  {
   "cell_type": "code",
   "execution_count": 61,
   "id": "5d6539b3",
   "metadata": {},
   "outputs": [
    {
     "name": "stdout",
     "output_type": "stream",
     "text": [
      "Train Accuracy: 78.64 %\n"
     ]
    }
   ],
   "source": [
    "p_train = lr.predict(theta, X_train, decision_boundary[index])\n",
    "print('Train Accuracy: {:.2f} %'.format(np.mean(p_train == y_train) * 100))"
   ]
  },
  {
   "cell_type": "code",
   "execution_count": 62,
   "id": "54d46b93",
   "metadata": {},
   "outputs": [
    {
     "name": "stdout",
     "output_type": "stream",
     "text": [
      "max f1 score:  0.8148148148148148\n",
      "for decision boundary:  0.33\n"
     ]
    }
   ],
   "source": [
    "j = 0\n",
    "f1_scores = np.zeros(20)\n",
    "decision_boundary = np.zeros(20)\n",
    "for i in range(30, 50):\n",
    "    p = lr.predict(theta, X, (i/100))\n",
    "    f1_scores[j] = f1_score(y,p,average='binary')\n",
    "    decision_boundary[j] = (i/100)\n",
    "    j += 1\n",
    "    #print(\"zeker: \", i/100)\n",
    "    #print(f1_score(y,p,average='binary'))\n",
    "    \n",
    "index = np.argmax(f1_scores)\n",
    "#print(f1_scores)\n",
    "print(\"max f1 score: \", f1_scores[index])\n",
    "print(\"for decision boundary: \", decision_boundary[index])\n",
    "#print(f1_scores([np.argmax(f1_scores)]))\n",
    "\n",
    "f1_scores_test_types.append('work')\n",
    "f1_scores_test_data[3] = f1_scores[index]"
   ]
  },
  {
   "cell_type": "code",
   "execution_count": null,
   "id": "aa323992",
   "metadata": {},
   "outputs": [],
   "source": []
  },
  {
   "cell_type": "markdown",
   "id": "ccf1abf1",
   "metadata": {},
   "source": [
    "# Feature: residence type"
   ]
  },
  {
   "cell_type": "code",
   "execution_count": 63,
   "id": "06335be2",
   "metadata": {},
   "outputs": [],
   "source": [
    "#  training data stored in arrays X, y\n",
    "#df = pd.read_csv(os.path.join('data', 'healthcare-dataset-stroke-data.csv'))\n",
    "#X = pd.DataFrame(df, columns=['age', 'hypertension', 'heart_disease', 'avg_glucose_level']).to_numpy()\n",
    "#X = np.around(X, 5)\n",
    "#print(\"X: \")\n",
    "#print(X)\n",
    "\n",
    "#y = pd.DataFrame(df, columns=['stroke']).to_numpy()\n",
    "#y = np.around(y, 5)\n",
    "#y.reshape(5110)\n",
    "#print(\"y: \")\n",
    "#print(y)\n",
    " \n",
    "data = pd.read_csv(os.path.join('data', 'healthcare-dataset-stroke-data.csv'))\n",
    "\n",
    "data.head(10)\n",
    "\n",
    "data.drop(\"id\", axis = 1, inplace = True)\n",
    "data.drop(\"gender\", axis = 1, inplace = True)\n",
    "data.drop(\"ever_married\", axis = 1, inplace = True)\n",
    "data.drop(\"work_type\", axis = 1, inplace = True)\n",
    "#data.drop(\"Residence_type\", axis = 1, inplace = True)\n",
    "data.drop(\"bmi\", axis = 1, inplace = True)\n",
    "data.drop(\"smoking_status\", axis = 1, inplace = True)\n",
    "\n",
    "#print(data)"
   ]
  },
  {
   "cell_type": "code",
   "execution_count": 64,
   "id": "ce5d760f",
   "metadata": {},
   "outputs": [],
   "source": [
    "num_cols = data.select_dtypes(include = [np.number]).columns.tolist()\n",
    "obj_cols = data.select_dtypes(exclude = [np.number]).columns.tolist()"
   ]
  },
  {
   "cell_type": "code",
   "execution_count": 65,
   "id": "44834851",
   "metadata": {},
   "outputs": [
    {
     "name": "stdout",
     "output_type": "stream",
     "text": [
      "(5110, 2)\n"
     ]
    },
    {
     "data": {
      "text/html": [
       "<div>\n",
       "<style scoped>\n",
       "    .dataframe tbody tr th:only-of-type {\n",
       "        vertical-align: middle;\n",
       "    }\n",
       "\n",
       "    .dataframe tbody tr th {\n",
       "        vertical-align: top;\n",
       "    }\n",
       "\n",
       "    .dataframe thead th {\n",
       "        text-align: right;\n",
       "    }\n",
       "</style>\n",
       "<table border=\"1\" class=\"dataframe\">\n",
       "  <thead>\n",
       "    <tr style=\"text-align: right;\">\n",
       "      <th></th>\n",
       "      <th>Residence_type_Rural</th>\n",
       "      <th>Residence_type_Urban</th>\n",
       "    </tr>\n",
       "  </thead>\n",
       "  <tbody>\n",
       "    <tr>\n",
       "      <th>0</th>\n",
       "      <td>0</td>\n",
       "      <td>1</td>\n",
       "    </tr>\n",
       "    <tr>\n",
       "      <th>1</th>\n",
       "      <td>1</td>\n",
       "      <td>0</td>\n",
       "    </tr>\n",
       "    <tr>\n",
       "      <th>2</th>\n",
       "      <td>1</td>\n",
       "      <td>0</td>\n",
       "    </tr>\n",
       "    <tr>\n",
       "      <th>3</th>\n",
       "      <td>0</td>\n",
       "      <td>1</td>\n",
       "    </tr>\n",
       "    <tr>\n",
       "      <th>4</th>\n",
       "      <td>1</td>\n",
       "      <td>0</td>\n",
       "    </tr>\n",
       "  </tbody>\n",
       "</table>\n",
       "</div>"
      ],
      "text/plain": [
       "   Residence_type_Rural  Residence_type_Urban\n",
       "0                     0                     1\n",
       "1                     1                     0\n",
       "2                     1                     0\n",
       "3                     0                     1\n",
       "4                     1                     0"
      ]
     },
     "execution_count": 65,
     "metadata": {},
     "output_type": "execute_result"
    }
   ],
   "source": [
    "# Numerical columns data\n",
    "data_new_num = data[num_cols]\n",
    "\n",
    "# Categorical columns data\n",
    "data_new_cat = data[obj_cols]\n",
    "\n",
    "# Creating dummies\n",
    "data_new_cat_dummies = pd.get_dummies(data_new_cat)\n",
    "print(data_new_cat_dummies.shape)\n",
    "data_new_cat_dummies.head()"
   ]
  },
  {
   "cell_type": "code",
   "execution_count": 66,
   "id": "d2686f72",
   "metadata": {},
   "outputs": [
    {
     "name": "stdout",
     "output_type": "stream",
     "text": [
      "(5110, 7)\n"
     ]
    },
    {
     "data": {
      "text/html": [
       "<div>\n",
       "<style scoped>\n",
       "    .dataframe tbody tr th:only-of-type {\n",
       "        vertical-align: middle;\n",
       "    }\n",
       "\n",
       "    .dataframe tbody tr th {\n",
       "        vertical-align: top;\n",
       "    }\n",
       "\n",
       "    .dataframe thead th {\n",
       "        text-align: right;\n",
       "    }\n",
       "</style>\n",
       "<table border=\"1\" class=\"dataframe\">\n",
       "  <thead>\n",
       "    <tr style=\"text-align: right;\">\n",
       "      <th></th>\n",
       "      <th>age</th>\n",
       "      <th>hypertension</th>\n",
       "      <th>heart_disease</th>\n",
       "      <th>avg_glucose_level</th>\n",
       "      <th>stroke</th>\n",
       "      <th>Residence_type_Rural</th>\n",
       "      <th>Residence_type_Urban</th>\n",
       "    </tr>\n",
       "  </thead>\n",
       "  <tbody>\n",
       "    <tr>\n",
       "      <th>0</th>\n",
       "      <td>67.0</td>\n",
       "      <td>0</td>\n",
       "      <td>1</td>\n",
       "      <td>228.69</td>\n",
       "      <td>1</td>\n",
       "      <td>0</td>\n",
       "      <td>1</td>\n",
       "    </tr>\n",
       "    <tr>\n",
       "      <th>1</th>\n",
       "      <td>61.0</td>\n",
       "      <td>0</td>\n",
       "      <td>0</td>\n",
       "      <td>202.21</td>\n",
       "      <td>1</td>\n",
       "      <td>1</td>\n",
       "      <td>0</td>\n",
       "    </tr>\n",
       "    <tr>\n",
       "      <th>2</th>\n",
       "      <td>80.0</td>\n",
       "      <td>0</td>\n",
       "      <td>1</td>\n",
       "      <td>105.92</td>\n",
       "      <td>1</td>\n",
       "      <td>1</td>\n",
       "      <td>0</td>\n",
       "    </tr>\n",
       "    <tr>\n",
       "      <th>3</th>\n",
       "      <td>49.0</td>\n",
       "      <td>0</td>\n",
       "      <td>0</td>\n",
       "      <td>171.23</td>\n",
       "      <td>1</td>\n",
       "      <td>0</td>\n",
       "      <td>1</td>\n",
       "    </tr>\n",
       "    <tr>\n",
       "      <th>4</th>\n",
       "      <td>79.0</td>\n",
       "      <td>1</td>\n",
       "      <td>0</td>\n",
       "      <td>174.12</td>\n",
       "      <td>1</td>\n",
       "      <td>1</td>\n",
       "      <td>0</td>\n",
       "    </tr>\n",
       "  </tbody>\n",
       "</table>\n",
       "</div>"
      ],
      "text/plain": [
       "    age  hypertension  heart_disease  avg_glucose_level  stroke  \\\n",
       "0  67.0             0              1             228.69       1   \n",
       "1  61.0             0              0             202.21       1   \n",
       "2  80.0             0              1             105.92       1   \n",
       "3  49.0             0              0             171.23       1   \n",
       "4  79.0             1              0             174.12       1   \n",
       "\n",
       "   Residence_type_Rural  Residence_type_Urban  \n",
       "0                     0                     1  \n",
       "1                     1                     0  \n",
       "2                     1                     0  \n",
       "3                     0                     1  \n",
       "4                     1                     0  "
      ]
     },
     "execution_count": 66,
     "metadata": {},
     "output_type": "execute_result"
    }
   ],
   "source": [
    "data_new_final = pd.concat([data_new_num, data_new_cat_dummies], axis = 1)\n",
    "print(data_new_final.shape)\n",
    "data_new_final.head()"
   ]
  },
  {
   "cell_type": "code",
   "execution_count": 67,
   "id": "510e42cc",
   "metadata": {},
   "outputs": [
    {
     "name": "stdout",
     "output_type": "stream",
     "text": [
      "<class 'pandas.core.frame.DataFrame'>\n",
      "RangeIndex: 5110 entries, 0 to 5109\n",
      "Data columns (total 7 columns):\n",
      " #   Column                Non-Null Count  Dtype  \n",
      "---  ------                --------------  -----  \n",
      " 0   age                   5110 non-null   float64\n",
      " 1   hypertension          5110 non-null   int64  \n",
      " 2   heart_disease         5110 non-null   int64  \n",
      " 3   avg_glucose_level     5110 non-null   float64\n",
      " 4   stroke                5110 non-null   int64  \n",
      " 5   Residence_type_Rural  5110 non-null   uint8  \n",
      " 6   Residence_type_Urban  5110 non-null   uint8  \n",
      "dtypes: float64(2), int64(3), uint8(2)\n",
      "memory usage: 209.7 KB\n"
     ]
    }
   ],
   "source": [
    "data_new_final.info()"
   ]
  },
  {
   "cell_type": "code",
   "execution_count": 68,
   "id": "be5ec66f",
   "metadata": {},
   "outputs": [
    {
     "data": {
      "text/plain": [
       "1    249\n",
       "0    249\n",
       "Name: stroke, dtype: int64"
      ]
     },
     "execution_count": 68,
     "metadata": {},
     "output_type": "execute_result"
    }
   ],
   "source": [
    "negative = data_new_final[data_new_final.stroke==0]\n",
    "positive = data_new_final[data_new_final.stroke==1]\n",
    "\n",
    "#print(data.stroke.value_counts())\n",
    "\n",
    "#print(negative.stroke.value_counts())\n",
    "#print(positive.stroke.value_counts())\n",
    "\n",
    "# downsample majority\n",
    "neg_downsampled = resample(negative,\n",
    " replace=True, # sample with replacement\n",
    " n_samples=len(positive), # match number in minority class\n",
    " random_state=27) # reproducible results\n",
    "# combine minority and downsampled majority\n",
    "downsampled = pd.concat([positive, neg_downsampled])\n",
    "# check new class counts\n",
    "downsampled.stroke.value_counts()"
   ]
  },
  {
   "cell_type": "code",
   "execution_count": 69,
   "id": "56889c89",
   "metadata": {},
   "outputs": [],
   "source": [
    "X = downsampled.drop(['stroke'], axis=1).values\n",
    "y = downsampled['stroke'].values"
   ]
  },
  {
   "cell_type": "code",
   "execution_count": 70,
   "id": "5274fbf4",
   "metadata": {},
   "outputs": [],
   "source": [
    "# Setup the data matrix appropriately, and add ones for the intercept term\n",
    "m, n = X.shape\n",
    "\n",
    "#print(X.shape)\n",
    "\n",
    "# Add intercept term to X\n",
    "X = np.concatenate([np.ones((m, 1)), X], axis=1)\n",
    "\n",
    "#print(X.shape)\n",
    "#print(X)"
   ]
  },
  {
   "cell_type": "code",
   "execution_count": 71,
   "id": "4763f896",
   "metadata": {},
   "outputs": [
    {
     "name": "stdout",
     "output_type": "stream",
     "text": [
      "(398, 7)\n"
     ]
    }
   ],
   "source": [
    "X_train, X_test, y_train, y_test = train_test_split(X, y, test_size=0.20, random_state=0,shuffle=True, stratify=y)\n",
    "print(X_train.shape)"
   ]
  },
  {
   "cell_type": "code",
   "execution_count": 72,
   "id": "9edb0027",
   "metadata": {},
   "outputs": [],
   "source": [
    "_lambda = 1"
   ]
  },
  {
   "cell_type": "code",
   "execution_count": 73,
   "id": "69cd07f6",
   "metadata": {},
   "outputs": [],
   "source": [
    "# Initialize fitting parameters\n",
    "initial_theta = np.zeros(n+1)\n",
    "cost, grad = lr.lrCostFunction(initial_theta, X_train, y_train, _lambda)\n",
    "#print(cost)\n",
    "#print(grad)\n",
    "\n",
    "#print(cost.shape)\n",
    "#print(grad.shape)"
   ]
  },
  {
   "cell_type": "code",
   "execution_count": 74,
   "id": "104ca86d",
   "metadata": {
    "scrolled": true
   },
   "outputs": [
    {
     "name": "stdout",
     "output_type": "stream",
     "text": [
      "Cost at theta found by optimize.minimize: 0.464\n",
      "theta:\n",
      "\t[-4.919, 0.072, 0.974, 0.125, 0.006]\n"
     ]
    }
   ],
   "source": [
    "theta, cost, grad = lr.lrOptimization(lr.lrCostFunction, initial_theta, X_train, y_train, _lambda)"
   ]
  },
  {
   "cell_type": "code",
   "execution_count": 75,
   "id": "4f9148c7",
   "metadata": {},
   "outputs": [],
   "source": [
    "#print(\"op de training set\")\n",
    "#print(f1_score(y_train,p_train,average='binary'))"
   ]
  },
  {
   "cell_type": "code",
   "execution_count": 76,
   "id": "59c63cd7",
   "metadata": {},
   "outputs": [
    {
     "name": "stdout",
     "output_type": "stream",
     "text": [
      "max f1 score:  0.8151447661469934\n",
      "for decision boundary:  0.35\n"
     ]
    }
   ],
   "source": [
    "j = 0\n",
    "f1_scores = np.zeros(20)\n",
    "decision_boundary = np.zeros(20)\n",
    "for i in range(30, 50):\n",
    "    p_train = lr.predict(theta, X_train, (i/100))\n",
    "    f1_scores[j] = f1_score(y_train,p_train,average='binary')\n",
    "    decision_boundary[j] = (i/100)\n",
    "    j += 1\n",
    "    #print(\"zeker: \", i/100)\n",
    "    #print(f1_score(y,p,average='binary'))\n",
    "    \n",
    "index = np.argmax(f1_scores)\n",
    "#print(f1_scores)\n",
    "print(\"max f1 score: \", f1_scores[index])\n",
    "print(\"for decision boundary: \", decision_boundary[index])\n",
    "#print(f1_scores([np.argmax(f1_scores)]))\n",
    "\n",
    "f1_scores_train_types.append('residence')\n",
    "f1_scores_train_data[4] = f1_scores[index]"
   ]
  },
  {
   "cell_type": "code",
   "execution_count": 77,
   "id": "1759df90",
   "metadata": {},
   "outputs": [
    {
     "name": "stdout",
     "output_type": "stream",
     "text": [
      "Train Accuracy: 79.15 %\n"
     ]
    }
   ],
   "source": [
    "p_train = lr.predict(theta, X_train, decision_boundary[index])\n",
    "print('Train Accuracy: {:.2f} %'.format(np.mean(p_train == y_train) * 100))"
   ]
  },
  {
   "cell_type": "code",
   "execution_count": 78,
   "id": "e4443b69",
   "metadata": {},
   "outputs": [
    {
     "name": "stdout",
     "output_type": "stream",
     "text": [
      "max f1 score:  0.8186714542190305\n",
      "for decision boundary:  0.35\n"
     ]
    }
   ],
   "source": [
    "j = 0\n",
    "f1_scores = np.zeros(20)\n",
    "decision_boundary = np.zeros(20)\n",
    "for i in range(30, 50):\n",
    "    p = lr.predict(theta, X, (i/100))\n",
    "    f1_scores[j] = f1_score(y,p,average='binary')\n",
    "    decision_boundary[j] = (i/100)\n",
    "    j += 1\n",
    "    #print(\"zeker: \", i/100)\n",
    "    #print(f1_score(y,p,average='binary'))\n",
    "    \n",
    "index = np.argmax(f1_scores)\n",
    "#print(f1_scores)\n",
    "print(\"max f1 score: \", f1_scores[index])\n",
    "print(\"for decision boundary: \", decision_boundary[index])\n",
    "#print(f1_scores([np.argmax(f1_scores)]))\n",
    "\n",
    "f1_scores_test_types.append('residence')\n",
    "f1_scores_test_data[4] = f1_scores[index]"
   ]
  },
  {
   "cell_type": "code",
   "execution_count": null,
   "id": "baf76d73",
   "metadata": {},
   "outputs": [],
   "source": []
  },
  {
   "cell_type": "markdown",
   "id": "58fcf684",
   "metadata": {},
   "source": [
    "# Feature: smoking"
   ]
  },
  {
   "cell_type": "code",
   "execution_count": 79,
   "id": "a21c8dae",
   "metadata": {},
   "outputs": [],
   "source": [
    "#  training data stored in arrays X, y\n",
    "#df = pd.read_csv(os.path.join('data', 'healthcare-dataset-stroke-data.csv'))\n",
    "#X = pd.DataFrame(df, columns=['age', 'hypertension', 'heart_disease', 'avg_glucose_level']).to_numpy()\n",
    "#X = np.around(X, 5)\n",
    "#print(\"X: \")\n",
    "#print(X)\n",
    "\n",
    "#y = pd.DataFrame(df, columns=['stroke']).to_numpy()\n",
    "#y = np.around(y, 5)\n",
    "#y.reshape(5110)\n",
    "#print(\"y: \")\n",
    "#print(y)\n",
    " \n",
    "data = pd.read_csv(os.path.join('data', 'healthcare-dataset-stroke-data.csv'))\n",
    "\n",
    "data.head(10)\n",
    "\n",
    "data.drop(\"id\", axis = 1, inplace = True)\n",
    "data.drop(\"gender\", axis = 1, inplace = True)\n",
    "data.drop(\"ever_married\", axis = 1, inplace = True)\n",
    "data.drop(\"work_type\", axis = 1, inplace = True)\n",
    "data.drop(\"Residence_type\", axis = 1, inplace = True)\n",
    "data.drop(\"bmi\", axis = 1, inplace = True)\n",
    "#data.drop(\"smoking_status\", axis = 1, inplace = True)\n",
    "\n",
    "#print(data)"
   ]
  },
  {
   "cell_type": "code",
   "execution_count": 80,
   "id": "f9172e9b",
   "metadata": {},
   "outputs": [],
   "source": [
    "num_cols = data.select_dtypes(include = [np.number]).columns.tolist()\n",
    "obj_cols = data.select_dtypes(exclude = [np.number]).columns.tolist()"
   ]
  },
  {
   "cell_type": "code",
   "execution_count": 81,
   "id": "5cb70a69",
   "metadata": {},
   "outputs": [
    {
     "name": "stdout",
     "output_type": "stream",
     "text": [
      "(5110, 4)\n"
     ]
    },
    {
     "data": {
      "text/html": [
       "<div>\n",
       "<style scoped>\n",
       "    .dataframe tbody tr th:only-of-type {\n",
       "        vertical-align: middle;\n",
       "    }\n",
       "\n",
       "    .dataframe tbody tr th {\n",
       "        vertical-align: top;\n",
       "    }\n",
       "\n",
       "    .dataframe thead th {\n",
       "        text-align: right;\n",
       "    }\n",
       "</style>\n",
       "<table border=\"1\" class=\"dataframe\">\n",
       "  <thead>\n",
       "    <tr style=\"text-align: right;\">\n",
       "      <th></th>\n",
       "      <th>smoking_status_Unknown</th>\n",
       "      <th>smoking_status_formerly smoked</th>\n",
       "      <th>smoking_status_never smoked</th>\n",
       "      <th>smoking_status_smokes</th>\n",
       "    </tr>\n",
       "  </thead>\n",
       "  <tbody>\n",
       "    <tr>\n",
       "      <th>0</th>\n",
       "      <td>0</td>\n",
       "      <td>1</td>\n",
       "      <td>0</td>\n",
       "      <td>0</td>\n",
       "    </tr>\n",
       "    <tr>\n",
       "      <th>1</th>\n",
       "      <td>0</td>\n",
       "      <td>0</td>\n",
       "      <td>1</td>\n",
       "      <td>0</td>\n",
       "    </tr>\n",
       "    <tr>\n",
       "      <th>2</th>\n",
       "      <td>0</td>\n",
       "      <td>0</td>\n",
       "      <td>1</td>\n",
       "      <td>0</td>\n",
       "    </tr>\n",
       "    <tr>\n",
       "      <th>3</th>\n",
       "      <td>0</td>\n",
       "      <td>0</td>\n",
       "      <td>0</td>\n",
       "      <td>1</td>\n",
       "    </tr>\n",
       "    <tr>\n",
       "      <th>4</th>\n",
       "      <td>0</td>\n",
       "      <td>0</td>\n",
       "      <td>1</td>\n",
       "      <td>0</td>\n",
       "    </tr>\n",
       "  </tbody>\n",
       "</table>\n",
       "</div>"
      ],
      "text/plain": [
       "   smoking_status_Unknown  smoking_status_formerly smoked  \\\n",
       "0                       0                               1   \n",
       "1                       0                               0   \n",
       "2                       0                               0   \n",
       "3                       0                               0   \n",
       "4                       0                               0   \n",
       "\n",
       "   smoking_status_never smoked  smoking_status_smokes  \n",
       "0                            0                      0  \n",
       "1                            1                      0  \n",
       "2                            1                      0  \n",
       "3                            0                      1  \n",
       "4                            1                      0  "
      ]
     },
     "execution_count": 81,
     "metadata": {},
     "output_type": "execute_result"
    }
   ],
   "source": [
    "# Numerical columns data\n",
    "data_new_num = data[num_cols]\n",
    "\n",
    "# Categorical columns data\n",
    "data_new_cat = data[obj_cols]\n",
    "\n",
    "# Creating dummies\n",
    "data_new_cat_dummies = pd.get_dummies(data_new_cat)\n",
    "print(data_new_cat_dummies.shape)\n",
    "data_new_cat_dummies.head()"
   ]
  },
  {
   "cell_type": "code",
   "execution_count": 82,
   "id": "a880c436",
   "metadata": {},
   "outputs": [
    {
     "name": "stdout",
     "output_type": "stream",
     "text": [
      "(5110, 9)\n"
     ]
    },
    {
     "data": {
      "text/html": [
       "<div>\n",
       "<style scoped>\n",
       "    .dataframe tbody tr th:only-of-type {\n",
       "        vertical-align: middle;\n",
       "    }\n",
       "\n",
       "    .dataframe tbody tr th {\n",
       "        vertical-align: top;\n",
       "    }\n",
       "\n",
       "    .dataframe thead th {\n",
       "        text-align: right;\n",
       "    }\n",
       "</style>\n",
       "<table border=\"1\" class=\"dataframe\">\n",
       "  <thead>\n",
       "    <tr style=\"text-align: right;\">\n",
       "      <th></th>\n",
       "      <th>age</th>\n",
       "      <th>hypertension</th>\n",
       "      <th>heart_disease</th>\n",
       "      <th>avg_glucose_level</th>\n",
       "      <th>stroke</th>\n",
       "      <th>smoking_status_Unknown</th>\n",
       "      <th>smoking_status_formerly smoked</th>\n",
       "      <th>smoking_status_never smoked</th>\n",
       "      <th>smoking_status_smokes</th>\n",
       "    </tr>\n",
       "  </thead>\n",
       "  <tbody>\n",
       "    <tr>\n",
       "      <th>0</th>\n",
       "      <td>67.0</td>\n",
       "      <td>0</td>\n",
       "      <td>1</td>\n",
       "      <td>228.69</td>\n",
       "      <td>1</td>\n",
       "      <td>0</td>\n",
       "      <td>1</td>\n",
       "      <td>0</td>\n",
       "      <td>0</td>\n",
       "    </tr>\n",
       "    <tr>\n",
       "      <th>1</th>\n",
       "      <td>61.0</td>\n",
       "      <td>0</td>\n",
       "      <td>0</td>\n",
       "      <td>202.21</td>\n",
       "      <td>1</td>\n",
       "      <td>0</td>\n",
       "      <td>0</td>\n",
       "      <td>1</td>\n",
       "      <td>0</td>\n",
       "    </tr>\n",
       "    <tr>\n",
       "      <th>2</th>\n",
       "      <td>80.0</td>\n",
       "      <td>0</td>\n",
       "      <td>1</td>\n",
       "      <td>105.92</td>\n",
       "      <td>1</td>\n",
       "      <td>0</td>\n",
       "      <td>0</td>\n",
       "      <td>1</td>\n",
       "      <td>0</td>\n",
       "    </tr>\n",
       "    <tr>\n",
       "      <th>3</th>\n",
       "      <td>49.0</td>\n",
       "      <td>0</td>\n",
       "      <td>0</td>\n",
       "      <td>171.23</td>\n",
       "      <td>1</td>\n",
       "      <td>0</td>\n",
       "      <td>0</td>\n",
       "      <td>0</td>\n",
       "      <td>1</td>\n",
       "    </tr>\n",
       "    <tr>\n",
       "      <th>4</th>\n",
       "      <td>79.0</td>\n",
       "      <td>1</td>\n",
       "      <td>0</td>\n",
       "      <td>174.12</td>\n",
       "      <td>1</td>\n",
       "      <td>0</td>\n",
       "      <td>0</td>\n",
       "      <td>1</td>\n",
       "      <td>0</td>\n",
       "    </tr>\n",
       "  </tbody>\n",
       "</table>\n",
       "</div>"
      ],
      "text/plain": [
       "    age  hypertension  heart_disease  avg_glucose_level  stroke  \\\n",
       "0  67.0             0              1             228.69       1   \n",
       "1  61.0             0              0             202.21       1   \n",
       "2  80.0             0              1             105.92       1   \n",
       "3  49.0             0              0             171.23       1   \n",
       "4  79.0             1              0             174.12       1   \n",
       "\n",
       "   smoking_status_Unknown  smoking_status_formerly smoked  \\\n",
       "0                       0                               1   \n",
       "1                       0                               0   \n",
       "2                       0                               0   \n",
       "3                       0                               0   \n",
       "4                       0                               0   \n",
       "\n",
       "   smoking_status_never smoked  smoking_status_smokes  \n",
       "0                            0                      0  \n",
       "1                            1                      0  \n",
       "2                            1                      0  \n",
       "3                            0                      1  \n",
       "4                            1                      0  "
      ]
     },
     "execution_count": 82,
     "metadata": {},
     "output_type": "execute_result"
    }
   ],
   "source": [
    "data_new_final = pd.concat([data_new_num, data_new_cat_dummies], axis = 1)\n",
    "print(data_new_final.shape)\n",
    "data_new_final.head()"
   ]
  },
  {
   "cell_type": "code",
   "execution_count": 83,
   "id": "383c8e30",
   "metadata": {},
   "outputs": [
    {
     "name": "stdout",
     "output_type": "stream",
     "text": [
      "<class 'pandas.core.frame.DataFrame'>\n",
      "RangeIndex: 5110 entries, 0 to 5109\n",
      "Data columns (total 9 columns):\n",
      " #   Column                          Non-Null Count  Dtype  \n",
      "---  ------                          --------------  -----  \n",
      " 0   age                             5110 non-null   float64\n",
      " 1   hypertension                    5110 non-null   int64  \n",
      " 2   heart_disease                   5110 non-null   int64  \n",
      " 3   avg_glucose_level               5110 non-null   float64\n",
      " 4   stroke                          5110 non-null   int64  \n",
      " 5   smoking_status_Unknown          5110 non-null   uint8  \n",
      " 6   smoking_status_formerly smoked  5110 non-null   uint8  \n",
      " 7   smoking_status_never smoked     5110 non-null   uint8  \n",
      " 8   smoking_status_smokes           5110 non-null   uint8  \n",
      "dtypes: float64(2), int64(3), uint8(4)\n",
      "memory usage: 219.7 KB\n"
     ]
    }
   ],
   "source": [
    "data_new_final.info()"
   ]
  },
  {
   "cell_type": "code",
   "execution_count": 84,
   "id": "06751ac3",
   "metadata": {},
   "outputs": [
    {
     "data": {
      "text/plain": [
       "1    249\n",
       "0    249\n",
       "Name: stroke, dtype: int64"
      ]
     },
     "execution_count": 84,
     "metadata": {},
     "output_type": "execute_result"
    }
   ],
   "source": [
    "negative = data_new_final[data_new_final.stroke==0]\n",
    "positive = data_new_final[data_new_final.stroke==1]\n",
    "\n",
    "#print(data.stroke.value_counts())\n",
    "\n",
    "#print(negative.stroke.value_counts())\n",
    "#print(positive.stroke.value_counts())\n",
    "\n",
    "# downsample majority\n",
    "neg_downsampled = resample(negative,\n",
    " replace=True, # sample with replacement\n",
    " n_samples=len(positive), # match number in minority class\n",
    " random_state=27) # reproducible results\n",
    "# combine minority and downsampled majority\n",
    "downsampled = pd.concat([positive, neg_downsampled])\n",
    "# check new class counts\n",
    "downsampled.stroke.value_counts()"
   ]
  },
  {
   "cell_type": "code",
   "execution_count": 85,
   "id": "7a86a8a7",
   "metadata": {},
   "outputs": [],
   "source": [
    "X = downsampled.drop(['stroke'], axis=1).values\n",
    "y = downsampled['stroke'].values"
   ]
  },
  {
   "cell_type": "code",
   "execution_count": 86,
   "id": "9f9afcdc",
   "metadata": {},
   "outputs": [],
   "source": [
    "# Setup the data matrix appropriately, and add ones for the intercept term\n",
    "m, n = X.shape\n",
    "\n",
    "#print(X.shape)\n",
    "\n",
    "# Add intercept term to X\n",
    "X = np.concatenate([np.ones((m, 1)), X], axis=1)\n",
    "\n",
    "#print(X.shape)\n",
    "#print(X)"
   ]
  },
  {
   "cell_type": "code",
   "execution_count": 87,
   "id": "98aab278",
   "metadata": {},
   "outputs": [
    {
     "name": "stdout",
     "output_type": "stream",
     "text": [
      "(398, 9)\n"
     ]
    }
   ],
   "source": [
    "X_train, X_test, y_train, y_test = train_test_split(X, y, test_size=0.20, random_state=0,shuffle=True, stratify=y)\n",
    "print(X_train.shape)"
   ]
  },
  {
   "cell_type": "code",
   "execution_count": 88,
   "id": "83370ea1",
   "metadata": {},
   "outputs": [],
   "source": [
    "_lambda = 1"
   ]
  },
  {
   "cell_type": "code",
   "execution_count": 89,
   "id": "e58ca706",
   "metadata": {},
   "outputs": [],
   "source": [
    "# Initialize fitting parameters\n",
    "initial_theta = np.zeros(n+1)\n",
    "cost, grad = lr.lrCostFunction(initial_theta, X_train, y_train, _lambda)\n",
    "#print(cost)\n",
    "#print(grad)\n",
    "\n",
    "#print(cost.shape)\n",
    "#print(grad.shape)"
   ]
  },
  {
   "cell_type": "code",
   "execution_count": 90,
   "id": "2db8b104",
   "metadata": {
    "scrolled": true
   },
   "outputs": [
    {
     "name": "stdout",
     "output_type": "stream",
     "text": [
      "Cost at theta found by optimize.minimize: 0.457\n",
      "theta:\n",
      "\t[-5.058, 0.076, 1.078, -0.011, 0.006]\n"
     ]
    }
   ],
   "source": [
    "theta, cost, grad = lr.lrOptimization(lr.lrCostFunction, initial_theta, X_train, y_train, _lambda)"
   ]
  },
  {
   "cell_type": "code",
   "execution_count": 91,
   "id": "eabd05de",
   "metadata": {},
   "outputs": [],
   "source": [
    "#print(\"op de training set\")\n",
    "#print(f1_score(y_train,p_train,average='binary'))"
   ]
  },
  {
   "cell_type": "code",
   "execution_count": 92,
   "id": "bf84b442",
   "metadata": {},
   "outputs": [
    {
     "name": "stdout",
     "output_type": "stream",
     "text": [
      "max f1 score:  0.814814814814815\n",
      "for decision boundary:  0.45\n"
     ]
    }
   ],
   "source": [
    "j = 0\n",
    "f1_scores = np.zeros(20)\n",
    "decision_boundary = np.zeros(20)\n",
    "for i in range(30, 50):\n",
    "    p_train = lr.predict(theta, X_train, (i/100))\n",
    "    f1_scores[j] = f1_score(y_train,p_train,average='binary')\n",
    "    decision_boundary[j] = (i/100)\n",
    "    j += 1\n",
    "    #print(\"zeker: \", i/100)\n",
    "    #print(f1_score(y,p,average='binary'))\n",
    "    \n",
    "index = np.argmax(f1_scores)\n",
    "#print(f1_scores)\n",
    "print(\"max f1 score: \", f1_scores[index])\n",
    "print(\"for decision boundary: \", decision_boundary[index])\n",
    "#print(f1_scores([np.argmax(f1_scores)]))\n",
    "\n",
    "f1_scores_train_types.append('smoking')\n",
    "f1_scores_train_data[5] = f1_scores[index]"
   ]
  },
  {
   "cell_type": "code",
   "execution_count": 93,
   "id": "006b558c",
   "metadata": {},
   "outputs": [
    {
     "name": "stdout",
     "output_type": "stream",
     "text": [
      "Train Accuracy: 79.90 %\n"
     ]
    }
   ],
   "source": [
    "p_train = lr.predict(theta, X_train, decision_boundary[index])\n",
    "print('Train Accuracy: {:.2f} %'.format(np.mean(p_train == y_train) * 100))"
   ]
  },
  {
   "cell_type": "code",
   "execution_count": 94,
   "id": "eab0560b",
   "metadata": {},
   "outputs": [
    {
     "name": "stdout",
     "output_type": "stream",
     "text": [
      "max f1 score:  0.8205128205128205\n",
      "for decision boundary:  0.38\n"
     ]
    }
   ],
   "source": [
    "j = 0\n",
    "f1_scores = np.zeros(20)\n",
    "decision_boundary = np.zeros(20)\n",
    "for i in range(30, 50):\n",
    "    p = lr.predict(theta, X, (i/100))\n",
    "    f1_scores[j] = f1_score(y,p,average='binary')\n",
    "    decision_boundary[j] = (i/100)\n",
    "    j += 1\n",
    "    #print(\"zeker: \", i/100)\n",
    "    #print(f1_score(y,p,average='binary'))\n",
    "    \n",
    "index = np.argmax(f1_scores)\n",
    "#print(f1_scores)\n",
    "print(\"max f1 score: \", f1_scores[index])\n",
    "print(\"for decision boundary: \", decision_boundary[index])\n",
    "#print(f1_scores([np.argmax(f1_scores)]))\n",
    "\n",
    "f1_scores_test_types.append('smoking')\n",
    "f1_scores_test_data[5] = f1_scores[index]"
   ]
  },
  {
   "cell_type": "code",
   "execution_count": null,
   "id": "f952296d",
   "metadata": {},
   "outputs": [],
   "source": []
  },
  {
   "cell_type": "markdown",
   "id": "1fc63f1b",
   "metadata": {},
   "source": [
    "# Feature: bmi"
   ]
  },
  {
   "cell_type": "code",
   "execution_count": 95,
   "id": "249f2021",
   "metadata": {},
   "outputs": [],
   "source": [
    "#  training data stored in arrays X, y\n",
    "#df = pd.read_csv(os.path.join('data', 'healthcare-dataset-stroke-data.csv'))\n",
    "#X = pd.DataFrame(df, columns=['age', 'hypertension', 'heart_disease', 'avg_glucose_level']).to_numpy()\n",
    "#X = np.around(X, 5)\n",
    "#print(\"X: \")\n",
    "#print(X)\n",
    "\n",
    "#y = pd.DataFrame(df, columns=['stroke']).to_numpy()\n",
    "#y = np.around(y, 5)\n",
    "#y.reshape(5110)\n",
    "#print(\"y: \")\n",
    "#print(y)\n",
    " \n",
    "data = pd.read_csv(os.path.join('data', 'healthcare-dataset-stroke-data.csv'))\n",
    "\n",
    "data.head(10)\n",
    "\n",
    "data.drop(\"id\", axis = 1, inplace = True)\n",
    "data.drop(\"gender\", axis = 1, inplace = True)\n",
    "data.drop(\"ever_married\", axis = 1, inplace = True)\n",
    "data.drop(\"work_type\", axis = 1, inplace = True)\n",
    "data.drop(\"Residence_type\", axis = 1, inplace = True)\n",
    "#data.drop(\"bmi\", axis = 1, inplace = True)\n",
    "data.drop(\"smoking_status\", axis = 1, inplace = True)\n",
    "\n",
    "#print(data)"
   ]
  },
  {
   "cell_type": "code",
   "execution_count": 96,
   "id": "41c5b6a5",
   "metadata": {},
   "outputs": [
    {
     "data": {
      "text/plain": [
       "age                    0\n",
       "hypertension           0\n",
       "heart_disease          0\n",
       "avg_glucose_level      0\n",
       "bmi                  201\n",
       "stroke                 0\n",
       "dtype: int64"
      ]
     },
     "execution_count": 96,
     "metadata": {},
     "output_type": "execute_result"
    }
   ],
   "source": [
    "data.isna().sum()   #sum of missing values per variable."
   ]
  },
  {
   "cell_type": "code",
   "execution_count": 97,
   "id": "4f0cb8a5",
   "metadata": {},
   "outputs": [],
   "source": [
    "data = data.dropna(axis = 0)"
   ]
  },
  {
   "cell_type": "code",
   "execution_count": 98,
   "id": "0b8d5c73",
   "metadata": {},
   "outputs": [
    {
     "data": {
      "text/plain": [
       "age                  0\n",
       "hypertension         0\n",
       "heart_disease        0\n",
       "avg_glucose_level    0\n",
       "bmi                  0\n",
       "stroke               0\n",
       "dtype: int64"
      ]
     },
     "execution_count": 98,
     "metadata": {},
     "output_type": "execute_result"
    }
   ],
   "source": [
    "data.isna().sum() "
   ]
  },
  {
   "cell_type": "code",
   "execution_count": 99,
   "id": "42228959",
   "metadata": {},
   "outputs": [
    {
     "data": {
      "text/plain": [
       "1    209\n",
       "0    209\n",
       "Name: stroke, dtype: int64"
      ]
     },
     "execution_count": 99,
     "metadata": {},
     "output_type": "execute_result"
    }
   ],
   "source": [
    "negative = data[data.stroke==0]\n",
    "positive = data[data.stroke==1]\n",
    "\n",
    "#print(data.stroke.value_counts())\n",
    "\n",
    "#print(negative.stroke.value_counts())\n",
    "#print(positive.stroke.value_counts())\n",
    "\n",
    "# downsample majority\n",
    "neg_downsampled = resample(negative,\n",
    " replace=True, # sample with replacement\n",
    " n_samples=len(positive), # match number in minority class\n",
    " random_state=27) # reproducible results\n",
    "# combine minority and downsampled majority\n",
    "downsampled = pd.concat([positive, neg_downsampled])\n",
    "# check new class counts\n",
    "downsampled.stroke.value_counts()"
   ]
  },
  {
   "cell_type": "code",
   "execution_count": 100,
   "id": "368d7c13",
   "metadata": {},
   "outputs": [],
   "source": [
    "X = downsampled.drop(['stroke'], axis=1).values\n",
    "y = downsampled['stroke'].values"
   ]
  },
  {
   "cell_type": "code",
   "execution_count": 101,
   "id": "c4c233ac",
   "metadata": {},
   "outputs": [],
   "source": [
    "# Setup the data matrix appropriately, and add ones for the intercept term\n",
    "m, n = X.shape\n",
    "\n",
    "#print(X.shape)\n",
    "\n",
    "# Add intercept term to X\n",
    "X = np.concatenate([np.ones((m, 1)), X], axis=1)\n",
    "\n",
    "#print(X.shape)\n",
    "#print(X)"
   ]
  },
  {
   "cell_type": "code",
   "execution_count": 102,
   "id": "bd529390",
   "metadata": {},
   "outputs": [
    {
     "name": "stdout",
     "output_type": "stream",
     "text": [
      "(334, 6)\n"
     ]
    }
   ],
   "source": [
    "X_train, X_test, y_train, y_test = train_test_split(X, y, test_size=0.20, random_state=0,shuffle=True, stratify=y)\n",
    "print(X_train.shape)"
   ]
  },
  {
   "cell_type": "code",
   "execution_count": 103,
   "id": "c2d6b1db",
   "metadata": {},
   "outputs": [],
   "source": [
    "_lambda = 1"
   ]
  },
  {
   "cell_type": "code",
   "execution_count": 104,
   "id": "05755ff9",
   "metadata": {},
   "outputs": [],
   "source": [
    "# Initialize fitting parameters\n",
    "initial_theta = np.zeros(n+1)\n",
    "cost, grad = lr.lrCostFunction(initial_theta, X_train, y_train, _lambda)\n",
    "#print(cost)\n",
    "#print(grad)\n",
    "\n",
    "#print(cost.shape)\n",
    "#print(grad.shape)"
   ]
  },
  {
   "cell_type": "code",
   "execution_count": 105,
   "id": "c7979d6c",
   "metadata": {
    "scrolled": true
   },
   "outputs": [
    {
     "name": "stdout",
     "output_type": "stream",
     "text": [
      "Cost at theta found by optimize.minimize: 0.492\n",
      "theta:\n",
      "\t[-4.418, 0.068, 0.393, -0.065, 0.006]\n"
     ]
    }
   ],
   "source": [
    "theta, cost, grad = lr.lrOptimization(lr.lrCostFunction, initial_theta, X_train, y_train, _lambda)"
   ]
  },
  {
   "cell_type": "code",
   "execution_count": 106,
   "id": "97adf878",
   "metadata": {},
   "outputs": [],
   "source": [
    "#print(\"op de training set\")\n",
    "#print(f1_score(y_train,p_train,average='binary'))"
   ]
  },
  {
   "cell_type": "code",
   "execution_count": 107,
   "id": "2af59bd4",
   "metadata": {},
   "outputs": [
    {
     "name": "stdout",
     "output_type": "stream",
     "text": [
      "max f1 score:  0.7846153846153846\n",
      "for decision boundary:  0.36\n"
     ]
    }
   ],
   "source": [
    "j = 0\n",
    "f1_scores = np.zeros(20)\n",
    "decision_boundary = np.zeros(20)\n",
    "for i in range(30, 50):\n",
    "    p_train = lr.predict(theta, X_train, (i/100))\n",
    "    f1_scores[j] = f1_score(y_train,p_train,average='binary')\n",
    "    decision_boundary[j] = (i/100)\n",
    "    j += 1\n",
    "    #print(\"zeker: \", i/100)\n",
    "    #print(f1_score(y,p,average='binary'))\n",
    "    \n",
    "index = np.argmax(f1_scores)\n",
    "#print(f1_scores)\n",
    "print(\"max f1 score: \", f1_scores[index])\n",
    "print(\"for decision boundary: \", decision_boundary[index])\n",
    "#print(f1_scores([np.argmax(f1_scores)]))\n",
    "\n",
    "f1_scores_train_types.append('bmi')\n",
    "f1_scores_train_data[6] = f1_scores[index]"
   ]
  },
  {
   "cell_type": "code",
   "execution_count": 108,
   "id": "7f03081a",
   "metadata": {},
   "outputs": [
    {
     "name": "stdout",
     "output_type": "stream",
     "text": [
      "Train Accuracy: 74.85 %\n"
     ]
    }
   ],
   "source": [
    "p_train = lr.predict(theta, X_train, decision_boundary[index])\n",
    "print('Train Accuracy: {:.2f} %'.format(np.mean(p_train == y_train) * 100))"
   ]
  },
  {
   "cell_type": "code",
   "execution_count": 109,
   "id": "fba217b0",
   "metadata": {},
   "outputs": [
    {
     "name": "stdout",
     "output_type": "stream",
     "text": [
      "max f1 score:  0.7933194154488517\n",
      "for decision boundary:  0.36\n"
     ]
    }
   ],
   "source": [
    "j = 0\n",
    "f1_scores = np.zeros(20)\n",
    "decision_boundary = np.zeros(20)\n",
    "for i in range(30, 50):\n",
    "    p = lr.predict(theta, X, (i/100))\n",
    "    f1_scores[j] = f1_score(y,p,average='binary')\n",
    "    decision_boundary[j] = (i/100)\n",
    "    j += 1\n",
    "    #print(\"zeker: \", i/100)\n",
    "    #print(f1_score(y,p,average='binary'))\n",
    "    \n",
    "index = np.argmax(f1_scores)\n",
    "#print(f1_scores)\n",
    "print(\"max f1 score: \", f1_scores[index])\n",
    "print(\"for decision boundary: \", decision_boundary[index])\n",
    "#print(f1_scores([np.argmax(f1_scores)]))\n",
    "\n",
    "f1_scores_test_types.append('bmi')\n",
    "f1_scores_test_data[6] = f1_scores[index]"
   ]
  },
  {
   "cell_type": "code",
   "execution_count": 110,
   "id": "ea06211a",
   "metadata": {},
   "outputs": [
    {
     "name": "stdout",
     "output_type": "stream",
     "text": [
      "train type:  ['baseline', 'gender', 'married', 'work', 'residence', 'smoking', 'bmi']\n",
      "train data:  [0.81165919 0.80962801 0.81165919 0.81152993 0.81514477 0.81481481\n",
      " 0.78461538]\n",
      "test type:  ['baseline', 'gender', 'married', 'work', 'residence', 'smoking', 'bmi']\n",
      "test data:  [0.81588448 0.81061947 0.81588448 0.81481481 0.81867145 0.82051282\n",
      " 0.79331942]\n"
     ]
    }
   ],
   "source": [
    "print(\"train type: \", f1_scores_train_types)\n",
    "print(\"train data: \", f1_scores_train_data)\n",
    "print(\"test type: \", f1_scores_test_types)\n",
    "print(\"test data: \", f1_scores_test_data)"
   ]
  },
  {
   "cell_type": "code",
   "execution_count": null,
   "id": "3a0b284d",
   "metadata": {},
   "outputs": [],
   "source": []
  }
 ],
 "metadata": {
  "kernelspec": {
   "display_name": "Python 3 (ipykernel)",
   "language": "python",
   "name": "python3"
  },
  "language_info": {
   "codemirror_mode": {
    "name": "ipython",
    "version": 3
   },
   "file_extension": ".py",
   "mimetype": "text/x-python",
   "name": "python",
   "nbconvert_exporter": "python",
   "pygments_lexer": "ipython3",
   "version": "3.9.12"
  },
  "vscode": {
   "interpreter": {
    "hash": "397704579725e15f5c7cb49fe5f0341eb7531c82d19f2c29d197e8b64ab5776b"
   }
  }
 },
 "nbformat": 4,
 "nbformat_minor": 5
}
