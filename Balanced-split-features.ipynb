{
 "cells": [
  {
   "cell_type": "markdown",
   "id": "b4da50cc",
   "metadata": {},
   "source": [
    "# ML stroke prediction - Logistic Regression\n",
    "dataset link: https://www.kaggle.com/datasets/fedesoriano/stroke-prediction-dataset?resource=download\n",
    "\n",
    "## Classification of stroke or no-stroke\n",
    "\n",
    "For the first implementation of Machine Learning on this dataset we are using Logistic Regression"
   ]
  },
  {
   "cell_type": "code",
   "execution_count": 1,
   "id": "f961d9e5",
   "metadata": {},
   "outputs": [],
   "source": [
    "# used for manipulating directory paths\n",
    "import os\n",
    "\n",
    "# Scientific and vector computation for python\n",
    "import numpy as np\n",
    "np.set_printoptions(suppress=True)\n",
    "\n",
    "import logistic_regression as lr\n",
    "\n",
    "\n",
    "import csv\n",
    "import sys\n",
    "from sklearn.model_selection import train_test_split\n",
    "from sklearn.utils import resample\n",
    "# SKlearn for F1 score calculation\n",
    "from sklearn.metrics import f1_score\n",
    "\n",
    "# Plotting library\n",
    "from matplotlib import pyplot\n",
    "\n",
    "# Optimization module in scipy\n",
    "from scipy import optimize\n",
    "\n",
    "# will be used to load MATLAB mat datafile format\n",
    "from scipy.io import loadmat\n",
    "\n",
    "# we use pandas to import a comma-seperated values dataset\n",
    "import pandas as pd\n",
    "\n",
    "# tells matplotlib to embed plots within the notebook\n",
    "%matplotlib inline"
   ]
  },
  {
   "cell_type": "markdown",
   "id": "a2695bf3",
   "metadata": {},
   "source": [
    "### First importing the dataset and small conversions\n",
    "\n",
    "For the first implementation we're just using a limited set of features for the model."
   ]
  },
  {
   "cell_type": "code",
   "execution_count": 2,
   "id": "a7cd6fae",
   "metadata": {},
   "outputs": [
    {
     "name": "stdout",
     "output_type": "stream",
     "text": [
      "       age  hypertension  heart_disease ever_married Residence_type  \\\n",
      "0     67.0             0              1          Yes          Urban   \n",
      "1     61.0             0              0          Yes          Rural   \n",
      "2     80.0             0              1          Yes          Rural   \n",
      "3     49.0             0              0          Yes          Urban   \n",
      "4     79.0             1              0          Yes          Rural   \n",
      "...    ...           ...            ...          ...            ...   \n",
      "5105  80.0             1              0          Yes          Urban   \n",
      "5106  81.0             0              0          Yes          Urban   \n",
      "5107  35.0             0              0          Yes          Rural   \n",
      "5108  51.0             0              0          Yes          Rural   \n",
      "5109  44.0             0              0          Yes          Urban   \n",
      "\n",
      "      avg_glucose_level   smoking_status  stroke  \n",
      "0                228.69  formerly smoked       1  \n",
      "1                202.21     never smoked       1  \n",
      "2                105.92     never smoked       1  \n",
      "3                171.23           smokes       1  \n",
      "4                174.12     never smoked       1  \n",
      "...                 ...              ...     ...  \n",
      "5105              83.75     never smoked       0  \n",
      "5106             125.20     never smoked       0  \n",
      "5107              82.99     never smoked       0  \n",
      "5108             166.29  formerly smoked       0  \n",
      "5109              85.28          Unknown       0  \n",
      "\n",
      "[5110 rows x 8 columns]\n"
     ]
    }
   ],
   "source": [
    "#  training data stored in arrays X, y\n",
    "#df = pd.read_csv(os.path.join('data', 'healthcare-dataset-stroke-data.csv'))\n",
    "#X = pd.DataFrame(df, columns=['age', 'hypertension', 'heart_disease', 'avg_glucose_level']).to_numpy()\n",
    "#X = np.around(X, 5)\n",
    "#print(\"X: \")\n",
    "#print(X)\n",
    "\n",
    "#y = pd.DataFrame(df, columns=['stroke']).to_numpy()\n",
    "#y = np.around(y, 5)\n",
    "#y.reshape(5110)\n",
    "#print(\"y: \")\n",
    "#print(y)\n",
    " \n",
    "data = pd.read_csv(os.path.join('data', 'healthcare-dataset-stroke-data.csv'))\n",
    "\n",
    "data.head(10)\n",
    "\n",
    "data.drop(\"id\", axis = 1, inplace = True)\n",
    "data.drop(\"gender\", axis = 1, inplace = True)\n",
    "#data.drop(\"ever_married\", axis = 1, inplace = True)\n",
    "data.drop(\"work_type\", axis = 1, inplace = True)\n",
    "#data.drop(\"Residence_type\", axis = 1, inplace = True)\n",
    "data.drop(\"bmi\", axis = 1, inplace = True)\n",
    "#data.drop(\"smoking_status\", axis = 1, inplace = True)\n",
    "\n",
    "print(data)"
   ]
  },
  {
   "cell_type": "code",
   "execution_count": 3,
   "id": "0b47e8dd",
   "metadata": {},
   "outputs": [],
   "source": [
    "data = data.dropna(axis = 0)"
   ]
  },
  {
   "cell_type": "markdown",
   "id": "c9b0a2be",
   "metadata": {},
   "source": [
    "## Making dummy classes for the enumertor classes"
   ]
  },
  {
   "cell_type": "code",
   "execution_count": 4,
   "id": "12984c7e",
   "metadata": {},
   "outputs": [],
   "source": [
    "num_cols = data.select_dtypes(include = [np.number]).columns.tolist()\n",
    "obj_cols = data.select_dtypes(exclude = [np.number]).columns.tolist()"
   ]
  },
  {
   "cell_type": "code",
   "execution_count": 5,
   "id": "a9a4f21b",
   "metadata": {},
   "outputs": [
    {
     "name": "stdout",
     "output_type": "stream",
     "text": [
      "(5110, 8)\n"
     ]
    },
    {
     "data": {
      "text/html": [
       "<div>\n",
       "<style scoped>\n",
       "    .dataframe tbody tr th:only-of-type {\n",
       "        vertical-align: middle;\n",
       "    }\n",
       "\n",
       "    .dataframe tbody tr th {\n",
       "        vertical-align: top;\n",
       "    }\n",
       "\n",
       "    .dataframe thead th {\n",
       "        text-align: right;\n",
       "    }\n",
       "</style>\n",
       "<table border=\"1\" class=\"dataframe\">\n",
       "  <thead>\n",
       "    <tr style=\"text-align: right;\">\n",
       "      <th></th>\n",
       "      <th>ever_married_No</th>\n",
       "      <th>ever_married_Yes</th>\n",
       "      <th>Residence_type_Rural</th>\n",
       "      <th>Residence_type_Urban</th>\n",
       "      <th>smoking_status_Unknown</th>\n",
       "      <th>smoking_status_formerly smoked</th>\n",
       "      <th>smoking_status_never smoked</th>\n",
       "      <th>smoking_status_smokes</th>\n",
       "    </tr>\n",
       "  </thead>\n",
       "  <tbody>\n",
       "    <tr>\n",
       "      <th>0</th>\n",
       "      <td>0</td>\n",
       "      <td>1</td>\n",
       "      <td>0</td>\n",
       "      <td>1</td>\n",
       "      <td>0</td>\n",
       "      <td>1</td>\n",
       "      <td>0</td>\n",
       "      <td>0</td>\n",
       "    </tr>\n",
       "    <tr>\n",
       "      <th>1</th>\n",
       "      <td>0</td>\n",
       "      <td>1</td>\n",
       "      <td>1</td>\n",
       "      <td>0</td>\n",
       "      <td>0</td>\n",
       "      <td>0</td>\n",
       "      <td>1</td>\n",
       "      <td>0</td>\n",
       "    </tr>\n",
       "    <tr>\n",
       "      <th>2</th>\n",
       "      <td>0</td>\n",
       "      <td>1</td>\n",
       "      <td>1</td>\n",
       "      <td>0</td>\n",
       "      <td>0</td>\n",
       "      <td>0</td>\n",
       "      <td>1</td>\n",
       "      <td>0</td>\n",
       "    </tr>\n",
       "    <tr>\n",
       "      <th>3</th>\n",
       "      <td>0</td>\n",
       "      <td>1</td>\n",
       "      <td>0</td>\n",
       "      <td>1</td>\n",
       "      <td>0</td>\n",
       "      <td>0</td>\n",
       "      <td>0</td>\n",
       "      <td>1</td>\n",
       "    </tr>\n",
       "    <tr>\n",
       "      <th>4</th>\n",
       "      <td>0</td>\n",
       "      <td>1</td>\n",
       "      <td>1</td>\n",
       "      <td>0</td>\n",
       "      <td>0</td>\n",
       "      <td>0</td>\n",
       "      <td>1</td>\n",
       "      <td>0</td>\n",
       "    </tr>\n",
       "  </tbody>\n",
       "</table>\n",
       "</div>"
      ],
      "text/plain": [
       "   ever_married_No  ever_married_Yes  Residence_type_Rural  \\\n",
       "0                0                 1                     0   \n",
       "1                0                 1                     1   \n",
       "2                0                 1                     1   \n",
       "3                0                 1                     0   \n",
       "4                0                 1                     1   \n",
       "\n",
       "   Residence_type_Urban  smoking_status_Unknown  \\\n",
       "0                     1                       0   \n",
       "1                     0                       0   \n",
       "2                     0                       0   \n",
       "3                     1                       0   \n",
       "4                     0                       0   \n",
       "\n",
       "   smoking_status_formerly smoked  smoking_status_never smoked  \\\n",
       "0                               1                            0   \n",
       "1                               0                            1   \n",
       "2                               0                            1   \n",
       "3                               0                            0   \n",
       "4                               0                            1   \n",
       "\n",
       "   smoking_status_smokes  \n",
       "0                      0  \n",
       "1                      0  \n",
       "2                      0  \n",
       "3                      1  \n",
       "4                      0  "
      ]
     },
     "execution_count": 5,
     "metadata": {},
     "output_type": "execute_result"
    }
   ],
   "source": [
    "# Numerical columns data\n",
    "data_new_num = data[num_cols]\n",
    "\n",
    "# Categorical columns data\n",
    "data_new_cat = data[obj_cols]\n",
    "\n",
    "# Creating dummies\n",
    "data_new_cat_dummies = pd.get_dummies(data_new_cat)\n",
    "print(data_new_cat_dummies.shape)\n",
    "data_new_cat_dummies.head()"
   ]
  },
  {
   "cell_type": "code",
   "execution_count": 6,
   "id": "40857219",
   "metadata": {},
   "outputs": [
    {
     "name": "stdout",
     "output_type": "stream",
     "text": [
      "(5110, 13)\n"
     ]
    },
    {
     "data": {
      "text/html": [
       "<div>\n",
       "<style scoped>\n",
       "    .dataframe tbody tr th:only-of-type {\n",
       "        vertical-align: middle;\n",
       "    }\n",
       "\n",
       "    .dataframe tbody tr th {\n",
       "        vertical-align: top;\n",
       "    }\n",
       "\n",
       "    .dataframe thead th {\n",
       "        text-align: right;\n",
       "    }\n",
       "</style>\n",
       "<table border=\"1\" class=\"dataframe\">\n",
       "  <thead>\n",
       "    <tr style=\"text-align: right;\">\n",
       "      <th></th>\n",
       "      <th>age</th>\n",
       "      <th>hypertension</th>\n",
       "      <th>heart_disease</th>\n",
       "      <th>avg_glucose_level</th>\n",
       "      <th>stroke</th>\n",
       "      <th>ever_married_No</th>\n",
       "      <th>ever_married_Yes</th>\n",
       "      <th>Residence_type_Rural</th>\n",
       "      <th>Residence_type_Urban</th>\n",
       "      <th>smoking_status_Unknown</th>\n",
       "      <th>smoking_status_formerly smoked</th>\n",
       "      <th>smoking_status_never smoked</th>\n",
       "      <th>smoking_status_smokes</th>\n",
       "    </tr>\n",
       "  </thead>\n",
       "  <tbody>\n",
       "    <tr>\n",
       "      <th>0</th>\n",
       "      <td>67.0</td>\n",
       "      <td>0</td>\n",
       "      <td>1</td>\n",
       "      <td>228.69</td>\n",
       "      <td>1</td>\n",
       "      <td>0</td>\n",
       "      <td>1</td>\n",
       "      <td>0</td>\n",
       "      <td>1</td>\n",
       "      <td>0</td>\n",
       "      <td>1</td>\n",
       "      <td>0</td>\n",
       "      <td>0</td>\n",
       "    </tr>\n",
       "    <tr>\n",
       "      <th>1</th>\n",
       "      <td>61.0</td>\n",
       "      <td>0</td>\n",
       "      <td>0</td>\n",
       "      <td>202.21</td>\n",
       "      <td>1</td>\n",
       "      <td>0</td>\n",
       "      <td>1</td>\n",
       "      <td>1</td>\n",
       "      <td>0</td>\n",
       "      <td>0</td>\n",
       "      <td>0</td>\n",
       "      <td>1</td>\n",
       "      <td>0</td>\n",
       "    </tr>\n",
       "    <tr>\n",
       "      <th>2</th>\n",
       "      <td>80.0</td>\n",
       "      <td>0</td>\n",
       "      <td>1</td>\n",
       "      <td>105.92</td>\n",
       "      <td>1</td>\n",
       "      <td>0</td>\n",
       "      <td>1</td>\n",
       "      <td>1</td>\n",
       "      <td>0</td>\n",
       "      <td>0</td>\n",
       "      <td>0</td>\n",
       "      <td>1</td>\n",
       "      <td>0</td>\n",
       "    </tr>\n",
       "    <tr>\n",
       "      <th>3</th>\n",
       "      <td>49.0</td>\n",
       "      <td>0</td>\n",
       "      <td>0</td>\n",
       "      <td>171.23</td>\n",
       "      <td>1</td>\n",
       "      <td>0</td>\n",
       "      <td>1</td>\n",
       "      <td>0</td>\n",
       "      <td>1</td>\n",
       "      <td>0</td>\n",
       "      <td>0</td>\n",
       "      <td>0</td>\n",
       "      <td>1</td>\n",
       "    </tr>\n",
       "    <tr>\n",
       "      <th>4</th>\n",
       "      <td>79.0</td>\n",
       "      <td>1</td>\n",
       "      <td>0</td>\n",
       "      <td>174.12</td>\n",
       "      <td>1</td>\n",
       "      <td>0</td>\n",
       "      <td>1</td>\n",
       "      <td>1</td>\n",
       "      <td>0</td>\n",
       "      <td>0</td>\n",
       "      <td>0</td>\n",
       "      <td>1</td>\n",
       "      <td>0</td>\n",
       "    </tr>\n",
       "  </tbody>\n",
       "</table>\n",
       "</div>"
      ],
      "text/plain": [
       "    age  hypertension  heart_disease  avg_glucose_level  stroke  \\\n",
       "0  67.0             0              1             228.69       1   \n",
       "1  61.0             0              0             202.21       1   \n",
       "2  80.0             0              1             105.92       1   \n",
       "3  49.0             0              0             171.23       1   \n",
       "4  79.0             1              0             174.12       1   \n",
       "\n",
       "   ever_married_No  ever_married_Yes  Residence_type_Rural  \\\n",
       "0                0                 1                     0   \n",
       "1                0                 1                     1   \n",
       "2                0                 1                     1   \n",
       "3                0                 1                     0   \n",
       "4                0                 1                     1   \n",
       "\n",
       "   Residence_type_Urban  smoking_status_Unknown  \\\n",
       "0                     1                       0   \n",
       "1                     0                       0   \n",
       "2                     0                       0   \n",
       "3                     1                       0   \n",
       "4                     0                       0   \n",
       "\n",
       "   smoking_status_formerly smoked  smoking_status_never smoked  \\\n",
       "0                               1                            0   \n",
       "1                               0                            1   \n",
       "2                               0                            1   \n",
       "3                               0                            0   \n",
       "4                               0                            1   \n",
       "\n",
       "   smoking_status_smokes  \n",
       "0                      0  \n",
       "1                      0  \n",
       "2                      0  \n",
       "3                      1  \n",
       "4                      0  "
      ]
     },
     "execution_count": 6,
     "metadata": {},
     "output_type": "execute_result"
    }
   ],
   "source": [
    "data_new_final = pd.concat([data_new_num, data_new_cat_dummies], axis = 1)\n",
    "print(data_new_final.shape)\n",
    "data_new_final.head()"
   ]
  },
  {
   "cell_type": "code",
   "execution_count": 7,
   "id": "38ab42b6",
   "metadata": {},
   "outputs": [
    {
     "name": "stdout",
     "output_type": "stream",
     "text": [
      "<class 'pandas.core.frame.DataFrame'>\n",
      "RangeIndex: 5110 entries, 0 to 5109\n",
      "Data columns (total 13 columns):\n",
      " #   Column                          Non-Null Count  Dtype  \n",
      "---  ------                          --------------  -----  \n",
      " 0   age                             5110 non-null   float64\n",
      " 1   hypertension                    5110 non-null   int64  \n",
      " 2   heart_disease                   5110 non-null   int64  \n",
      " 3   avg_glucose_level               5110 non-null   float64\n",
      " 4   stroke                          5110 non-null   int64  \n",
      " 5   ever_married_No                 5110 non-null   uint8  \n",
      " 6   ever_married_Yes                5110 non-null   uint8  \n",
      " 7   Residence_type_Rural            5110 non-null   uint8  \n",
      " 8   Residence_type_Urban            5110 non-null   uint8  \n",
      " 9   smoking_status_Unknown          5110 non-null   uint8  \n",
      " 10  smoking_status_formerly smoked  5110 non-null   uint8  \n",
      " 11  smoking_status_never smoked     5110 non-null   uint8  \n",
      " 12  smoking_status_smokes           5110 non-null   uint8  \n",
      "dtypes: float64(2), int64(3), uint8(8)\n",
      "memory usage: 239.7 KB\n"
     ]
    }
   ],
   "source": [
    "data_new_final.info()"
   ]
  },
  {
   "cell_type": "markdown",
   "id": "0148f167",
   "metadata": {},
   "source": [
    "# Downsampling of the dataset before split"
   ]
  },
  {
   "cell_type": "code",
   "execution_count": 8,
   "id": "7a785b22",
   "metadata": {},
   "outputs": [
    {
     "data": {
      "text/plain": [
       "1    249\n",
       "0    249\n",
       "Name: stroke, dtype: int64"
      ]
     },
     "execution_count": 8,
     "metadata": {},
     "output_type": "execute_result"
    }
   ],
   "source": [
    "negative = data_new_final[data_new_final.stroke==0]\n",
    "positive = data_new_final[data_new_final.stroke==1]\n",
    "\n",
    "#print(data.stroke.value_counts())\n",
    "\n",
    "#print(negative.stroke.value_counts())\n",
    "#print(positive.stroke.value_counts())\n",
    "\n",
    "# downsample majority\n",
    "neg_downsampled = resample(negative,\n",
    " replace=True, # sample with replacement\n",
    " n_samples=len(positive), # match number in minority class\n",
    " random_state=27) # reproducible results\n",
    "# combine minority and downsampled majority\n",
    "downsampled = pd.concat([positive, neg_downsampled])\n",
    "# check new class counts\n",
    "downsampled.stroke.value_counts()"
   ]
  },
  {
   "cell_type": "code",
   "execution_count": 9,
   "id": "4ea0626b",
   "metadata": {},
   "outputs": [],
   "source": [
    "X = downsampled.drop(['stroke'], axis=1).values\n",
    "y = downsampled['stroke'].values"
   ]
  },
  {
   "cell_type": "markdown",
   "id": "d1ba43ce",
   "metadata": {},
   "source": [
    "# Splitting in train en test set"
   ]
  },
  {
   "cell_type": "markdown",
   "id": "df03ec5a",
   "metadata": {},
   "source": [
    "### preparation of the features\n",
    "Adding a theta 0 equal to 1"
   ]
  },
  {
   "cell_type": "code",
   "execution_count": 10,
   "id": "66e06abc",
   "metadata": {},
   "outputs": [
    {
     "name": "stdout",
     "output_type": "stream",
     "text": [
      "(498, 12)\n",
      "(498, 13)\n"
     ]
    }
   ],
   "source": [
    "# Setup the data matrix appropriately, and add ones for the intercept term\n",
    "m, n = X.shape\n",
    "\n",
    "print(X.shape)\n",
    "\n",
    "# Add intercept term to X\n",
    "X = np.concatenate([np.ones((m, 1)), X], axis=1)\n",
    "\n",
    "print(X.shape)\n",
    "#print(X)"
   ]
  },
  {
   "cell_type": "code",
   "execution_count": 11,
   "id": "c5a549ef",
   "metadata": {},
   "outputs": [
    {
     "name": "stdout",
     "output_type": "stream",
     "text": [
      "(398, 13)\n"
     ]
    }
   ],
   "source": [
    "X_train, X_test, y_train, y_test = train_test_split(X, y, test_size=0.20, random_state=0,shuffle=True, stratify=y)\n",
    "print(X_train.shape)"
   ]
  },
  {
   "cell_type": "markdown",
   "id": "7ad21fa7",
   "metadata": {},
   "source": [
    "# Hierboven maar 1x inladen !!!!"
   ]
  },
  {
   "cell_type": "code",
   "execution_count": 12,
   "id": "ee8491dd",
   "metadata": {},
   "outputs": [],
   "source": [
    "_lambda = 1"
   ]
  },
  {
   "cell_type": "markdown",
   "id": "a8fff23a",
   "metadata": {},
   "source": [
    "### Creating the empty array for theta"
   ]
  },
  {
   "cell_type": "code",
   "execution_count": 13,
   "id": "1b50e394",
   "metadata": {},
   "outputs": [],
   "source": [
    "# Initialize fitting parameters\n",
    "initial_theta = np.zeros(n+1)\n",
    "cost, grad = lr.lrCostFunction(initial_theta, X_train, y_train, _lambda)\n",
    "#print(cost)\n",
    "#print(grad)\n",
    "\n",
    "#print(cost.shape)\n",
    "#print(grad.shape)"
   ]
  },
  {
   "cell_type": "markdown",
   "id": "325e47b5",
   "metadata": {},
   "source": [
    "### Optimizing the parameters (learning the model)"
   ]
  },
  {
   "cell_type": "code",
   "execution_count": 14,
   "id": "a68968cd",
   "metadata": {},
   "outputs": [
    {
     "name": "stdout",
     "output_type": "stream",
     "text": [
      "Cost at theta found by optimize.minimize: 0.456\n",
      "theta:\n",
      "\t[-5.058, 0.076, 1.080, -0.017, 0.006]\n"
     ]
    }
   ],
   "source": [
    "theta, cost, grad = lr.lrOptimization(lr.lrCostFunction, initial_theta, X_train, y_train, _lambda)"
   ]
  },
  {
   "cell_type": "code",
   "execution_count": 15,
   "id": "16d20a4f",
   "metadata": {},
   "outputs": [
    {
     "name": "stdout",
     "output_type": "stream",
     "text": [
      "Train Accuracy: 79.40 %\n"
     ]
    }
   ],
   "source": [
    "p_train = lr.predict(theta, X_train, 0.5)\n",
    "print('Train Accuracy: {:.2f} %'.format(np.mean(p_train == y_train) * 100))"
   ]
  },
  {
   "cell_type": "code",
   "execution_count": 16,
   "id": "a2d0fe3b",
   "metadata": {},
   "outputs": [
    {
     "name": "stdout",
     "output_type": "stream",
     "text": [
      "max f1 score:  0.8196721311475411\n",
      "for decision boundary:  0.46\n"
     ]
    }
   ],
   "source": [
    "j = 0\n",
    "f1_scores = np.zeros(20)\n",
    "decision_boundary = np.zeros(20)\n",
    "for i in range(30, 50):\n",
    "    p_train = lr.predict(theta, X_train, (i/100))\n",
    "    f1_scores[j] = f1_score(y_train,p_train,average='binary')\n",
    "    decision_boundary[j] = (i/100)\n",
    "    j += 1\n",
    "    #print(\"zeker: \", i/100)\n",
    "    #print(f1_score(y,p,average='binary'))\n",
    "    \n",
    "index = np.argmax(f1_scores)\n",
    "\n",
    "print(\"max f1 score: \", f1_scores[index])\n",
    "print(\"for decision boundary: \", decision_boundary[index])"
   ]
  },
  {
   "cell_type": "markdown",
   "id": "6ee523e3",
   "metadata": {},
   "source": [
    "# F1 score op test_set"
   ]
  },
  {
   "cell_type": "code",
   "execution_count": 17,
   "id": "088c287d",
   "metadata": {},
   "outputs": [
    {
     "name": "stdout",
     "output_type": "stream",
     "text": [
      "max f1 score:  0.8598130841121495\n",
      "for decision boundary:  0.37\n"
     ]
    }
   ],
   "source": [
    "j = 0\n",
    "f1_scores = np.zeros(20)\n",
    "decision_boundary = np.zeros(20)\n",
    "for i in range(30, 50):\n",
    "    p_test = lr.predict(theta, X_test, (i/100))\n",
    "    f1_scores[j] = f1_score(y_test,p_test,average='binary')\n",
    "    decision_boundary[j] = (i/100)\n",
    "    j += 1\n",
    "    #print(\"zeker: \", i/100)\n",
    "    #print(f1_score(y,p,average='binary'))\n",
    "    \n",
    "index = np.argmax(f1_scores)\n",
    "\n",
    "print(\"max f1 score: \", f1_scores[index])\n",
    "print(\"for decision boundary: \", decision_boundary[index])"
   ]
  },
  {
   "cell_type": "code",
   "execution_count": 18,
   "id": "51234691",
   "metadata": {},
   "outputs": [],
   "source": [
    "#for i in range(30, 50):\n",
    "#    p_test = lr.predict(theta, X_test, (i/100))\n",
    "#    print(\"zeker: \", i/100)\n",
    "#    print(f1_score(y_test,p_test,average='binary'))"
   ]
  },
  {
   "cell_type": "markdown",
   "id": "3c514a04",
   "metadata": {},
   "source": [
    "## Beste score tot nu toe op de test set:\n",
    "## 85.98 voor een decision boundary van 0.37\n",
    "### met de features: age, heart_disease, hypertension, avg_glucose, smoking_status, ever_maried, residence_type"
   ]
  },
  {
   "cell_type": "code",
   "execution_count": null,
   "id": "e6f63fbf",
   "metadata": {},
   "outputs": [],
   "source": []
  }
 ],
 "metadata": {
  "kernelspec": {
   "display_name": "Python 3 (ipykernel)",
   "language": "python",
   "name": "python3"
  },
  "language_info": {
   "codemirror_mode": {
    "name": "ipython",
    "version": 3
   },
   "file_extension": ".py",
   "mimetype": "text/x-python",
   "name": "python",
   "nbconvert_exporter": "python",
   "pygments_lexer": "ipython3",
   "version": "3.9.12"
  },
  "vscode": {
   "interpreter": {
    "hash": "397704579725e15f5c7cb49fe5f0341eb7531c82d19f2c29d197e8b64ab5776b"
   }
  }
 },
 "nbformat": 4,
 "nbformat_minor": 5
}
